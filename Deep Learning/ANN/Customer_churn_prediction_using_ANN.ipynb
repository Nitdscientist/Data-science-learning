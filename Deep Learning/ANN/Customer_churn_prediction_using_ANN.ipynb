{
  "nbformat": 4,
  "nbformat_minor": 0,
  "metadata": {
    "colab": {
      "provenance": [],
      "gpuType": "T4"
    },
    "kernelspec": {
      "name": "python3",
      "display_name": "Python 3"
    },
    "language_info": {
      "name": "python"
    },
    "accelerator": "GPU"
  },
  "cells": [
    {
      "cell_type": "code",
      "source": [
        "import pandas as pd\n",
        "import numpy as np\n",
        "import seaborn as sns\n",
        "import matplotlib.pyplot as plt"
      ],
      "metadata": {
        "id": "bruomB8nnhcG"
      },
      "execution_count": 98,
      "outputs": []
    },
    {
      "cell_type": "code",
      "execution_count": 99,
      "metadata": {
        "colab": {
          "base_uri": "https://localhost:8080/",
          "height": 226
        },
        "id": "EWjK_OC4nGox",
        "outputId": "79c38881-9655-44f9-b04f-8f304ee702be"
      },
      "outputs": [
        {
          "output_type": "execute_result",
          "data": {
            "text/plain": [
              "   RowNumber  CustomerId   Surname  CreditScore Geography  Gender  Age  \\\n",
              "0          1    15634602  Hargrave          619    France  Female   42   \n",
              "1          2    15647311      Hill          608     Spain  Female   41   \n",
              "2          3    15619304      Onio          502    France  Female   42   \n",
              "3          4    15701354      Boni          699    France  Female   39   \n",
              "4          5    15737888  Mitchell          850     Spain  Female   43   \n",
              "\n",
              "   Tenure    Balance  NumOfProducts  HasCrCard  IsActiveMember  \\\n",
              "0       2       0.00              1          1               1   \n",
              "1       1   83807.86              1          0               1   \n",
              "2       8  159660.80              3          1               0   \n",
              "3       1       0.00              2          0               0   \n",
              "4       2  125510.82              1          1               1   \n",
              "\n",
              "   EstimatedSalary  Exited  \n",
              "0        101348.88       1  \n",
              "1        112542.58       0  \n",
              "2        113931.57       1  \n",
              "3         93826.63       0  \n",
              "4         79084.10       0  "
            ],
            "text/html": [
              "\n",
              "  <div id=\"df-9001fab1-40e5-404f-9245-fffdf663eee4\" class=\"colab-df-container\">\n",
              "    <div>\n",
              "<style scoped>\n",
              "    .dataframe tbody tr th:only-of-type {\n",
              "        vertical-align: middle;\n",
              "    }\n",
              "\n",
              "    .dataframe tbody tr th {\n",
              "        vertical-align: top;\n",
              "    }\n",
              "\n",
              "    .dataframe thead th {\n",
              "        text-align: right;\n",
              "    }\n",
              "</style>\n",
              "<table border=\"1\" class=\"dataframe\">\n",
              "  <thead>\n",
              "    <tr style=\"text-align: right;\">\n",
              "      <th></th>\n",
              "      <th>RowNumber</th>\n",
              "      <th>CustomerId</th>\n",
              "      <th>Surname</th>\n",
              "      <th>CreditScore</th>\n",
              "      <th>Geography</th>\n",
              "      <th>Gender</th>\n",
              "      <th>Age</th>\n",
              "      <th>Tenure</th>\n",
              "      <th>Balance</th>\n",
              "      <th>NumOfProducts</th>\n",
              "      <th>HasCrCard</th>\n",
              "      <th>IsActiveMember</th>\n",
              "      <th>EstimatedSalary</th>\n",
              "      <th>Exited</th>\n",
              "    </tr>\n",
              "  </thead>\n",
              "  <tbody>\n",
              "    <tr>\n",
              "      <th>0</th>\n",
              "      <td>1</td>\n",
              "      <td>15634602</td>\n",
              "      <td>Hargrave</td>\n",
              "      <td>619</td>\n",
              "      <td>France</td>\n",
              "      <td>Female</td>\n",
              "      <td>42</td>\n",
              "      <td>2</td>\n",
              "      <td>0.00</td>\n",
              "      <td>1</td>\n",
              "      <td>1</td>\n",
              "      <td>1</td>\n",
              "      <td>101348.88</td>\n",
              "      <td>1</td>\n",
              "    </tr>\n",
              "    <tr>\n",
              "      <th>1</th>\n",
              "      <td>2</td>\n",
              "      <td>15647311</td>\n",
              "      <td>Hill</td>\n",
              "      <td>608</td>\n",
              "      <td>Spain</td>\n",
              "      <td>Female</td>\n",
              "      <td>41</td>\n",
              "      <td>1</td>\n",
              "      <td>83807.86</td>\n",
              "      <td>1</td>\n",
              "      <td>0</td>\n",
              "      <td>1</td>\n",
              "      <td>112542.58</td>\n",
              "      <td>0</td>\n",
              "    </tr>\n",
              "    <tr>\n",
              "      <th>2</th>\n",
              "      <td>3</td>\n",
              "      <td>15619304</td>\n",
              "      <td>Onio</td>\n",
              "      <td>502</td>\n",
              "      <td>France</td>\n",
              "      <td>Female</td>\n",
              "      <td>42</td>\n",
              "      <td>8</td>\n",
              "      <td>159660.80</td>\n",
              "      <td>3</td>\n",
              "      <td>1</td>\n",
              "      <td>0</td>\n",
              "      <td>113931.57</td>\n",
              "      <td>1</td>\n",
              "    </tr>\n",
              "    <tr>\n",
              "      <th>3</th>\n",
              "      <td>4</td>\n",
              "      <td>15701354</td>\n",
              "      <td>Boni</td>\n",
              "      <td>699</td>\n",
              "      <td>France</td>\n",
              "      <td>Female</td>\n",
              "      <td>39</td>\n",
              "      <td>1</td>\n",
              "      <td>0.00</td>\n",
              "      <td>2</td>\n",
              "      <td>0</td>\n",
              "      <td>0</td>\n",
              "      <td>93826.63</td>\n",
              "      <td>0</td>\n",
              "    </tr>\n",
              "    <tr>\n",
              "      <th>4</th>\n",
              "      <td>5</td>\n",
              "      <td>15737888</td>\n",
              "      <td>Mitchell</td>\n",
              "      <td>850</td>\n",
              "      <td>Spain</td>\n",
              "      <td>Female</td>\n",
              "      <td>43</td>\n",
              "      <td>2</td>\n",
              "      <td>125510.82</td>\n",
              "      <td>1</td>\n",
              "      <td>1</td>\n",
              "      <td>1</td>\n",
              "      <td>79084.10</td>\n",
              "      <td>0</td>\n",
              "    </tr>\n",
              "  </tbody>\n",
              "</table>\n",
              "</div>\n",
              "    <div class=\"colab-df-buttons\">\n",
              "\n",
              "  <div class=\"colab-df-container\">\n",
              "    <button class=\"colab-df-convert\" onclick=\"convertToInteractive('df-9001fab1-40e5-404f-9245-fffdf663eee4')\"\n",
              "            title=\"Convert this dataframe to an interactive table.\"\n",
              "            style=\"display:none;\">\n",
              "\n",
              "  <svg xmlns=\"http://www.w3.org/2000/svg\" height=\"24px\" viewBox=\"0 -960 960 960\">\n",
              "    <path d=\"M120-120v-720h720v720H120Zm60-500h600v-160H180v160Zm220 220h160v-160H400v160Zm0 220h160v-160H400v160ZM180-400h160v-160H180v160Zm440 0h160v-160H620v160ZM180-180h160v-160H180v160Zm440 0h160v-160H620v160Z\"/>\n",
              "  </svg>\n",
              "    </button>\n",
              "\n",
              "  <style>\n",
              "    .colab-df-container {\n",
              "      display:flex;\n",
              "      gap: 12px;\n",
              "    }\n",
              "\n",
              "    .colab-df-convert {\n",
              "      background-color: #E8F0FE;\n",
              "      border: none;\n",
              "      border-radius: 50%;\n",
              "      cursor: pointer;\n",
              "      display: none;\n",
              "      fill: #1967D2;\n",
              "      height: 32px;\n",
              "      padding: 0 0 0 0;\n",
              "      width: 32px;\n",
              "    }\n",
              "\n",
              "    .colab-df-convert:hover {\n",
              "      background-color: #E2EBFA;\n",
              "      box-shadow: 0px 1px 2px rgba(60, 64, 67, 0.3), 0px 1px 3px 1px rgba(60, 64, 67, 0.15);\n",
              "      fill: #174EA6;\n",
              "    }\n",
              "\n",
              "    .colab-df-buttons div {\n",
              "      margin-bottom: 4px;\n",
              "    }\n",
              "\n",
              "    [theme=dark] .colab-df-convert {\n",
              "      background-color: #3B4455;\n",
              "      fill: #D2E3FC;\n",
              "    }\n",
              "\n",
              "    [theme=dark] .colab-df-convert:hover {\n",
              "      background-color: #434B5C;\n",
              "      box-shadow: 0px 1px 3px 1px rgba(0, 0, 0, 0.15);\n",
              "      filter: drop-shadow(0px 1px 2px rgba(0, 0, 0, 0.3));\n",
              "      fill: #FFFFFF;\n",
              "    }\n",
              "  </style>\n",
              "\n",
              "    <script>\n",
              "      const buttonEl =\n",
              "        document.querySelector('#df-9001fab1-40e5-404f-9245-fffdf663eee4 button.colab-df-convert');\n",
              "      buttonEl.style.display =\n",
              "        google.colab.kernel.accessAllowed ? 'block' : 'none';\n",
              "\n",
              "      async function convertToInteractive(key) {\n",
              "        const element = document.querySelector('#df-9001fab1-40e5-404f-9245-fffdf663eee4');\n",
              "        const dataTable =\n",
              "          await google.colab.kernel.invokeFunction('convertToInteractive',\n",
              "                                                    [key], {});\n",
              "        if (!dataTable) return;\n",
              "\n",
              "        const docLinkHtml = 'Like what you see? Visit the ' +\n",
              "          '<a target=\"_blank\" href=https://colab.research.google.com/notebooks/data_table.ipynb>data table notebook</a>'\n",
              "          + ' to learn more about interactive tables.';\n",
              "        element.innerHTML = '';\n",
              "        dataTable['output_type'] = 'display_data';\n",
              "        await google.colab.output.renderOutput(dataTable, element);\n",
              "        const docLink = document.createElement('div');\n",
              "        docLink.innerHTML = docLinkHtml;\n",
              "        element.appendChild(docLink);\n",
              "      }\n",
              "    </script>\n",
              "  </div>\n",
              "\n",
              "\n",
              "<div id=\"df-dd4ac32e-8f13-45ce-a2fd-e98148745533\">\n",
              "  <button class=\"colab-df-quickchart\" onclick=\"quickchart('df-dd4ac32e-8f13-45ce-a2fd-e98148745533')\"\n",
              "            title=\"Suggest charts\"\n",
              "            style=\"display:none;\">\n",
              "\n",
              "<svg xmlns=\"http://www.w3.org/2000/svg\" height=\"24px\"viewBox=\"0 0 24 24\"\n",
              "     width=\"24px\">\n",
              "    <g>\n",
              "        <path d=\"M19 3H5c-1.1 0-2 .9-2 2v14c0 1.1.9 2 2 2h14c1.1 0 2-.9 2-2V5c0-1.1-.9-2-2-2zM9 17H7v-7h2v7zm4 0h-2V7h2v10zm4 0h-2v-4h2v4z\"/>\n",
              "    </g>\n",
              "</svg>\n",
              "  </button>\n",
              "\n",
              "<style>\n",
              "  .colab-df-quickchart {\n",
              "      --bg-color: #E8F0FE;\n",
              "      --fill-color: #1967D2;\n",
              "      --hover-bg-color: #E2EBFA;\n",
              "      --hover-fill-color: #174EA6;\n",
              "      --disabled-fill-color: #AAA;\n",
              "      --disabled-bg-color: #DDD;\n",
              "  }\n",
              "\n",
              "  [theme=dark] .colab-df-quickchart {\n",
              "      --bg-color: #3B4455;\n",
              "      --fill-color: #D2E3FC;\n",
              "      --hover-bg-color: #434B5C;\n",
              "      --hover-fill-color: #FFFFFF;\n",
              "      --disabled-bg-color: #3B4455;\n",
              "      --disabled-fill-color: #666;\n",
              "  }\n",
              "\n",
              "  .colab-df-quickchart {\n",
              "    background-color: var(--bg-color);\n",
              "    border: none;\n",
              "    border-radius: 50%;\n",
              "    cursor: pointer;\n",
              "    display: none;\n",
              "    fill: var(--fill-color);\n",
              "    height: 32px;\n",
              "    padding: 0;\n",
              "    width: 32px;\n",
              "  }\n",
              "\n",
              "  .colab-df-quickchart:hover {\n",
              "    background-color: var(--hover-bg-color);\n",
              "    box-shadow: 0 1px 2px rgba(60, 64, 67, 0.3), 0 1px 3px 1px rgba(60, 64, 67, 0.15);\n",
              "    fill: var(--button-hover-fill-color);\n",
              "  }\n",
              "\n",
              "  .colab-df-quickchart-complete:disabled,\n",
              "  .colab-df-quickchart-complete:disabled:hover {\n",
              "    background-color: var(--disabled-bg-color);\n",
              "    fill: var(--disabled-fill-color);\n",
              "    box-shadow: none;\n",
              "  }\n",
              "\n",
              "  .colab-df-spinner {\n",
              "    border: 2px solid var(--fill-color);\n",
              "    border-color: transparent;\n",
              "    border-bottom-color: var(--fill-color);\n",
              "    animation:\n",
              "      spin 1s steps(1) infinite;\n",
              "  }\n",
              "\n",
              "  @keyframes spin {\n",
              "    0% {\n",
              "      border-color: transparent;\n",
              "      border-bottom-color: var(--fill-color);\n",
              "      border-left-color: var(--fill-color);\n",
              "    }\n",
              "    20% {\n",
              "      border-color: transparent;\n",
              "      border-left-color: var(--fill-color);\n",
              "      border-top-color: var(--fill-color);\n",
              "    }\n",
              "    30% {\n",
              "      border-color: transparent;\n",
              "      border-left-color: var(--fill-color);\n",
              "      border-top-color: var(--fill-color);\n",
              "      border-right-color: var(--fill-color);\n",
              "    }\n",
              "    40% {\n",
              "      border-color: transparent;\n",
              "      border-right-color: var(--fill-color);\n",
              "      border-top-color: var(--fill-color);\n",
              "    }\n",
              "    60% {\n",
              "      border-color: transparent;\n",
              "      border-right-color: var(--fill-color);\n",
              "    }\n",
              "    80% {\n",
              "      border-color: transparent;\n",
              "      border-right-color: var(--fill-color);\n",
              "      border-bottom-color: var(--fill-color);\n",
              "    }\n",
              "    90% {\n",
              "      border-color: transparent;\n",
              "      border-bottom-color: var(--fill-color);\n",
              "    }\n",
              "  }\n",
              "</style>\n",
              "\n",
              "  <script>\n",
              "    async function quickchart(key) {\n",
              "      const quickchartButtonEl =\n",
              "        document.querySelector('#' + key + ' button');\n",
              "      quickchartButtonEl.disabled = true;  // To prevent multiple clicks.\n",
              "      quickchartButtonEl.classList.add('colab-df-spinner');\n",
              "      try {\n",
              "        const charts = await google.colab.kernel.invokeFunction(\n",
              "            'suggestCharts', [key], {});\n",
              "      } catch (error) {\n",
              "        console.error('Error during call to suggestCharts:', error);\n",
              "      }\n",
              "      quickchartButtonEl.classList.remove('colab-df-spinner');\n",
              "      quickchartButtonEl.classList.add('colab-df-quickchart-complete');\n",
              "    }\n",
              "    (() => {\n",
              "      let quickchartButtonEl =\n",
              "        document.querySelector('#df-dd4ac32e-8f13-45ce-a2fd-e98148745533 button');\n",
              "      quickchartButtonEl.style.display =\n",
              "        google.colab.kernel.accessAllowed ? 'block' : 'none';\n",
              "    })();\n",
              "  </script>\n",
              "</div>\n",
              "    </div>\n",
              "  </div>\n"
            ]
          },
          "metadata": {},
          "execution_count": 99
        }
      ],
      "source": [
        "df=pd.read_csv(\"Churn_Modelling.csv\")\n",
        "df.head()"
      ]
    },
    {
      "cell_type": "code",
      "source": [
        "df.info()"
      ],
      "metadata": {
        "colab": {
          "base_uri": "https://localhost:8080/"
        },
        "id": "RCYkoUvunfbG",
        "outputId": "f0701b19-ff18-48b0-dbf6-dd2f6c45b805"
      },
      "execution_count": 100,
      "outputs": [
        {
          "output_type": "stream",
          "name": "stdout",
          "text": [
            "<class 'pandas.core.frame.DataFrame'>\n",
            "RangeIndex: 10000 entries, 0 to 9999\n",
            "Data columns (total 14 columns):\n",
            " #   Column           Non-Null Count  Dtype  \n",
            "---  ------           --------------  -----  \n",
            " 0   RowNumber        10000 non-null  int64  \n",
            " 1   CustomerId       10000 non-null  int64  \n",
            " 2   Surname          10000 non-null  object \n",
            " 3   CreditScore      10000 non-null  int64  \n",
            " 4   Geography        10000 non-null  object \n",
            " 5   Gender           10000 non-null  object \n",
            " 6   Age              10000 non-null  int64  \n",
            " 7   Tenure           10000 non-null  int64  \n",
            " 8   Balance          10000 non-null  float64\n",
            " 9   NumOfProducts    10000 non-null  int64  \n",
            " 10  HasCrCard        10000 non-null  int64  \n",
            " 11  IsActiveMember   10000 non-null  int64  \n",
            " 12  EstimatedSalary  10000 non-null  float64\n",
            " 13  Exited           10000 non-null  int64  \n",
            "dtypes: float64(2), int64(9), object(3)\n",
            "memory usage: 1.1+ MB\n"
          ]
        }
      ]
    },
    {
      "cell_type": "code",
      "source": [
        "df.duplicated().sum()"
      ],
      "metadata": {
        "colab": {
          "base_uri": "https://localhost:8080/"
        },
        "id": "tvOvJWocny4T",
        "outputId": "f71b039c-398d-4dfd-f970-cf50f2a14796"
      },
      "execution_count": 101,
      "outputs": [
        {
          "output_type": "execute_result",
          "data": {
            "text/plain": [
              "0"
            ]
          },
          "metadata": {},
          "execution_count": 101
        }
      ]
    },
    {
      "cell_type": "code",
      "source": [
        "df[\"Exited\"].value_counts()"
      ],
      "metadata": {
        "colab": {
          "base_uri": "https://localhost:8080/"
        },
        "id": "h8Rnx_KYny7V",
        "outputId": "4b565d06-dfec-4788-a899-47485289521a"
      },
      "execution_count": 102,
      "outputs": [
        {
          "output_type": "execute_result",
          "data": {
            "text/plain": [
              "0    7963\n",
              "1    2037\n",
              "Name: Exited, dtype: int64"
            ]
          },
          "metadata": {},
          "execution_count": 102
        }
      ]
    },
    {
      "cell_type": "code",
      "source": [
        "df.columns"
      ],
      "metadata": {
        "colab": {
          "base_uri": "https://localhost:8080/"
        },
        "id": "uVwZ5F_fny-B",
        "outputId": "11fec5ab-244a-4bb9-c2bb-a39d1708a1f0"
      },
      "execution_count": 103,
      "outputs": [
        {
          "output_type": "execute_result",
          "data": {
            "text/plain": [
              "Index(['RowNumber', 'CustomerId', 'Surname', 'CreditScore', 'Geography',\n",
              "       'Gender', 'Age', 'Tenure', 'Balance', 'NumOfProducts', 'HasCrCard',\n",
              "       'IsActiveMember', 'EstimatedSalary', 'Exited'],\n",
              "      dtype='object')"
            ]
          },
          "metadata": {},
          "execution_count": 103
        }
      ]
    },
    {
      "cell_type": "code",
      "source": [
        "df[\"Geography\"].value_counts()"
      ],
      "metadata": {
        "colab": {
          "base_uri": "https://localhost:8080/"
        },
        "id": "VpHYl3gOnzBM",
        "outputId": "02c90bef-87ca-4200-8e40-339e6552b130"
      },
      "execution_count": 104,
      "outputs": [
        {
          "output_type": "execute_result",
          "data": {
            "text/plain": [
              "France     5014\n",
              "Germany    2509\n",
              "Spain      2477\n",
              "Name: Geography, dtype: int64"
            ]
          },
          "metadata": {},
          "execution_count": 104
        }
      ]
    },
    {
      "cell_type": "code",
      "source": [
        "df[\"Gender\"].value_counts()"
      ],
      "metadata": {
        "colab": {
          "base_uri": "https://localhost:8080/"
        },
        "id": "TkOr-S-3nzEW",
        "outputId": "18d03826-2a89-46b7-effb-a54ea3b726b0"
      },
      "execution_count": 105,
      "outputs": [
        {
          "output_type": "execute_result",
          "data": {
            "text/plain": [
              "Male      5457\n",
              "Female    4543\n",
              "Name: Gender, dtype: int64"
            ]
          },
          "metadata": {},
          "execution_count": 105
        }
      ]
    },
    {
      "cell_type": "code",
      "source": [
        "df.drop(columns=['RowNumber', 'CustomerId', 'Surname'],inplace=True)"
      ],
      "metadata": {
        "id": "xJBOs6OLnzHi"
      },
      "execution_count": 106,
      "outputs": []
    },
    {
      "cell_type": "code",
      "source": [
        "df.head()"
      ],
      "metadata": {
        "colab": {
          "base_uri": "https://localhost:8080/",
          "height": 226
        },
        "id": "zE-V5nBxnzKZ",
        "outputId": "fc15f9b5-7dbd-45bc-f01f-ca5cc3df683b"
      },
      "execution_count": 107,
      "outputs": [
        {
          "output_type": "execute_result",
          "data": {
            "text/plain": [
              "   CreditScore Geography  Gender  Age  Tenure    Balance  NumOfProducts  \\\n",
              "0          619    France  Female   42       2       0.00              1   \n",
              "1          608     Spain  Female   41       1   83807.86              1   \n",
              "2          502    France  Female   42       8  159660.80              3   \n",
              "3          699    France  Female   39       1       0.00              2   \n",
              "4          850     Spain  Female   43       2  125510.82              1   \n",
              "\n",
              "   HasCrCard  IsActiveMember  EstimatedSalary  Exited  \n",
              "0          1               1        101348.88       1  \n",
              "1          0               1        112542.58       0  \n",
              "2          1               0        113931.57       1  \n",
              "3          0               0         93826.63       0  \n",
              "4          1               1         79084.10       0  "
            ],
            "text/html": [
              "\n",
              "  <div id=\"df-421a498f-500a-4814-b980-6d002f40dc8b\" class=\"colab-df-container\">\n",
              "    <div>\n",
              "<style scoped>\n",
              "    .dataframe tbody tr th:only-of-type {\n",
              "        vertical-align: middle;\n",
              "    }\n",
              "\n",
              "    .dataframe tbody tr th {\n",
              "        vertical-align: top;\n",
              "    }\n",
              "\n",
              "    .dataframe thead th {\n",
              "        text-align: right;\n",
              "    }\n",
              "</style>\n",
              "<table border=\"1\" class=\"dataframe\">\n",
              "  <thead>\n",
              "    <tr style=\"text-align: right;\">\n",
              "      <th></th>\n",
              "      <th>CreditScore</th>\n",
              "      <th>Geography</th>\n",
              "      <th>Gender</th>\n",
              "      <th>Age</th>\n",
              "      <th>Tenure</th>\n",
              "      <th>Balance</th>\n",
              "      <th>NumOfProducts</th>\n",
              "      <th>HasCrCard</th>\n",
              "      <th>IsActiveMember</th>\n",
              "      <th>EstimatedSalary</th>\n",
              "      <th>Exited</th>\n",
              "    </tr>\n",
              "  </thead>\n",
              "  <tbody>\n",
              "    <tr>\n",
              "      <th>0</th>\n",
              "      <td>619</td>\n",
              "      <td>France</td>\n",
              "      <td>Female</td>\n",
              "      <td>42</td>\n",
              "      <td>2</td>\n",
              "      <td>0.00</td>\n",
              "      <td>1</td>\n",
              "      <td>1</td>\n",
              "      <td>1</td>\n",
              "      <td>101348.88</td>\n",
              "      <td>1</td>\n",
              "    </tr>\n",
              "    <tr>\n",
              "      <th>1</th>\n",
              "      <td>608</td>\n",
              "      <td>Spain</td>\n",
              "      <td>Female</td>\n",
              "      <td>41</td>\n",
              "      <td>1</td>\n",
              "      <td>83807.86</td>\n",
              "      <td>1</td>\n",
              "      <td>0</td>\n",
              "      <td>1</td>\n",
              "      <td>112542.58</td>\n",
              "      <td>0</td>\n",
              "    </tr>\n",
              "    <tr>\n",
              "      <th>2</th>\n",
              "      <td>502</td>\n",
              "      <td>France</td>\n",
              "      <td>Female</td>\n",
              "      <td>42</td>\n",
              "      <td>8</td>\n",
              "      <td>159660.80</td>\n",
              "      <td>3</td>\n",
              "      <td>1</td>\n",
              "      <td>0</td>\n",
              "      <td>113931.57</td>\n",
              "      <td>1</td>\n",
              "    </tr>\n",
              "    <tr>\n",
              "      <th>3</th>\n",
              "      <td>699</td>\n",
              "      <td>France</td>\n",
              "      <td>Female</td>\n",
              "      <td>39</td>\n",
              "      <td>1</td>\n",
              "      <td>0.00</td>\n",
              "      <td>2</td>\n",
              "      <td>0</td>\n",
              "      <td>0</td>\n",
              "      <td>93826.63</td>\n",
              "      <td>0</td>\n",
              "    </tr>\n",
              "    <tr>\n",
              "      <th>4</th>\n",
              "      <td>850</td>\n",
              "      <td>Spain</td>\n",
              "      <td>Female</td>\n",
              "      <td>43</td>\n",
              "      <td>2</td>\n",
              "      <td>125510.82</td>\n",
              "      <td>1</td>\n",
              "      <td>1</td>\n",
              "      <td>1</td>\n",
              "      <td>79084.10</td>\n",
              "      <td>0</td>\n",
              "    </tr>\n",
              "  </tbody>\n",
              "</table>\n",
              "</div>\n",
              "    <div class=\"colab-df-buttons\">\n",
              "\n",
              "  <div class=\"colab-df-container\">\n",
              "    <button class=\"colab-df-convert\" onclick=\"convertToInteractive('df-421a498f-500a-4814-b980-6d002f40dc8b')\"\n",
              "            title=\"Convert this dataframe to an interactive table.\"\n",
              "            style=\"display:none;\">\n",
              "\n",
              "  <svg xmlns=\"http://www.w3.org/2000/svg\" height=\"24px\" viewBox=\"0 -960 960 960\">\n",
              "    <path d=\"M120-120v-720h720v720H120Zm60-500h600v-160H180v160Zm220 220h160v-160H400v160Zm0 220h160v-160H400v160ZM180-400h160v-160H180v160Zm440 0h160v-160H620v160ZM180-180h160v-160H180v160Zm440 0h160v-160H620v160Z\"/>\n",
              "  </svg>\n",
              "    </button>\n",
              "\n",
              "  <style>\n",
              "    .colab-df-container {\n",
              "      display:flex;\n",
              "      gap: 12px;\n",
              "    }\n",
              "\n",
              "    .colab-df-convert {\n",
              "      background-color: #E8F0FE;\n",
              "      border: none;\n",
              "      border-radius: 50%;\n",
              "      cursor: pointer;\n",
              "      display: none;\n",
              "      fill: #1967D2;\n",
              "      height: 32px;\n",
              "      padding: 0 0 0 0;\n",
              "      width: 32px;\n",
              "    }\n",
              "\n",
              "    .colab-df-convert:hover {\n",
              "      background-color: #E2EBFA;\n",
              "      box-shadow: 0px 1px 2px rgba(60, 64, 67, 0.3), 0px 1px 3px 1px rgba(60, 64, 67, 0.15);\n",
              "      fill: #174EA6;\n",
              "    }\n",
              "\n",
              "    .colab-df-buttons div {\n",
              "      margin-bottom: 4px;\n",
              "    }\n",
              "\n",
              "    [theme=dark] .colab-df-convert {\n",
              "      background-color: #3B4455;\n",
              "      fill: #D2E3FC;\n",
              "    }\n",
              "\n",
              "    [theme=dark] .colab-df-convert:hover {\n",
              "      background-color: #434B5C;\n",
              "      box-shadow: 0px 1px 3px 1px rgba(0, 0, 0, 0.15);\n",
              "      filter: drop-shadow(0px 1px 2px rgba(0, 0, 0, 0.3));\n",
              "      fill: #FFFFFF;\n",
              "    }\n",
              "  </style>\n",
              "\n",
              "    <script>\n",
              "      const buttonEl =\n",
              "        document.querySelector('#df-421a498f-500a-4814-b980-6d002f40dc8b button.colab-df-convert');\n",
              "      buttonEl.style.display =\n",
              "        google.colab.kernel.accessAllowed ? 'block' : 'none';\n",
              "\n",
              "      async function convertToInteractive(key) {\n",
              "        const element = document.querySelector('#df-421a498f-500a-4814-b980-6d002f40dc8b');\n",
              "        const dataTable =\n",
              "          await google.colab.kernel.invokeFunction('convertToInteractive',\n",
              "                                                    [key], {});\n",
              "        if (!dataTable) return;\n",
              "\n",
              "        const docLinkHtml = 'Like what you see? Visit the ' +\n",
              "          '<a target=\"_blank\" href=https://colab.research.google.com/notebooks/data_table.ipynb>data table notebook</a>'\n",
              "          + ' to learn more about interactive tables.';\n",
              "        element.innerHTML = '';\n",
              "        dataTable['output_type'] = 'display_data';\n",
              "        await google.colab.output.renderOutput(dataTable, element);\n",
              "        const docLink = document.createElement('div');\n",
              "        docLink.innerHTML = docLinkHtml;\n",
              "        element.appendChild(docLink);\n",
              "      }\n",
              "    </script>\n",
              "  </div>\n",
              "\n",
              "\n",
              "<div id=\"df-587c0b4d-9914-46cc-9605-efe50568adcd\">\n",
              "  <button class=\"colab-df-quickchart\" onclick=\"quickchart('df-587c0b4d-9914-46cc-9605-efe50568adcd')\"\n",
              "            title=\"Suggest charts\"\n",
              "            style=\"display:none;\">\n",
              "\n",
              "<svg xmlns=\"http://www.w3.org/2000/svg\" height=\"24px\"viewBox=\"0 0 24 24\"\n",
              "     width=\"24px\">\n",
              "    <g>\n",
              "        <path d=\"M19 3H5c-1.1 0-2 .9-2 2v14c0 1.1.9 2 2 2h14c1.1 0 2-.9 2-2V5c0-1.1-.9-2-2-2zM9 17H7v-7h2v7zm4 0h-2V7h2v10zm4 0h-2v-4h2v4z\"/>\n",
              "    </g>\n",
              "</svg>\n",
              "  </button>\n",
              "\n",
              "<style>\n",
              "  .colab-df-quickchart {\n",
              "      --bg-color: #E8F0FE;\n",
              "      --fill-color: #1967D2;\n",
              "      --hover-bg-color: #E2EBFA;\n",
              "      --hover-fill-color: #174EA6;\n",
              "      --disabled-fill-color: #AAA;\n",
              "      --disabled-bg-color: #DDD;\n",
              "  }\n",
              "\n",
              "  [theme=dark] .colab-df-quickchart {\n",
              "      --bg-color: #3B4455;\n",
              "      --fill-color: #D2E3FC;\n",
              "      --hover-bg-color: #434B5C;\n",
              "      --hover-fill-color: #FFFFFF;\n",
              "      --disabled-bg-color: #3B4455;\n",
              "      --disabled-fill-color: #666;\n",
              "  }\n",
              "\n",
              "  .colab-df-quickchart {\n",
              "    background-color: var(--bg-color);\n",
              "    border: none;\n",
              "    border-radius: 50%;\n",
              "    cursor: pointer;\n",
              "    display: none;\n",
              "    fill: var(--fill-color);\n",
              "    height: 32px;\n",
              "    padding: 0;\n",
              "    width: 32px;\n",
              "  }\n",
              "\n",
              "  .colab-df-quickchart:hover {\n",
              "    background-color: var(--hover-bg-color);\n",
              "    box-shadow: 0 1px 2px rgba(60, 64, 67, 0.3), 0 1px 3px 1px rgba(60, 64, 67, 0.15);\n",
              "    fill: var(--button-hover-fill-color);\n",
              "  }\n",
              "\n",
              "  .colab-df-quickchart-complete:disabled,\n",
              "  .colab-df-quickchart-complete:disabled:hover {\n",
              "    background-color: var(--disabled-bg-color);\n",
              "    fill: var(--disabled-fill-color);\n",
              "    box-shadow: none;\n",
              "  }\n",
              "\n",
              "  .colab-df-spinner {\n",
              "    border: 2px solid var(--fill-color);\n",
              "    border-color: transparent;\n",
              "    border-bottom-color: var(--fill-color);\n",
              "    animation:\n",
              "      spin 1s steps(1) infinite;\n",
              "  }\n",
              "\n",
              "  @keyframes spin {\n",
              "    0% {\n",
              "      border-color: transparent;\n",
              "      border-bottom-color: var(--fill-color);\n",
              "      border-left-color: var(--fill-color);\n",
              "    }\n",
              "    20% {\n",
              "      border-color: transparent;\n",
              "      border-left-color: var(--fill-color);\n",
              "      border-top-color: var(--fill-color);\n",
              "    }\n",
              "    30% {\n",
              "      border-color: transparent;\n",
              "      border-left-color: var(--fill-color);\n",
              "      border-top-color: var(--fill-color);\n",
              "      border-right-color: var(--fill-color);\n",
              "    }\n",
              "    40% {\n",
              "      border-color: transparent;\n",
              "      border-right-color: var(--fill-color);\n",
              "      border-top-color: var(--fill-color);\n",
              "    }\n",
              "    60% {\n",
              "      border-color: transparent;\n",
              "      border-right-color: var(--fill-color);\n",
              "    }\n",
              "    80% {\n",
              "      border-color: transparent;\n",
              "      border-right-color: var(--fill-color);\n",
              "      border-bottom-color: var(--fill-color);\n",
              "    }\n",
              "    90% {\n",
              "      border-color: transparent;\n",
              "      border-bottom-color: var(--fill-color);\n",
              "    }\n",
              "  }\n",
              "</style>\n",
              "\n",
              "  <script>\n",
              "    async function quickchart(key) {\n",
              "      const quickchartButtonEl =\n",
              "        document.querySelector('#' + key + ' button');\n",
              "      quickchartButtonEl.disabled = true;  // To prevent multiple clicks.\n",
              "      quickchartButtonEl.classList.add('colab-df-spinner');\n",
              "      try {\n",
              "        const charts = await google.colab.kernel.invokeFunction(\n",
              "            'suggestCharts', [key], {});\n",
              "      } catch (error) {\n",
              "        console.error('Error during call to suggestCharts:', error);\n",
              "      }\n",
              "      quickchartButtonEl.classList.remove('colab-df-spinner');\n",
              "      quickchartButtonEl.classList.add('colab-df-quickchart-complete');\n",
              "    }\n",
              "    (() => {\n",
              "      let quickchartButtonEl =\n",
              "        document.querySelector('#df-587c0b4d-9914-46cc-9605-efe50568adcd button');\n",
              "      quickchartButtonEl.style.display =\n",
              "        google.colab.kernel.accessAllowed ? 'block' : 'none';\n",
              "    })();\n",
              "  </script>\n",
              "</div>\n",
              "    </div>\n",
              "  </div>\n"
            ]
          },
          "metadata": {},
          "execution_count": 107
        }
      ]
    },
    {
      "cell_type": "code",
      "source": [
        "df=pd.get_dummies(df,columns=['Geography','Gender'],drop_first=True)"
      ],
      "metadata": {
        "id": "QDSE7vNNoieX"
      },
      "execution_count": 108,
      "outputs": []
    },
    {
      "cell_type": "code",
      "source": [
        "X=df.drop(columns=[\"Exited\"])\n",
        "y=df[\"Exited\"]"
      ],
      "metadata": {
        "id": "elqougg5pdf3"
      },
      "execution_count": 109,
      "outputs": []
    },
    {
      "cell_type": "code",
      "source": [
        "from sklearn.model_selection import train_test_split\n",
        "X_train,X_test,y_train,y_test=train_test_split(X,y,test_size=0.2,random_state=42)"
      ],
      "metadata": {
        "id": "Y0WkbPDPorOJ"
      },
      "execution_count": 110,
      "outputs": []
    },
    {
      "cell_type": "code",
      "source": [
        "X.shape,y.shape"
      ],
      "metadata": {
        "colab": {
          "base_uri": "https://localhost:8080/"
        },
        "id": "nuOrtTCPorRS",
        "outputId": "9c5c2b36-a488-47d8-ab80-593051b0ed12"
      },
      "execution_count": 111,
      "outputs": [
        {
          "output_type": "execute_result",
          "data": {
            "text/plain": [
              "((10000, 11), (10000,))"
            ]
          },
          "metadata": {},
          "execution_count": 111
        }
      ]
    },
    {
      "cell_type": "code",
      "source": [
        "X_train.shape,X_test.shape,y_train.shape,y_test.shape"
      ],
      "metadata": {
        "colab": {
          "base_uri": "https://localhost:8080/"
        },
        "id": "hBr12BunorUX",
        "outputId": "a0a2eaf7-6a54-400a-8ab0-76014511d77b"
      },
      "execution_count": 112,
      "outputs": [
        {
          "output_type": "execute_result",
          "data": {
            "text/plain": [
              "((8000, 11), (2000, 11), (8000,), (2000,))"
            ]
          },
          "metadata": {},
          "execution_count": 112
        }
      ]
    },
    {
      "cell_type": "code",
      "source": [
        "from sklearn.preprocessing import StandardScaler\n",
        "scaler=StandardScaler()\n",
        "X_train_scaled=scaler.fit_transform(X_train)\n",
        "X_test_scaled=scaler.transform(X_test)"
      ],
      "metadata": {
        "id": "9l2uTH-PorXE"
      },
      "execution_count": 113,
      "outputs": []
    },
    {
      "cell_type": "code",
      "source": [
        "X_train_scaled"
      ],
      "metadata": {
        "colab": {
          "base_uri": "https://localhost:8080/"
        },
        "id": "YwSUIlA0ordt",
        "outputId": "9c3ebb26-96c5-488a-8ce4-d9592a500624"
      },
      "execution_count": 114,
      "outputs": [
        {
          "output_type": "execute_result",
          "data": {
            "text/plain": [
              "array([[ 0.35649971, -0.6557859 ,  0.34567966, ..., -0.57946723,\n",
              "        -0.57638802,  0.91324755],\n",
              "       [-0.20389777,  0.29493847, -0.3483691 , ...,  1.72572313,\n",
              "        -0.57638802,  0.91324755],\n",
              "       [-0.96147213, -1.41636539, -0.69539349, ..., -0.57946723,\n",
              "         1.73494238,  0.91324755],\n",
              "       ...,\n",
              "       [ 0.86500853, -0.08535128, -1.38944225, ..., -0.57946723,\n",
              "        -0.57638802, -1.09499335],\n",
              "       [ 0.15932282,  0.3900109 ,  1.03972843, ..., -0.57946723,\n",
              "        -0.57638802,  0.91324755],\n",
              "       [ 0.47065475,  1.15059039, -1.38944225, ...,  1.72572313,\n",
              "        -0.57638802,  0.91324755]])"
            ]
          },
          "metadata": {},
          "execution_count": 114
        }
      ]
    },
    {
      "cell_type": "code",
      "source": [
        "X_test_scaled"
      ],
      "metadata": {
        "colab": {
          "base_uri": "https://localhost:8080/"
        },
        "id": "JqsbCyqOs20L",
        "outputId": "95210491-b835-43e0-f134-9737581791d9"
      },
      "execution_count": 115,
      "outputs": [
        {
          "output_type": "execute_result",
          "data": {
            "text/plain": [
              "array([[-0.57749609, -0.6557859 , -0.69539349, ...,  1.72572313,\n",
              "        -0.57638802,  0.91324755],\n",
              "       [-0.29729735,  0.3900109 , -1.38944225, ..., -0.57946723,\n",
              "        -0.57638802,  0.91324755],\n",
              "       [-0.52560743,  0.48508334, -0.3483691 , ..., -0.57946723,\n",
              "         1.73494238, -1.09499335],\n",
              "       ...,\n",
              "       [ 0.81311987,  0.77030065,  0.69270405, ..., -0.57946723,\n",
              "        -0.57638802, -1.09499335],\n",
              "       [ 0.41876609, -0.94100321, -0.3483691 , ..., -0.57946723,\n",
              "        -0.57638802,  0.91324755],\n",
              "       [-0.24540869,  0.00972116, -1.38944225, ...,  1.72572313,\n",
              "        -0.57638802,  0.91324755]])"
            ]
          },
          "metadata": {},
          "execution_count": 115
        }
      ]
    },
    {
      "cell_type": "code",
      "source": [
        "import tensorflow\n",
        "from tensorflow import keras\n",
        "from tensorflow.keras import Sequential\n",
        "from tensorflow.keras.layers import Dense"
      ],
      "metadata": {
        "id": "Qf4_OIJfs24J"
      },
      "execution_count": 116,
      "outputs": []
    },
    {
      "cell_type": "code",
      "source": [
        "model=Sequential()"
      ],
      "metadata": {
        "id": "F8h--Lq7s27d"
      },
      "execution_count": 117,
      "outputs": []
    },
    {
      "cell_type": "code",
      "source": [
        "X.shape"
      ],
      "metadata": {
        "colab": {
          "base_uri": "https://localhost:8080/"
        },
        "id": "nFp17c8At_I9",
        "outputId": "bb365f4b-552c-486b-9472-2311495b638a"
      },
      "execution_count": 118,
      "outputs": [
        {
          "output_type": "execute_result",
          "data": {
            "text/plain": [
              "(10000, 11)"
            ]
          },
          "metadata": {},
          "execution_count": 118
        }
      ]
    },
    {
      "cell_type": "code",
      "source": [
        "model.add(Dense(11,activation=\"relu\",input_dim=11))\n",
        "model.add(Dense(11,activation=\"relu\",input_dim=11))\n",
        "model.add(Dense(1,activation=\"sigmoid\"))"
      ],
      "metadata": {
        "id": "QzPgSlY9s2-Y"
      },
      "execution_count": 119,
      "outputs": []
    },
    {
      "cell_type": "code",
      "source": [
        "model.summary()"
      ],
      "metadata": {
        "colab": {
          "base_uri": "https://localhost:8080/"
        },
        "id": "6d53jBvZs3BY",
        "outputId": "672f2612-9368-43ac-d8a5-6781d15a8256"
      },
      "execution_count": 120,
      "outputs": [
        {
          "output_type": "stream",
          "name": "stdout",
          "text": [
            "Model: \"sequential_3\"\n",
            "_________________________________________________________________\n",
            " Layer (type)                Output Shape              Param #   \n",
            "=================================================================\n",
            " dense_9 (Dense)             (None, 11)                132       \n",
            "                                                                 \n",
            " dense_10 (Dense)            (None, 11)                132       \n",
            "                                                                 \n",
            " dense_11 (Dense)            (None, 1)                 12        \n",
            "                                                                 \n",
            "=================================================================\n",
            "Total params: 276 (1.08 KB)\n",
            "Trainable params: 276 (1.08 KB)\n",
            "Non-trainable params: 0 (0.00 Byte)\n",
            "_________________________________________________________________\n"
          ]
        }
      ]
    },
    {
      "cell_type": "code",
      "source": [
        "model.compile(loss=\"binary_crossentropy\",optimizer=\"Adam\",metrics=[\"accuracy\"])"
      ],
      "metadata": {
        "id": "hpGNyWuWs3E4"
      },
      "execution_count": 121,
      "outputs": []
    },
    {
      "cell_type": "code",
      "source": [
        "history=model.fit(X_train_scaled,y_train,epochs=100,validation_split=0.2)\n",
        "history"
      ],
      "metadata": {
        "colab": {
          "base_uri": "https://localhost:8080/"
        },
        "id": "BXzpmRans3In",
        "outputId": "1082ec20-8164-498c-82c6-637f3de00f24"
      },
      "execution_count": 122,
      "outputs": [
        {
          "output_type": "stream",
          "name": "stdout",
          "text": [
            "Epoch 1/100\n",
            "200/200 [==============================] - 2s 4ms/step - loss: 0.5133 - accuracy: 0.7772 - val_loss: 0.4544 - val_accuracy: 0.7987\n",
            "Epoch 2/100\n",
            "200/200 [==============================] - 1s 3ms/step - loss: 0.4606 - accuracy: 0.7950 - val_loss: 0.4332 - val_accuracy: 0.8138\n",
            "Epoch 3/100\n",
            "200/200 [==============================] - 1s 4ms/step - loss: 0.4419 - accuracy: 0.8053 - val_loss: 0.4199 - val_accuracy: 0.8250\n",
            "Epoch 4/100\n",
            "200/200 [==============================] - 1s 3ms/step - loss: 0.4276 - accuracy: 0.8155 - val_loss: 0.4065 - val_accuracy: 0.8288\n",
            "Epoch 5/100\n",
            "200/200 [==============================] - 1s 4ms/step - loss: 0.4119 - accuracy: 0.8223 - val_loss: 0.3929 - val_accuracy: 0.8369\n",
            "Epoch 6/100\n",
            "200/200 [==============================] - 1s 4ms/step - loss: 0.3941 - accuracy: 0.8361 - val_loss: 0.3800 - val_accuracy: 0.8356\n",
            "Epoch 7/100\n",
            "200/200 [==============================] - 1s 5ms/step - loss: 0.3780 - accuracy: 0.8450 - val_loss: 0.3702 - val_accuracy: 0.8413\n",
            "Epoch 8/100\n",
            "200/200 [==============================] - 1s 5ms/step - loss: 0.3672 - accuracy: 0.8484 - val_loss: 0.3621 - val_accuracy: 0.8500\n",
            "Epoch 9/100\n",
            "200/200 [==============================] - 1s 4ms/step - loss: 0.3587 - accuracy: 0.8520 - val_loss: 0.3590 - val_accuracy: 0.8487\n",
            "Epoch 10/100\n",
            "200/200 [==============================] - 1s 4ms/step - loss: 0.3538 - accuracy: 0.8545 - val_loss: 0.3549 - val_accuracy: 0.8550\n",
            "Epoch 11/100\n",
            "200/200 [==============================] - 1s 3ms/step - loss: 0.3512 - accuracy: 0.8530 - val_loss: 0.3532 - val_accuracy: 0.8537\n",
            "Epoch 12/100\n",
            "200/200 [==============================] - 1s 4ms/step - loss: 0.3488 - accuracy: 0.8548 - val_loss: 0.3512 - val_accuracy: 0.8556\n",
            "Epoch 13/100\n",
            "200/200 [==============================] - 1s 4ms/step - loss: 0.3466 - accuracy: 0.8536 - val_loss: 0.3498 - val_accuracy: 0.8562\n",
            "Epoch 14/100\n",
            "200/200 [==============================] - 1s 3ms/step - loss: 0.3453 - accuracy: 0.8570 - val_loss: 0.3493 - val_accuracy: 0.8581\n",
            "Epoch 15/100\n",
            "200/200 [==============================] - 1s 3ms/step - loss: 0.3438 - accuracy: 0.8566 - val_loss: 0.3482 - val_accuracy: 0.8537\n",
            "Epoch 16/100\n",
            "200/200 [==============================] - 1s 3ms/step - loss: 0.3423 - accuracy: 0.8578 - val_loss: 0.3490 - val_accuracy: 0.8581\n",
            "Epoch 17/100\n",
            "200/200 [==============================] - 1s 3ms/step - loss: 0.3415 - accuracy: 0.8592 - val_loss: 0.3490 - val_accuracy: 0.8550\n",
            "Epoch 18/100\n",
            "200/200 [==============================] - 1s 3ms/step - loss: 0.3410 - accuracy: 0.8569 - val_loss: 0.3477 - val_accuracy: 0.8556\n",
            "Epoch 19/100\n",
            "200/200 [==============================] - 1s 3ms/step - loss: 0.3396 - accuracy: 0.8583 - val_loss: 0.3476 - val_accuracy: 0.8544\n",
            "Epoch 20/100\n",
            "200/200 [==============================] - 1s 4ms/step - loss: 0.3392 - accuracy: 0.8583 - val_loss: 0.3478 - val_accuracy: 0.8550\n",
            "Epoch 21/100\n",
            "200/200 [==============================] - 1s 3ms/step - loss: 0.3388 - accuracy: 0.8611 - val_loss: 0.3483 - val_accuracy: 0.8550\n",
            "Epoch 22/100\n",
            "200/200 [==============================] - 1s 4ms/step - loss: 0.3382 - accuracy: 0.8606 - val_loss: 0.3472 - val_accuracy: 0.8544\n",
            "Epoch 23/100\n",
            "200/200 [==============================] - 1s 4ms/step - loss: 0.3373 - accuracy: 0.8591 - val_loss: 0.3481 - val_accuracy: 0.8587\n",
            "Epoch 24/100\n",
            "200/200 [==============================] - 1s 5ms/step - loss: 0.3377 - accuracy: 0.8583 - val_loss: 0.3472 - val_accuracy: 0.8587\n",
            "Epoch 25/100\n",
            "200/200 [==============================] - 1s 5ms/step - loss: 0.3367 - accuracy: 0.8600 - val_loss: 0.3481 - val_accuracy: 0.8569\n",
            "Epoch 26/100\n",
            "200/200 [==============================] - 1s 3ms/step - loss: 0.3362 - accuracy: 0.8605 - val_loss: 0.3473 - val_accuracy: 0.8581\n",
            "Epoch 27/100\n",
            "200/200 [==============================] - 1s 3ms/step - loss: 0.3357 - accuracy: 0.8598 - val_loss: 0.3474 - val_accuracy: 0.8569\n",
            "Epoch 28/100\n",
            "200/200 [==============================] - 1s 4ms/step - loss: 0.3353 - accuracy: 0.8614 - val_loss: 0.3466 - val_accuracy: 0.8556\n",
            "Epoch 29/100\n",
            "200/200 [==============================] - 1s 4ms/step - loss: 0.3349 - accuracy: 0.8603 - val_loss: 0.3472 - val_accuracy: 0.8556\n",
            "Epoch 30/100\n",
            "200/200 [==============================] - 1s 4ms/step - loss: 0.3344 - accuracy: 0.8608 - val_loss: 0.3482 - val_accuracy: 0.8562\n",
            "Epoch 31/100\n",
            "200/200 [==============================] - 1s 4ms/step - loss: 0.3343 - accuracy: 0.8605 - val_loss: 0.3476 - val_accuracy: 0.8575\n",
            "Epoch 32/100\n",
            "200/200 [==============================] - 1s 4ms/step - loss: 0.3334 - accuracy: 0.8609 - val_loss: 0.3479 - val_accuracy: 0.8587\n",
            "Epoch 33/100\n",
            "200/200 [==============================] - 1s 4ms/step - loss: 0.3331 - accuracy: 0.8619 - val_loss: 0.3484 - val_accuracy: 0.8556\n",
            "Epoch 34/100\n",
            "200/200 [==============================] - 1s 3ms/step - loss: 0.3333 - accuracy: 0.8620 - val_loss: 0.3475 - val_accuracy: 0.8537\n",
            "Epoch 35/100\n",
            "200/200 [==============================] - 1s 4ms/step - loss: 0.3325 - accuracy: 0.8614 - val_loss: 0.3475 - val_accuracy: 0.8569\n",
            "Epoch 36/100\n",
            "200/200 [==============================] - 1s 3ms/step - loss: 0.3322 - accuracy: 0.8623 - val_loss: 0.3475 - val_accuracy: 0.8581\n",
            "Epoch 37/100\n",
            "200/200 [==============================] - 1s 3ms/step - loss: 0.3321 - accuracy: 0.8630 - val_loss: 0.3473 - val_accuracy: 0.8556\n",
            "Epoch 38/100\n",
            "200/200 [==============================] - 1s 3ms/step - loss: 0.3317 - accuracy: 0.8623 - val_loss: 0.3474 - val_accuracy: 0.8519\n",
            "Epoch 39/100\n",
            "200/200 [==============================] - 1s 4ms/step - loss: 0.3315 - accuracy: 0.8641 - val_loss: 0.3469 - val_accuracy: 0.8537\n",
            "Epoch 40/100\n",
            "200/200 [==============================] - 1s 5ms/step - loss: 0.3307 - accuracy: 0.8598 - val_loss: 0.3496 - val_accuracy: 0.8525\n",
            "Epoch 41/100\n",
            "200/200 [==============================] - 1s 5ms/step - loss: 0.3314 - accuracy: 0.8625 - val_loss: 0.3472 - val_accuracy: 0.8562\n",
            "Epoch 42/100\n",
            "200/200 [==============================] - 1s 4ms/step - loss: 0.3307 - accuracy: 0.8630 - val_loss: 0.3474 - val_accuracy: 0.8537\n",
            "Epoch 43/100\n",
            "200/200 [==============================] - 1s 4ms/step - loss: 0.3308 - accuracy: 0.8631 - val_loss: 0.3477 - val_accuracy: 0.8544\n",
            "Epoch 44/100\n",
            "200/200 [==============================] - 1s 3ms/step - loss: 0.3304 - accuracy: 0.8634 - val_loss: 0.3469 - val_accuracy: 0.8550\n",
            "Epoch 45/100\n",
            "200/200 [==============================] - 1s 3ms/step - loss: 0.3303 - accuracy: 0.8631 - val_loss: 0.3464 - val_accuracy: 0.8550\n",
            "Epoch 46/100\n",
            "200/200 [==============================] - 1s 4ms/step - loss: 0.3300 - accuracy: 0.8647 - val_loss: 0.3469 - val_accuracy: 0.8525\n",
            "Epoch 47/100\n",
            "200/200 [==============================] - 1s 3ms/step - loss: 0.3297 - accuracy: 0.8633 - val_loss: 0.3477 - val_accuracy: 0.8544\n",
            "Epoch 48/100\n",
            "200/200 [==============================] - 1s 3ms/step - loss: 0.3290 - accuracy: 0.8631 - val_loss: 0.3470 - val_accuracy: 0.8531\n",
            "Epoch 49/100\n",
            "200/200 [==============================] - 1s 4ms/step - loss: 0.3292 - accuracy: 0.8630 - val_loss: 0.3468 - val_accuracy: 0.8525\n",
            "Epoch 50/100\n",
            "200/200 [==============================] - 1s 4ms/step - loss: 0.3288 - accuracy: 0.8633 - val_loss: 0.3472 - val_accuracy: 0.8519\n",
            "Epoch 51/100\n",
            "200/200 [==============================] - 1s 3ms/step - loss: 0.3291 - accuracy: 0.8633 - val_loss: 0.3469 - val_accuracy: 0.8512\n",
            "Epoch 52/100\n",
            "200/200 [==============================] - 1s 3ms/step - loss: 0.3289 - accuracy: 0.8630 - val_loss: 0.3484 - val_accuracy: 0.8512\n",
            "Epoch 53/100\n",
            "200/200 [==============================] - 1s 3ms/step - loss: 0.3285 - accuracy: 0.8644 - val_loss: 0.3469 - val_accuracy: 0.8550\n",
            "Epoch 54/100\n",
            "200/200 [==============================] - 1s 3ms/step - loss: 0.3285 - accuracy: 0.8634 - val_loss: 0.3464 - val_accuracy: 0.8525\n",
            "Epoch 55/100\n",
            "200/200 [==============================] - 1s 3ms/step - loss: 0.3284 - accuracy: 0.8623 - val_loss: 0.3462 - val_accuracy: 0.8544\n",
            "Epoch 56/100\n",
            "200/200 [==============================] - 1s 4ms/step - loss: 0.3285 - accuracy: 0.8612 - val_loss: 0.3461 - val_accuracy: 0.8531\n",
            "Epoch 57/100\n",
            "200/200 [==============================] - 1s 5ms/step - loss: 0.3282 - accuracy: 0.8637 - val_loss: 0.3457 - val_accuracy: 0.8550\n",
            "Epoch 58/100\n",
            "200/200 [==============================] - 1s 4ms/step - loss: 0.3278 - accuracy: 0.8650 - val_loss: 0.3469 - val_accuracy: 0.8544\n",
            "Epoch 59/100\n",
            "200/200 [==============================] - 1s 4ms/step - loss: 0.3278 - accuracy: 0.8641 - val_loss: 0.3457 - val_accuracy: 0.8525\n",
            "Epoch 60/100\n",
            "200/200 [==============================] - 1s 3ms/step - loss: 0.3275 - accuracy: 0.8636 - val_loss: 0.3459 - val_accuracy: 0.8556\n",
            "Epoch 61/100\n",
            "200/200 [==============================] - 1s 4ms/step - loss: 0.3273 - accuracy: 0.8662 - val_loss: 0.3460 - val_accuracy: 0.8537\n",
            "Epoch 62/100\n",
            "200/200 [==============================] - 1s 3ms/step - loss: 0.3275 - accuracy: 0.8642 - val_loss: 0.3463 - val_accuracy: 0.8525\n",
            "Epoch 63/100\n",
            "200/200 [==============================] - 1s 3ms/step - loss: 0.3272 - accuracy: 0.8658 - val_loss: 0.3465 - val_accuracy: 0.8531\n",
            "Epoch 64/100\n",
            "200/200 [==============================] - 1s 3ms/step - loss: 0.3267 - accuracy: 0.8636 - val_loss: 0.3462 - val_accuracy: 0.8531\n",
            "Epoch 65/100\n",
            "200/200 [==============================] - 1s 3ms/step - loss: 0.3272 - accuracy: 0.8630 - val_loss: 0.3459 - val_accuracy: 0.8556\n",
            "Epoch 66/100\n",
            "200/200 [==============================] - 1s 4ms/step - loss: 0.3265 - accuracy: 0.8639 - val_loss: 0.3463 - val_accuracy: 0.8525\n",
            "Epoch 67/100\n",
            "200/200 [==============================] - 1s 4ms/step - loss: 0.3267 - accuracy: 0.8644 - val_loss: 0.3464 - val_accuracy: 0.8562\n",
            "Epoch 68/100\n",
            "200/200 [==============================] - 1s 4ms/step - loss: 0.3259 - accuracy: 0.8642 - val_loss: 0.3476 - val_accuracy: 0.8531\n",
            "Epoch 69/100\n",
            "200/200 [==============================] - 1s 3ms/step - loss: 0.3258 - accuracy: 0.8644 - val_loss: 0.3474 - val_accuracy: 0.8525\n",
            "Epoch 70/100\n",
            "200/200 [==============================] - 1s 3ms/step - loss: 0.3266 - accuracy: 0.8652 - val_loss: 0.3471 - val_accuracy: 0.8544\n",
            "Epoch 71/100\n",
            "200/200 [==============================] - 1s 3ms/step - loss: 0.3258 - accuracy: 0.8642 - val_loss: 0.3469 - val_accuracy: 0.8544\n",
            "Epoch 72/100\n",
            "200/200 [==============================] - 1s 4ms/step - loss: 0.3261 - accuracy: 0.8647 - val_loss: 0.3464 - val_accuracy: 0.8531\n",
            "Epoch 73/100\n",
            "200/200 [==============================] - 1s 5ms/step - loss: 0.3255 - accuracy: 0.8662 - val_loss: 0.3487 - val_accuracy: 0.8537\n",
            "Epoch 74/100\n",
            "200/200 [==============================] - 1s 5ms/step - loss: 0.3254 - accuracy: 0.8652 - val_loss: 0.3468 - val_accuracy: 0.8544\n",
            "Epoch 75/100\n",
            "200/200 [==============================] - 1s 4ms/step - loss: 0.3255 - accuracy: 0.8655 - val_loss: 0.3471 - val_accuracy: 0.8556\n",
            "Epoch 76/100\n",
            "200/200 [==============================] - 1s 4ms/step - loss: 0.3249 - accuracy: 0.8650 - val_loss: 0.3477 - val_accuracy: 0.8525\n",
            "Epoch 77/100\n",
            "200/200 [==============================] - 1s 3ms/step - loss: 0.3247 - accuracy: 0.8652 - val_loss: 0.3476 - val_accuracy: 0.8525\n",
            "Epoch 78/100\n",
            "200/200 [==============================] - 1s 3ms/step - loss: 0.3251 - accuracy: 0.8656 - val_loss: 0.3475 - val_accuracy: 0.8550\n",
            "Epoch 79/100\n",
            "200/200 [==============================] - 1s 4ms/step - loss: 0.3245 - accuracy: 0.8673 - val_loss: 0.3481 - val_accuracy: 0.8525\n",
            "Epoch 80/100\n",
            "200/200 [==============================] - 1s 6ms/step - loss: 0.3249 - accuracy: 0.8645 - val_loss: 0.3482 - val_accuracy: 0.8556\n",
            "Epoch 81/100\n",
            "200/200 [==============================] - 1s 4ms/step - loss: 0.3247 - accuracy: 0.8653 - val_loss: 0.3483 - val_accuracy: 0.8506\n",
            "Epoch 82/100\n",
            "200/200 [==============================] - 1s 3ms/step - loss: 0.3244 - accuracy: 0.8652 - val_loss: 0.3479 - val_accuracy: 0.8500\n",
            "Epoch 83/100\n",
            "200/200 [==============================] - 1s 3ms/step - loss: 0.3242 - accuracy: 0.8637 - val_loss: 0.3468 - val_accuracy: 0.8525\n",
            "Epoch 84/100\n",
            "200/200 [==============================] - 1s 4ms/step - loss: 0.3243 - accuracy: 0.8655 - val_loss: 0.3499 - val_accuracy: 0.8550\n",
            "Epoch 85/100\n",
            "200/200 [==============================] - 1s 3ms/step - loss: 0.3243 - accuracy: 0.8662 - val_loss: 0.3483 - val_accuracy: 0.8512\n",
            "Epoch 86/100\n",
            "200/200 [==============================] - 1s 3ms/step - loss: 0.3237 - accuracy: 0.8659 - val_loss: 0.3477 - val_accuracy: 0.8556\n",
            "Epoch 87/100\n",
            "200/200 [==============================] - 1s 4ms/step - loss: 0.3233 - accuracy: 0.8661 - val_loss: 0.3483 - val_accuracy: 0.8519\n",
            "Epoch 88/100\n",
            "200/200 [==============================] - 1s 4ms/step - loss: 0.3234 - accuracy: 0.8653 - val_loss: 0.3479 - val_accuracy: 0.8512\n",
            "Epoch 89/100\n",
            "200/200 [==============================] - 1s 5ms/step - loss: 0.3237 - accuracy: 0.8655 - val_loss: 0.3480 - val_accuracy: 0.8537\n",
            "Epoch 90/100\n",
            "200/200 [==============================] - 1s 5ms/step - loss: 0.3237 - accuracy: 0.8652 - val_loss: 0.3477 - val_accuracy: 0.8531\n",
            "Epoch 91/100\n",
            "200/200 [==============================] - 1s 4ms/step - loss: 0.3229 - accuracy: 0.8656 - val_loss: 0.3481 - val_accuracy: 0.8537\n",
            "Epoch 92/100\n",
            "200/200 [==============================] - 1s 6ms/step - loss: 0.3227 - accuracy: 0.8666 - val_loss: 0.3478 - val_accuracy: 0.8531\n",
            "Epoch 93/100\n",
            "200/200 [==============================] - 1s 5ms/step - loss: 0.3223 - accuracy: 0.8655 - val_loss: 0.3479 - val_accuracy: 0.8512\n",
            "Epoch 94/100\n",
            "200/200 [==============================] - 1s 3ms/step - loss: 0.3226 - accuracy: 0.8662 - val_loss: 0.3479 - val_accuracy: 0.8556\n",
            "Epoch 95/100\n",
            "200/200 [==============================] - 1s 4ms/step - loss: 0.3222 - accuracy: 0.8633 - val_loss: 0.3481 - val_accuracy: 0.8537\n",
            "Epoch 96/100\n",
            "200/200 [==============================] - 1s 3ms/step - loss: 0.3219 - accuracy: 0.8655 - val_loss: 0.3471 - val_accuracy: 0.8562\n",
            "Epoch 97/100\n",
            "200/200 [==============================] - 1s 3ms/step - loss: 0.3218 - accuracy: 0.8659 - val_loss: 0.3477 - val_accuracy: 0.8544\n",
            "Epoch 98/100\n",
            "200/200 [==============================] - 1s 3ms/step - loss: 0.3221 - accuracy: 0.8658 - val_loss: 0.3480 - val_accuracy: 0.8544\n",
            "Epoch 99/100\n",
            "200/200 [==============================] - 1s 3ms/step - loss: 0.3220 - accuracy: 0.8666 - val_loss: 0.3488 - val_accuracy: 0.8537\n",
            "Epoch 100/100\n",
            "200/200 [==============================] - 1s 4ms/step - loss: 0.3215 - accuracy: 0.8655 - val_loss: 0.3508 - val_accuracy: 0.8519\n"
          ]
        },
        {
          "output_type": "execute_result",
          "data": {
            "text/plain": [
              "<keras.src.callbacks.History at 0x7a66182953f0>"
            ]
          },
          "metadata": {},
          "execution_count": 122
        }
      ]
    },
    {
      "cell_type": "code",
      "source": [
        "model.layers"
      ],
      "metadata": {
        "colab": {
          "base_uri": "https://localhost:8080/"
        },
        "id": "b56pH_xJs3MU",
        "outputId": "a70e2390-0e24-4ec1-dced-9388d2a0e57e"
      },
      "execution_count": 123,
      "outputs": [
        {
          "output_type": "execute_result",
          "data": {
            "text/plain": [
              "[<keras.src.layers.core.dense.Dense at 0x7a6618296dd0>,\n",
              " <keras.src.layers.core.dense.Dense at 0x7a6618295d50>,\n",
              " <keras.src.layers.core.dense.Dense at 0x7a663b97ecb0>]"
            ]
          },
          "metadata": {},
          "execution_count": 123
        }
      ]
    },
    {
      "cell_type": "code",
      "source": [
        "model.layers[0].get_weights()"
      ],
      "metadata": {
        "colab": {
          "base_uri": "https://localhost:8080/"
        },
        "id": "HmwH-HEUs3P5",
        "outputId": "02369e93-6010-4d76-afc4-e0ce4b220305"
      },
      "execution_count": 124,
      "outputs": [
        {
          "output_type": "execute_result",
          "data": {
            "text/plain": [
              "[array([[ 4.95983884e-02,  5.99028952e-02, -2.15026900e-01,\n",
              "          4.11125459e-02, -1.67424321e-01,  3.07896584e-01,\n",
              "          1.11969061e-01, -1.24148153e-01,  2.72295773e-01,\n",
              "          6.68711215e-02,  1.47383083e-02],\n",
              "        [-7.19560087e-01, -1.70857519e-01,  8.24311554e-01,\n",
              "          9.34012949e-01, -2.48434767e-01, -9.55294907e-01,\n",
              "         -1.05759785e-01, -7.02618241e-01, -1.21933132e-01,\n",
              "         -7.83004910e-02, -4.07899439e-01],\n",
              "        [-2.77812809e-01,  3.14272314e-01, -1.04278862e-01,\n",
              "          7.08367601e-02, -4.12204653e-01, -1.21340893e-01,\n",
              "          2.21503042e-02, -2.04010129e-01,  2.46068373e-01,\n",
              "          2.84818467e-02,  3.02175917e-02],\n",
              "        [ 2.44622976e-01, -4.52128530e-01, -2.58049905e-01,\n",
              "         -3.80311966e-01, -2.38807917e-01,  4.50931579e-01,\n",
              "         -6.04991674e-01, -3.25565517e-01,  2.46672645e-01,\n",
              "          2.13812888e-01, -3.80338997e-01],\n",
              "        [ 2.15273649e-01,  3.68670225e-02, -2.45398581e-01,\n",
              "          9.17516947e-02,  4.82407719e-01, -1.63646966e-01,\n",
              "         -1.33180845e+00,  2.25386232e-01,  2.51989663e-01,\n",
              "          1.29355907e+00, -3.24792154e-02],\n",
              "        [-3.46531093e-01,  4.67475384e-01, -1.79641142e-01,\n",
              "          2.10836247e-01,  4.12552536e-01,  5.79002380e-01,\n",
              "         -3.37547399e-02, -3.48820448e-01, -6.92672506e-02,\n",
              "         -4.36418392e-02, -1.09664455e-01],\n",
              "        [ 3.19625050e-01,  5.21820486e-01, -2.48123199e-01,\n",
              "          9.43967581e-01,  7.61918604e-01,  2.19567418e-01,\n",
              "         -1.23239212e-01, -2.83546269e-01,  1.20906807e-01,\n",
              "         -6.83503300e-02, -1.98505029e-01],\n",
              "        [ 2.63735056e-01, -4.15331215e-01,  2.20706210e-01,\n",
              "         -3.93529423e-02,  6.06851419e-03,  6.14864230e-02,\n",
              "         -8.27385229e-04,  1.65552840e-01, -6.73343301e-01,\n",
              "         -1.15863472e-01,  2.72804290e-01],\n",
              "        [-5.23561776e-01,  7.89712518e-02,  3.28325145e-02,\n",
              "          5.81550561e-02, -2.73220558e-02, -1.07809333e-02,\n",
              "          4.20405954e-01,  1.45609140e-01, -6.37468278e-01,\n",
              "         -1.43436402e-01,  1.27460957e-01],\n",
              "        [ 2.21268967e-01,  4.10809427e-01, -6.13677837e-02,\n",
              "         -4.74273786e-02, -3.59854966e-01, -3.02639902e-01,\n",
              "          8.88446644e-02, -3.70243698e-01,  4.82771322e-02,\n",
              "          2.09269058e-02,  7.69271404e-02],\n",
              "        [ 1.73492953e-01, -3.05374831e-01, -6.55378401e-02,\n",
              "          4.66906667e-01, -2.43433058e-01,  8.64917487e-02,\n",
              "          4.53144282e-01, -1.88618556e-01,  6.39463067e-01,\n",
              "          2.59482652e-01,  7.04999626e-01]], dtype=float32),\n",
              " array([ 0.5626009 ,  0.25636077,  0.09475039, -0.27484578,  0.72772074,\n",
              "         0.66499287, -0.05374365,  0.60052884,  0.28426868, -0.44556886,\n",
              "         0.6047595 ], dtype=float32)]"
            ]
          },
          "metadata": {},
          "execution_count": 124
        }
      ]
    },
    {
      "cell_type": "code",
      "source": [
        "model.layers[1].get_weights()"
      ],
      "metadata": {
        "colab": {
          "base_uri": "https://localhost:8080/"
        },
        "id": "XUlxWFQZs3T3",
        "outputId": "e63db6aa-49bf-4f58-9869-0650d43209e7"
      },
      "execution_count": 125,
      "outputs": [
        {
          "output_type": "execute_result",
          "data": {
            "text/plain": [
              "[array([[ 3.2872376e-01,  4.9009219e-02, -3.1791717e-01,  1.1985606e-01,\n",
              "          2.6131362e-01, -2.3000219e-01,  3.2484531e-01, -6.7707211e-01,\n",
              "          9.4032148e-04, -1.2961078e-01, -1.6122242e+00],\n",
              "        [ 2.7625316e-01,  3.2832563e-01, -2.0092605e-01,  8.9418013e-03,\n",
              "          4.4968039e-01,  4.4699141e-01,  4.9200282e-01,  2.5978881e-01,\n",
              "         -3.8561767e-01,  3.9510345e-01,  3.2676774e-01],\n",
              "        [-1.3747463e-01, -4.4238085e-01,  3.1533280e-01, -4.5917523e-01,\n",
              "         -1.5028835e-02,  1.7173281e-01, -3.7475249e-01, -1.9913667e-01,\n",
              "          5.0047320e-01,  7.8077659e-02, -6.0337454e-01],\n",
              "        [-5.3194058e-01, -5.2716482e-01, -2.1868959e-01, -3.4333920e-01,\n",
              "          1.0416311e+00,  6.4236313e-01,  1.6979696e-01, -4.1559497e-01,\n",
              "         -6.3529658e-01,  1.6994959e-01,  2.0768049e-01],\n",
              "        [ 5.6204671e-01,  2.9563195e-01,  3.6048338e-01, -6.1296698e-02,\n",
              "          2.5265291e-01,  1.2682424e-02,  2.1188995e-01,  3.0941039e-01,\n",
              "          6.0663146e-01, -8.7396823e-02,  1.9857527e-01],\n",
              "        [ 5.0348409e-02, -2.9035345e-01, -1.5851715e-01,  2.6931253e-01,\n",
              "          2.4359198e-01, -4.7377210e-02, -5.0008631e-01, -1.3136059e+00,\n",
              "         -6.3910991e-01, -2.7385610e-01,  2.0577444e-01],\n",
              "        [ 5.3372729e-01,  6.0301572e-02,  5.9459186e-01,  2.3359847e-01,\n",
              "          1.4881352e-01, -8.8226634e-01,  5.8704811e-01, -8.4727019e-02,\n",
              "          3.7051514e-01,  8.9534253e-01, -1.6933833e-01],\n",
              "        [-3.7778810e-01,  4.0046689e-01, -3.6702514e-01,  5.3110433e-01,\n",
              "         -3.9066622e-01,  5.2070671e-01, -2.0767909e-01,  4.0592393e-01,\n",
              "         -5.6191337e-01,  2.6584375e-01, -1.0681822e+00],\n",
              "        [ 6.0859054e-02,  2.7705002e-01,  4.9043137e-01,  7.9219267e-02,\n",
              "          4.2691708e-01,  4.8898265e-02,  5.6158971e-02,  2.8283286e-01,\n",
              "         -6.6899680e-02, -4.5428157e-01,  3.0347083e-02],\n",
              "        [ 1.6497381e-02, -1.8703195e-01, -4.8023504e-01,  2.1426880e-01,\n",
              "          7.0857637e-02,  3.5118107e-02,  8.4593940e-01,  2.7846003e-01,\n",
              "          9.3437725e-01,  1.0470788e+00, -6.2758780e-01],\n",
              "        [-1.8095653e-01,  6.3109303e-01,  1.4776520e-01,  2.7740791e-01,\n",
              "          3.1571761e-01, -5.2014703e-01, -4.3866044e-01,  4.1953579e-01,\n",
              "         -3.7184748e-01, -8.4810220e-02, -9.7684300e-01]], dtype=float32),\n",
              " array([ 0.11832391,  0.60186315,  0.4541224 ,  0.5187373 ,  0.26399353,\n",
              "         0.17688568, -0.09359203,  0.1025355 ,  0.01644586, -0.13538237,\n",
              "         0.35863397], dtype=float32)]"
            ]
          },
          "metadata": {},
          "execution_count": 125
        }
      ]
    },
    {
      "cell_type": "code",
      "source": [
        "y_log=model.predict(X_test_scaled)\n",
        "y_log"
      ],
      "metadata": {
        "colab": {
          "base_uri": "https://localhost:8080/"
        },
        "id": "V3JkLbSos3Xx",
        "outputId": "94534c1f-4130-4342-daba-00dc7a3e13a6"
      },
      "execution_count": 126,
      "outputs": [
        {
          "output_type": "stream",
          "name": "stdout",
          "text": [
            "63/63 [==============================] - 0s 2ms/step\n"
          ]
        },
        {
          "output_type": "execute_result",
          "data": {
            "text/plain": [
              "array([[0.03185469],\n",
              "       [0.02684479],\n",
              "       [0.13733393],\n",
              "       ...,\n",
              "       [0.8061626 ],\n",
              "       [0.13804144],\n",
              "       [0.25559422]], dtype=float32)"
            ]
          },
          "metadata": {},
          "execution_count": 126
        }
      ]
    },
    {
      "cell_type": "code",
      "source": [
        "y_pred=np.where(y_log>0.5,1,0)\n",
        "y_pred"
      ],
      "metadata": {
        "colab": {
          "base_uri": "https://localhost:8080/"
        },
        "id": "_k7OE5D3wFdt",
        "outputId": "c4e11d04-a852-4631-f224-50147c9ac1cb"
      },
      "execution_count": 127,
      "outputs": [
        {
          "output_type": "execute_result",
          "data": {
            "text/plain": [
              "array([[0],\n",
              "       [0],\n",
              "       [0],\n",
              "       ...,\n",
              "       [1],\n",
              "       [0],\n",
              "       [0]])"
            ]
          },
          "metadata": {},
          "execution_count": 127
        }
      ]
    },
    {
      "cell_type": "code",
      "source": [
        "from sklearn.metrics import accuracy_score\n",
        "accuracy_score(y_test,y_pred)"
      ],
      "metadata": {
        "colab": {
          "base_uri": "https://localhost:8080/"
        },
        "id": "kkMwWk7NwFg9",
        "outputId": "51384fca-c720-42ce-a526-53981434bc5b"
      },
      "execution_count": 128,
      "outputs": [
        {
          "output_type": "execute_result",
          "data": {
            "text/plain": [
              "0.8575"
            ]
          },
          "metadata": {},
          "execution_count": 128
        }
      ]
    },
    {
      "cell_type": "code",
      "source": [
        "history.history"
      ],
      "metadata": {
        "colab": {
          "base_uri": "https://localhost:8080/"
        },
        "id": "iax-JJOzwFk_",
        "outputId": "16b3d2e0-dbf5-4ca9-9a29-5ead0748eb1c"
      },
      "execution_count": 129,
      "outputs": [
        {
          "output_type": "execute_result",
          "data": {
            "text/plain": [
              "{'loss': [0.513299286365509,\n",
              "  0.4606117308139801,\n",
              "  0.4418955147266388,\n",
              "  0.42758259177207947,\n",
              "  0.41189754009246826,\n",
              "  0.39406001567840576,\n",
              "  0.3779948353767395,\n",
              "  0.3671749234199524,\n",
              "  0.35867661237716675,\n",
              "  0.35384196043014526,\n",
              "  0.3511592745780945,\n",
              "  0.34875908493995667,\n",
              "  0.3466190993785858,\n",
              "  0.3452995717525482,\n",
              "  0.3438084125518799,\n",
              "  0.3422747552394867,\n",
              "  0.34154361486434937,\n",
              "  0.3410221040248871,\n",
              "  0.33960065245628357,\n",
              "  0.33917564153671265,\n",
              "  0.3387739956378937,\n",
              "  0.3381800949573517,\n",
              "  0.33733493089675903,\n",
              "  0.337749183177948,\n",
              "  0.3367457985877991,\n",
              "  0.3361557126045227,\n",
              "  0.33568164706230164,\n",
              "  0.33528658747673035,\n",
              "  0.3348613977432251,\n",
              "  0.3344413638114929,\n",
              "  0.33426037430763245,\n",
              "  0.33343270421028137,\n",
              "  0.33312252163887024,\n",
              "  0.33332088589668274,\n",
              "  0.33248913288116455,\n",
              "  0.3322179317474365,\n",
              "  0.33214691281318665,\n",
              "  0.33167365193367004,\n",
              "  0.33147719502449036,\n",
              "  0.33073633909225464,\n",
              "  0.33135730028152466,\n",
              "  0.3306984305381775,\n",
              "  0.33077964186668396,\n",
              "  0.3303605616092682,\n",
              "  0.33029526472091675,\n",
              "  0.3300491273403168,\n",
              "  0.32974693179130554,\n",
              "  0.32899951934814453,\n",
              "  0.3292475640773773,\n",
              "  0.3288111388683319,\n",
              "  0.3290708661079407,\n",
              "  0.32888561487197876,\n",
              "  0.3285331428050995,\n",
              "  0.3284587562084198,\n",
              "  0.32836249470710754,\n",
              "  0.3284694254398346,\n",
              "  0.3281906545162201,\n",
              "  0.3277994990348816,\n",
              "  0.3278195858001709,\n",
              "  0.32745522260665894,\n",
              "  0.3273235559463501,\n",
              "  0.32752394676208496,\n",
              "  0.3271501064300537,\n",
              "  0.32674819231033325,\n",
              "  0.3272353708744049,\n",
              "  0.3265424072742462,\n",
              "  0.32665500044822693,\n",
              "  0.3258640170097351,\n",
              "  0.32575398683547974,\n",
              "  0.32659396529197693,\n",
              "  0.32579055428504944,\n",
              "  0.32608041167259216,\n",
              "  0.32545551657676697,\n",
              "  0.3253789246082306,\n",
              "  0.32548218965530396,\n",
              "  0.3248879313468933,\n",
              "  0.3246811628341675,\n",
              "  0.32509490847587585,\n",
              "  0.3244619369506836,\n",
              "  0.3248768150806427,\n",
              "  0.32467854022979736,\n",
              "  0.3243916630744934,\n",
              "  0.3242219090461731,\n",
              "  0.32432982325553894,\n",
              "  0.32433387637138367,\n",
              "  0.323719322681427,\n",
              "  0.32332268357276917,\n",
              "  0.3233738839626312,\n",
              "  0.3236798346042633,\n",
              "  0.3236713409423828,\n",
              "  0.32286879420280457,\n",
              "  0.3227446675300598,\n",
              "  0.32225826382637024,\n",
              "  0.32262298464775085,\n",
              "  0.32224300503730774,\n",
              "  0.32190918922424316,\n",
              "  0.3218080401420593,\n",
              "  0.32208535075187683,\n",
              "  0.3220004737377167,\n",
              "  0.32151851058006287],\n",
              " 'accuracy': [0.7771875262260437,\n",
              "  0.7950000166893005,\n",
              "  0.8053125143051147,\n",
              "  0.8154687285423279,\n",
              "  0.8223437666893005,\n",
              "  0.8360937237739563,\n",
              "  0.8450000286102295,\n",
              "  0.848437488079071,\n",
              "  0.8520312309265137,\n",
              "  0.8545312285423279,\n",
              "  0.8529687523841858,\n",
              "  0.8548437356948853,\n",
              "  0.8535937666893005,\n",
              "  0.8570312261581421,\n",
              "  0.8565624952316284,\n",
              "  0.8578125238418579,\n",
              "  0.8592187762260437,\n",
              "  0.8568750023841858,\n",
              "  0.8582812547683716,\n",
              "  0.8582812547683716,\n",
              "  0.8610937595367432,\n",
              "  0.8606250286102295,\n",
              "  0.8590624928474426,\n",
              "  0.8582812547683716,\n",
              "  0.8600000143051147,\n",
              "  0.8604687452316284,\n",
              "  0.8598437309265137,\n",
              "  0.8614062666893005,\n",
              "  0.8603125214576721,\n",
              "  0.8607812523841858,\n",
              "  0.8604687452316284,\n",
              "  0.8609374761581421,\n",
              "  0.8618749976158142,\n",
              "  0.8620312213897705,\n",
              "  0.8614062666893005,\n",
              "  0.8623437285423279,\n",
              "  0.8629687428474426,\n",
              "  0.8623437285423279,\n",
              "  0.864062488079071,\n",
              "  0.8598437309265137,\n",
              "  0.862500011920929,\n",
              "  0.8629687428474426,\n",
              "  0.8631250262260437,\n",
              "  0.8634374737739563,\n",
              "  0.8631250262260437,\n",
              "  0.8646875023841858,\n",
              "  0.86328125,\n",
              "  0.8631250262260437,\n",
              "  0.8629687428474426,\n",
              "  0.86328125,\n",
              "  0.86328125,\n",
              "  0.8629687428474426,\n",
              "  0.8643749952316284,\n",
              "  0.8634374737739563,\n",
              "  0.8623437285423279,\n",
              "  0.8612499833106995,\n",
              "  0.8637499809265137,\n",
              "  0.8650000095367432,\n",
              "  0.864062488079071,\n",
              "  0.8635937571525574,\n",
              "  0.8662499785423279,\n",
              "  0.8642187714576721,\n",
              "  0.8657812476158142,\n",
              "  0.8635937571525574,\n",
              "  0.8629687428474426,\n",
              "  0.8639062643051147,\n",
              "  0.8643749952316284,\n",
              "  0.8642187714576721,\n",
              "  0.8643749952316284,\n",
              "  0.8651562333106995,\n",
              "  0.8642187714576721,\n",
              "  0.8646875023841858,\n",
              "  0.8662499785423279,\n",
              "  0.8651562333106995,\n",
              "  0.8654687404632568,\n",
              "  0.8650000095367432,\n",
              "  0.8651562333106995,\n",
              "  0.8656250238418579,\n",
              "  0.8673437237739563,\n",
              "  0.8645312786102295,\n",
              "  0.8653125166893005,\n",
              "  0.8651562333106995,\n",
              "  0.8637499809265137,\n",
              "  0.8654687404632568,\n",
              "  0.8662499785423279,\n",
              "  0.8659374713897705,\n",
              "  0.8660937547683716,\n",
              "  0.8653125166893005,\n",
              "  0.8654687404632568,\n",
              "  0.8651562333106995,\n",
              "  0.8656250238418579,\n",
              "  0.8665624856948853,\n",
              "  0.8654687404632568,\n",
              "  0.8662499785423279,\n",
              "  0.86328125,\n",
              "  0.8654687404632568,\n",
              "  0.8659374713897705,\n",
              "  0.8657812476158142,\n",
              "  0.8665624856948853,\n",
              "  0.8654687404632568],\n",
              " 'val_loss': [0.45444396138191223,\n",
              "  0.4332334101200104,\n",
              "  0.4198801517486572,\n",
              "  0.4064693748950958,\n",
              "  0.3929367959499359,\n",
              "  0.38004767894744873,\n",
              "  0.37019866704940796,\n",
              "  0.3621106743812561,\n",
              "  0.35897502303123474,\n",
              "  0.3549380600452423,\n",
              "  0.3531624972820282,\n",
              "  0.35118645429611206,\n",
              "  0.34981009364128113,\n",
              "  0.3492659628391266,\n",
              "  0.3482433557510376,\n",
              "  0.34902405738830566,\n",
              "  0.34899723529815674,\n",
              "  0.3477199971675873,\n",
              "  0.34756600856781006,\n",
              "  0.34776103496551514,\n",
              "  0.34834998846054077,\n",
              "  0.34723857045173645,\n",
              "  0.34809181094169617,\n",
              "  0.3471681475639343,\n",
              "  0.3480643033981323,\n",
              "  0.3472529351711273,\n",
              "  0.3473840355873108,\n",
              "  0.34659019112586975,\n",
              "  0.347156822681427,\n",
              "  0.34816116094589233,\n",
              "  0.3476458489894867,\n",
              "  0.34790951013565063,\n",
              "  0.3483901917934418,\n",
              "  0.34749507904052734,\n",
              "  0.3474949598312378,\n",
              "  0.3474687933921814,\n",
              "  0.34734031558036804,\n",
              "  0.3474108576774597,\n",
              "  0.34690970182418823,\n",
              "  0.3496241867542267,\n",
              "  0.3471970856189728,\n",
              "  0.34739962220191956,\n",
              "  0.3477185368537903,\n",
              "  0.3469175398349762,\n",
              "  0.34640711545944214,\n",
              "  0.34691664576530457,\n",
              "  0.3477434813976288,\n",
              "  0.34700316190719604,\n",
              "  0.34679320454597473,\n",
              "  0.3471854329109192,\n",
              "  0.3469366729259491,\n",
              "  0.34841635823249817,\n",
              "  0.34694600105285645,\n",
              "  0.346407026052475,\n",
              "  0.3462418019771576,\n",
              "  0.34610772132873535,\n",
              "  0.34567680954933167,\n",
              "  0.34691956639289856,\n",
              "  0.3457135260105133,\n",
              "  0.3458910882472992,\n",
              "  0.34597888588905334,\n",
              "  0.346298485994339,\n",
              "  0.34651637077331543,\n",
              "  0.3461839556694031,\n",
              "  0.34586066007614136,\n",
              "  0.34633517265319824,\n",
              "  0.346354603767395,\n",
              "  0.34755924344062805,\n",
              "  0.3473605811595917,\n",
              "  0.34705790877342224,\n",
              "  0.34688320755958557,\n",
              "  0.3463670611381531,\n",
              "  0.34872737526893616,\n",
              "  0.3467791676521301,\n",
              "  0.34714967012405396,\n",
              "  0.3476870656013489,\n",
              "  0.3476038873195648,\n",
              "  0.3474847674369812,\n",
              "  0.3481115400791168,\n",
              "  0.3481554388999939,\n",
              "  0.34833475947380066,\n",
              "  0.3478725850582123,\n",
              "  0.34675076603889465,\n",
              "  0.3498990535736084,\n",
              "  0.3483070135116577,\n",
              "  0.3476601541042328,\n",
              "  0.348337322473526,\n",
              "  0.3479136526584625,\n",
              "  0.3480224609375,\n",
              "  0.3477286100387573,\n",
              "  0.34805479645729065,\n",
              "  0.347769558429718,\n",
              "  0.34786781668663025,\n",
              "  0.3478749394416809,\n",
              "  0.34814417362213135,\n",
              "  0.34711411595344543,\n",
              "  0.3477083146572113,\n",
              "  0.34804606437683105,\n",
              "  0.34881988167762756,\n",
              "  0.3507976531982422],\n",
              " 'val_accuracy': [0.7987499833106995,\n",
              "  0.8137500286102295,\n",
              "  0.824999988079071,\n",
              "  0.8287500143051147,\n",
              "  0.8368750214576721,\n",
              "  0.8356249928474426,\n",
              "  0.8412500023841858,\n",
              "  0.8500000238418579,\n",
              "  0.8487499952316284,\n",
              "  0.8550000190734863,\n",
              "  0.8537499904632568,\n",
              "  0.8556249737739563,\n",
              "  0.856249988079071,\n",
              "  0.8581249713897705,\n",
              "  0.8537499904632568,\n",
              "  0.8581249713897705,\n",
              "  0.8550000190734863,\n",
              "  0.8556249737739563,\n",
              "  0.8543750047683716,\n",
              "  0.8550000190734863,\n",
              "  0.8550000190734863,\n",
              "  0.8543750047683716,\n",
              "  0.8587499856948853,\n",
              "  0.8587499856948853,\n",
              "  0.8568750023841858,\n",
              "  0.8581249713897705,\n",
              "  0.8568750023841858,\n",
              "  0.8556249737739563,\n",
              "  0.8556249737739563,\n",
              "  0.856249988079071,\n",
              "  0.8575000166893005,\n",
              "  0.8587499856948853,\n",
              "  0.8556249737739563,\n",
              "  0.8537499904632568,\n",
              "  0.8568750023841858,\n",
              "  0.8581249713897705,\n",
              "  0.8556249737739563,\n",
              "  0.8518750071525574,\n",
              "  0.8537499904632568,\n",
              "  0.8525000214576721,\n",
              "  0.856249988079071,\n",
              "  0.8537499904632568,\n",
              "  0.8543750047683716,\n",
              "  0.8550000190734863,\n",
              "  0.8550000190734863,\n",
              "  0.8525000214576721,\n",
              "  0.8543750047683716,\n",
              "  0.8531249761581421,\n",
              "  0.8525000214576721,\n",
              "  0.8518750071525574,\n",
              "  0.8512499928474426,\n",
              "  0.8512499928474426,\n",
              "  0.8550000190734863,\n",
              "  0.8525000214576721,\n",
              "  0.8543750047683716,\n",
              "  0.8531249761581421,\n",
              "  0.8550000190734863,\n",
              "  0.8543750047683716,\n",
              "  0.8525000214576721,\n",
              "  0.8556249737739563,\n",
              "  0.8537499904632568,\n",
              "  0.8525000214576721,\n",
              "  0.8531249761581421,\n",
              "  0.8531249761581421,\n",
              "  0.8556249737739563,\n",
              "  0.8525000214576721,\n",
              "  0.856249988079071,\n",
              "  0.8531249761581421,\n",
              "  0.8525000214576721,\n",
              "  0.8543750047683716,\n",
              "  0.8543750047683716,\n",
              "  0.8531249761581421,\n",
              "  0.8537499904632568,\n",
              "  0.8543750047683716,\n",
              "  0.8556249737739563,\n",
              "  0.8525000214576721,\n",
              "  0.8525000214576721,\n",
              "  0.8550000190734863,\n",
              "  0.8525000214576721,\n",
              "  0.8556249737739563,\n",
              "  0.8506249785423279,\n",
              "  0.8500000238418579,\n",
              "  0.8525000214576721,\n",
              "  0.8550000190734863,\n",
              "  0.8512499928474426,\n",
              "  0.8556249737739563,\n",
              "  0.8518750071525574,\n",
              "  0.8512499928474426,\n",
              "  0.8537499904632568,\n",
              "  0.8531249761581421,\n",
              "  0.8537499904632568,\n",
              "  0.8531249761581421,\n",
              "  0.8512499928474426,\n",
              "  0.8556249737739563,\n",
              "  0.8537499904632568,\n",
              "  0.856249988079071,\n",
              "  0.8543750047683716,\n",
              "  0.8543750047683716,\n",
              "  0.8537499904632568,\n",
              "  0.8518750071525574]}"
            ]
          },
          "metadata": {},
          "execution_count": 129
        }
      ]
    },
    {
      "cell_type": "code",
      "source": [
        "plt.plot(history.history[\"loss\"])\n",
        "plt.plot(history.history[\"val_loss\"])"
      ],
      "metadata": {
        "colab": {
          "base_uri": "https://localhost:8080/",
          "height": 447
        },
        "id": "aDhdldEQwFn4",
        "outputId": "50dfa726-968e-4dcc-d97c-ba86da7b738c"
      },
      "execution_count": 130,
      "outputs": [
        {
          "output_type": "execute_result",
          "data": {
            "text/plain": [
              "[<matplotlib.lines.Line2D at 0x7a661040e860>]"
            ]
          },
          "metadata": {},
          "execution_count": 130
        },
        {
          "output_type": "display_data",
          "data": {
            "text/plain": [
              "<Figure size 640x480 with 1 Axes>"
            ],
            "image/png": "[encoded data removed]"
          },
          "metadata": {}
        }
      ]
    },
    {
      "cell_type": "code",
      "source": [
        "plt.plot(history.history[\"accuracy\"])\n",
        "plt.plot(history.history[\"val_accuracy\"])"
      ],
      "metadata": {
        "colab": {
          "base_uri": "https://localhost:8080/",
          "height": 447
        },
        "id": "Vo85ROSHwFrB",
        "outputId": "a43fda2e-5490-45bf-f05a-22ffcfd13623"
      },
      "execution_count": 135,
      "outputs": [
        {
          "output_type": "execute_result",
          "data": {
            "text/plain": [
              "[<matplotlib.lines.Line2D at 0x7a66106faa40>]"
            ]
          },
          "metadata": {},
          "execution_count": 135
        },
        {
          "output_type": "display_data",
          "data": {
            "text/plain": [
              "<Figure size 640x480 with 1 Axes>"
            ],
            "image/png": "[encoded data removed]"
          },
          "metadata": {}
        }
      ]
    },
    {
      "cell_type": "code",
      "source": [],
      "metadata": {
        "id": "lzmDzZqh0uRm"
      },
      "execution_count": null,
      "outputs": []
    }
  ]
}