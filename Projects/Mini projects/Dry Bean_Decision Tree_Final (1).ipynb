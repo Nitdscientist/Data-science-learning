{
 "cells": [
  {
   "cell_type": "markdown",
   "id": "00b81791-f5ef-4c53-a525-5f4f8439be15",
   "metadata": {},
   "source": [
    "# Nitesh Kumar\n",
    "## Batch-4\n",
    "### project -Dry bean prediction"
   ]
  },
  {
   "cell_type": "code",
   "execution_count": 1,
   "id": "51a34e14-5be7-4d10-8676-8882c379ed99",
   "metadata": {},
   "outputs": [],
   "source": [
    "import pandas as pd"
   ]
  },
  {
   "cell_type": "code",
   "execution_count": 2,
   "id": "3f07f891-1ab3-48c8-8e8c-b34b3bb2464d",
   "metadata": {},
   "outputs": [],
   "source": [
    "df=pd.read_excel(\"Dry_Bean_Dataset.xlsx\")"
   ]
  },
  {
   "cell_type": "code",
   "execution_count": 3,
   "id": "092a0f59-a81d-413d-a2da-56ca7a17f8f3",
   "metadata": {},
   "outputs": [
    {
     "data": {
      "text/html": [
       "<div>\n",
       "<style scoped>\n",
       "    .dataframe tbody tr th:only-of-type {\n",
       "        vertical-align: middle;\n",
       "    }\n",
       "\n",
       "    .dataframe tbody tr th {\n",
       "        vertical-align: top;\n",
       "    }\n",
       "\n",
       "    .dataframe thead th {\n",
       "        text-align: right;\n",
       "    }\n",
       "</style>\n",
       "<table border=\"1\" class=\"dataframe\">\n",
       "  <thead>\n",
       "    <tr style=\"text-align: right;\">\n",
       "      <th></th>\n",
       "      <th>Area</th>\n",
       "      <th>Perimeter</th>\n",
       "      <th>MajorAxisLength</th>\n",
       "      <th>MinorAxisLength</th>\n",
       "      <th>AspectRation</th>\n",
       "      <th>Eccentricity</th>\n",
       "      <th>ConvexArea</th>\n",
       "      <th>EquivDiameter</th>\n",
       "      <th>Extent</th>\n",
       "      <th>Solidity</th>\n",
       "      <th>roundness</th>\n",
       "      <th>Compactness</th>\n",
       "      <th>ShapeFactor1</th>\n",
       "      <th>ShapeFactor2</th>\n",
       "      <th>ShapeFactor3</th>\n",
       "      <th>ShapeFactor4</th>\n",
       "      <th>Class</th>\n",
       "    </tr>\n",
       "  </thead>\n",
       "  <tbody>\n",
       "    <tr>\n",
       "      <th>0</th>\n",
       "      <td>28395</td>\n",
       "      <td>610.291</td>\n",
       "      <td>208.178117</td>\n",
       "      <td>173.888747</td>\n",
       "      <td>1.197191</td>\n",
       "      <td>0.549812</td>\n",
       "      <td>28715</td>\n",
       "      <td>190.141097</td>\n",
       "      <td>0.763923</td>\n",
       "      <td>0.988856</td>\n",
       "      <td>0.958027</td>\n",
       "      <td>0.913358</td>\n",
       "      <td>0.007332</td>\n",
       "      <td>0.003147</td>\n",
       "      <td>0.834222</td>\n",
       "      <td>0.998724</td>\n",
       "      <td>SEKER</td>\n",
       "    </tr>\n",
       "    <tr>\n",
       "      <th>1</th>\n",
       "      <td>28734</td>\n",
       "      <td>638.018</td>\n",
       "      <td>200.524796</td>\n",
       "      <td>182.734419</td>\n",
       "      <td>1.097356</td>\n",
       "      <td>0.411785</td>\n",
       "      <td>29172</td>\n",
       "      <td>191.272750</td>\n",
       "      <td>0.783968</td>\n",
       "      <td>0.984986</td>\n",
       "      <td>0.887034</td>\n",
       "      <td>0.953861</td>\n",
       "      <td>0.006979</td>\n",
       "      <td>0.003564</td>\n",
       "      <td>0.909851</td>\n",
       "      <td>0.998430</td>\n",
       "      <td>SEKER</td>\n",
       "    </tr>\n",
       "    <tr>\n",
       "      <th>2</th>\n",
       "      <td>29380</td>\n",
       "      <td>624.110</td>\n",
       "      <td>212.826130</td>\n",
       "      <td>175.931143</td>\n",
       "      <td>1.209713</td>\n",
       "      <td>0.562727</td>\n",
       "      <td>29690</td>\n",
       "      <td>193.410904</td>\n",
       "      <td>0.778113</td>\n",
       "      <td>0.989559</td>\n",
       "      <td>0.947849</td>\n",
       "      <td>0.908774</td>\n",
       "      <td>0.007244</td>\n",
       "      <td>0.003048</td>\n",
       "      <td>0.825871</td>\n",
       "      <td>0.999066</td>\n",
       "      <td>SEKER</td>\n",
       "    </tr>\n",
       "    <tr>\n",
       "      <th>3</th>\n",
       "      <td>30008</td>\n",
       "      <td>645.884</td>\n",
       "      <td>210.557999</td>\n",
       "      <td>182.516516</td>\n",
       "      <td>1.153638</td>\n",
       "      <td>0.498616</td>\n",
       "      <td>30724</td>\n",
       "      <td>195.467062</td>\n",
       "      <td>0.782681</td>\n",
       "      <td>0.976696</td>\n",
       "      <td>0.903936</td>\n",
       "      <td>0.928329</td>\n",
       "      <td>0.007017</td>\n",
       "      <td>0.003215</td>\n",
       "      <td>0.861794</td>\n",
       "      <td>0.994199</td>\n",
       "      <td>SEKER</td>\n",
       "    </tr>\n",
       "    <tr>\n",
       "      <th>4</th>\n",
       "      <td>30140</td>\n",
       "      <td>620.134</td>\n",
       "      <td>201.847882</td>\n",
       "      <td>190.279279</td>\n",
       "      <td>1.060798</td>\n",
       "      <td>0.333680</td>\n",
       "      <td>30417</td>\n",
       "      <td>195.896503</td>\n",
       "      <td>0.773098</td>\n",
       "      <td>0.990893</td>\n",
       "      <td>0.984877</td>\n",
       "      <td>0.970516</td>\n",
       "      <td>0.006697</td>\n",
       "      <td>0.003665</td>\n",
       "      <td>0.941900</td>\n",
       "      <td>0.999166</td>\n",
       "      <td>SEKER</td>\n",
       "    </tr>\n",
       "    <tr>\n",
       "      <th>...</th>\n",
       "      <td>...</td>\n",
       "      <td>...</td>\n",
       "      <td>...</td>\n",
       "      <td>...</td>\n",
       "      <td>...</td>\n",
       "      <td>...</td>\n",
       "      <td>...</td>\n",
       "      <td>...</td>\n",
       "      <td>...</td>\n",
       "      <td>...</td>\n",
       "      <td>...</td>\n",
       "      <td>...</td>\n",
       "      <td>...</td>\n",
       "      <td>...</td>\n",
       "      <td>...</td>\n",
       "      <td>...</td>\n",
       "      <td>...</td>\n",
       "    </tr>\n",
       "    <tr>\n",
       "      <th>13606</th>\n",
       "      <td>42097</td>\n",
       "      <td>759.696</td>\n",
       "      <td>288.721612</td>\n",
       "      <td>185.944705</td>\n",
       "      <td>1.552728</td>\n",
       "      <td>0.765002</td>\n",
       "      <td>42508</td>\n",
       "      <td>231.515799</td>\n",
       "      <td>0.714574</td>\n",
       "      <td>0.990331</td>\n",
       "      <td>0.916603</td>\n",
       "      <td>0.801865</td>\n",
       "      <td>0.006858</td>\n",
       "      <td>0.001749</td>\n",
       "      <td>0.642988</td>\n",
       "      <td>0.998385</td>\n",
       "      <td>DERMASON</td>\n",
       "    </tr>\n",
       "    <tr>\n",
       "      <th>13607</th>\n",
       "      <td>42101</td>\n",
       "      <td>757.499</td>\n",
       "      <td>281.576392</td>\n",
       "      <td>190.713136</td>\n",
       "      <td>1.476439</td>\n",
       "      <td>0.735702</td>\n",
       "      <td>42494</td>\n",
       "      <td>231.526798</td>\n",
       "      <td>0.799943</td>\n",
       "      <td>0.990752</td>\n",
       "      <td>0.922015</td>\n",
       "      <td>0.822252</td>\n",
       "      <td>0.006688</td>\n",
       "      <td>0.001886</td>\n",
       "      <td>0.676099</td>\n",
       "      <td>0.998219</td>\n",
       "      <td>DERMASON</td>\n",
       "    </tr>\n",
       "    <tr>\n",
       "      <th>13608</th>\n",
       "      <td>42139</td>\n",
       "      <td>759.321</td>\n",
       "      <td>281.539928</td>\n",
       "      <td>191.187979</td>\n",
       "      <td>1.472582</td>\n",
       "      <td>0.734065</td>\n",
       "      <td>42569</td>\n",
       "      <td>231.631261</td>\n",
       "      <td>0.729932</td>\n",
       "      <td>0.989899</td>\n",
       "      <td>0.918424</td>\n",
       "      <td>0.822730</td>\n",
       "      <td>0.006681</td>\n",
       "      <td>0.001888</td>\n",
       "      <td>0.676884</td>\n",
       "      <td>0.996767</td>\n",
       "      <td>DERMASON</td>\n",
       "    </tr>\n",
       "    <tr>\n",
       "      <th>13609</th>\n",
       "      <td>42147</td>\n",
       "      <td>763.779</td>\n",
       "      <td>283.382636</td>\n",
       "      <td>190.275731</td>\n",
       "      <td>1.489326</td>\n",
       "      <td>0.741055</td>\n",
       "      <td>42667</td>\n",
       "      <td>231.653248</td>\n",
       "      <td>0.705389</td>\n",
       "      <td>0.987813</td>\n",
       "      <td>0.907906</td>\n",
       "      <td>0.817457</td>\n",
       "      <td>0.006724</td>\n",
       "      <td>0.001852</td>\n",
       "      <td>0.668237</td>\n",
       "      <td>0.995222</td>\n",
       "      <td>DERMASON</td>\n",
       "    </tr>\n",
       "    <tr>\n",
       "      <th>13610</th>\n",
       "      <td>42159</td>\n",
       "      <td>772.237</td>\n",
       "      <td>295.142741</td>\n",
       "      <td>182.204716</td>\n",
       "      <td>1.619841</td>\n",
       "      <td>0.786693</td>\n",
       "      <td>42600</td>\n",
       "      <td>231.686223</td>\n",
       "      <td>0.788962</td>\n",
       "      <td>0.989648</td>\n",
       "      <td>0.888380</td>\n",
       "      <td>0.784997</td>\n",
       "      <td>0.007001</td>\n",
       "      <td>0.001640</td>\n",
       "      <td>0.616221</td>\n",
       "      <td>0.998180</td>\n",
       "      <td>DERMASON</td>\n",
       "    </tr>\n",
       "  </tbody>\n",
       "</table>\n",
       "<p>13611 rows × 17 columns</p>\n",
       "</div>"
      ],
      "text/plain": [
       "        Area  Perimeter  MajorAxisLength  MinorAxisLength  AspectRation  \\\n",
       "0      28395    610.291       208.178117       173.888747      1.197191   \n",
       "1      28734    638.018       200.524796       182.734419      1.097356   \n",
       "2      29380    624.110       212.826130       175.931143      1.209713   \n",
       "3      30008    645.884       210.557999       182.516516      1.153638   \n",
       "4      30140    620.134       201.847882       190.279279      1.060798   \n",
       "...      ...        ...              ...              ...           ...   \n",
       "13606  42097    759.696       288.721612       185.944705      1.552728   \n",
       "13607  42101    757.499       281.576392       190.713136      1.476439   \n",
       "13608  42139    759.321       281.539928       191.187979      1.472582   \n",
       "13609  42147    763.779       283.382636       190.275731      1.489326   \n",
       "13610  42159    772.237       295.142741       182.204716      1.619841   \n",
       "\n",
       "       Eccentricity  ConvexArea  EquivDiameter    Extent  Solidity  roundness  \\\n",
       "0          0.549812       28715     190.141097  0.763923  0.988856   0.958027   \n",
       "1          0.411785       29172     191.272750  0.783968  0.984986   0.887034   \n",
       "2          0.562727       29690     193.410904  0.778113  0.989559   0.947849   \n",
       "3          0.498616       30724     195.467062  0.782681  0.976696   0.903936   \n",
       "4          0.333680       30417     195.896503  0.773098  0.990893   0.984877   \n",
       "...             ...         ...            ...       ...       ...        ...   \n",
       "13606      0.765002       42508     231.515799  0.714574  0.990331   0.916603   \n",
       "13607      0.735702       42494     231.526798  0.799943  0.990752   0.922015   \n",
       "13608      0.734065       42569     231.631261  0.729932  0.989899   0.918424   \n",
       "13609      0.741055       42667     231.653248  0.705389  0.987813   0.907906   \n",
       "13610      0.786693       42600     231.686223  0.788962  0.989648   0.888380   \n",
       "\n",
       "       Compactness  ShapeFactor1  ShapeFactor2  ShapeFactor3  ShapeFactor4  \\\n",
       "0         0.913358      0.007332      0.003147      0.834222      0.998724   \n",
       "1         0.953861      0.006979      0.003564      0.909851      0.998430   \n",
       "2         0.908774      0.007244      0.003048      0.825871      0.999066   \n",
       "3         0.928329      0.007017      0.003215      0.861794      0.994199   \n",
       "4         0.970516      0.006697      0.003665      0.941900      0.999166   \n",
       "...            ...           ...           ...           ...           ...   \n",
       "13606     0.801865      0.006858      0.001749      0.642988      0.998385   \n",
       "13607     0.822252      0.006688      0.001886      0.676099      0.998219   \n",
       "13608     0.822730      0.006681      0.001888      0.676884      0.996767   \n",
       "13609     0.817457      0.006724      0.001852      0.668237      0.995222   \n",
       "13610     0.784997      0.007001      0.001640      0.616221      0.998180   \n",
       "\n",
       "          Class  \n",
       "0         SEKER  \n",
       "1         SEKER  \n",
       "2         SEKER  \n",
       "3         SEKER  \n",
       "4         SEKER  \n",
       "...         ...  \n",
       "13606  DERMASON  \n",
       "13607  DERMASON  \n",
       "13608  DERMASON  \n",
       "13609  DERMASON  \n",
       "13610  DERMASON  \n",
       "\n",
       "[13611 rows x 17 columns]"
      ]
     },
     "execution_count": 3,
     "metadata": {},
     "output_type": "execute_result"
    }
   ],
   "source": [
    "df"
   ]
  },
  {
   "cell_type": "code",
   "execution_count": 4,
   "id": "f9146f7a-8c23-46a9-b648-789d5aadaa5a",
   "metadata": {},
   "outputs": [
    {
     "data": {
      "text/plain": [
       "Area               0\n",
       "Perimeter          0\n",
       "MajorAxisLength    0\n",
       "MinorAxisLength    0\n",
       "AspectRation       0\n",
       "Eccentricity       0\n",
       "ConvexArea         0\n",
       "EquivDiameter      0\n",
       "Extent             0\n",
       "Solidity           0\n",
       "roundness          0\n",
       "Compactness        0\n",
       "ShapeFactor1       0\n",
       "ShapeFactor2       0\n",
       "ShapeFactor3       0\n",
       "ShapeFactor4       0\n",
       "Class              0\n",
       "dtype: int64"
      ]
     },
     "execution_count": 4,
     "metadata": {},
     "output_type": "execute_result"
    }
   ],
   "source": [
    "df.isnull().sum()"
   ]
  },
  {
   "cell_type": "code",
   "execution_count": 5,
   "id": "84dfaf2d-27e2-42c8-936d-be11a172b062",
   "metadata": {},
   "outputs": [
    {
     "data": {
      "text/plain": [
       "68"
      ]
     },
     "execution_count": 5,
     "metadata": {},
     "output_type": "execute_result"
    }
   ],
   "source": [
    "df.duplicated().sum()"
   ]
  },
  {
   "cell_type": "code",
   "execution_count": 6,
   "id": "93f5536c-d827-47e9-9387-304412fae6ca",
   "metadata": {},
   "outputs": [],
   "source": [
    "df.drop_duplicates(inplace=True)"
   ]
  },
  {
   "cell_type": "code",
   "execution_count": 7,
   "id": "8f8e0e82-98e6-44c0-8fae-4310c29109a7",
   "metadata": {},
   "outputs": [
    {
     "data": {
      "text/plain": [
       "(13543, 17)"
      ]
     },
     "execution_count": 7,
     "metadata": {},
     "output_type": "execute_result"
    }
   ],
   "source": [
    "df.shape"
   ]
  },
  {
   "cell_type": "code",
   "execution_count": 8,
   "id": "7df6ff5e-d25a-473d-90cf-d5dac154fcc9",
   "metadata": {},
   "outputs": [
    {
     "data": {
      "text/plain": [
       "Index(['Area', 'Perimeter', 'MajorAxisLength', 'MinorAxisLength',\n",
       "       'AspectRation', 'Eccentricity', 'ConvexArea', 'EquivDiameter', 'Extent',\n",
       "       'Solidity', 'roundness', 'Compactness', 'ShapeFactor1', 'ShapeFactor2',\n",
       "       'ShapeFactor3', 'ShapeFactor4', 'Class'],\n",
       "      dtype='object')"
      ]
     },
     "execution_count": 8,
     "metadata": {},
     "output_type": "execute_result"
    }
   ],
   "source": [
    "df.columns"
   ]
  },
  {
   "cell_type": "code",
   "execution_count": 9,
   "id": "d7be77c1-73ec-45d8-b295-1bb2da721db1",
   "metadata": {},
   "outputs": [
    {
     "data": {
      "text/plain": [
       "DERMASON    3546\n",
       "SIRA        2636\n",
       "SEKER       2027\n",
       "HOROZ       1860\n",
       "CALI        1630\n",
       "BARBUNYA    1322\n",
       "BOMBAY       522\n",
       "Name: Class, dtype: int64"
      ]
     },
     "execution_count": 9,
     "metadata": {},
     "output_type": "execute_result"
    }
   ],
   "source": [
    "df[\"Class\"].value_counts()"
   ]
  },
  {
   "cell_type": "code",
   "execution_count": null,
   "id": "ce2349ec-8c0d-4710-b13f-e48bcc3c8b0e",
   "metadata": {},
   "outputs": [],
   "source": [
    "# we will do label encoding of target features"
   ]
  },
  {
   "cell_type": "code",
   "execution_count": 10,
   "id": "356758c4-9f65-436d-af9c-db1313c5aa10",
   "metadata": {},
   "outputs": [],
   "source": [
    "from sklearn.preprocessing import LabelEncoder"
   ]
  },
  {
   "cell_type": "code",
   "execution_count": 11,
   "id": "4437dc90-67d5-4afa-b66a-3277c5477928",
   "metadata": {},
   "outputs": [],
   "source": [
    "lbl_encoder=LabelEncoder()"
   ]
  },
  {
   "cell_type": "code",
   "execution_count": 12,
   "id": "9506dbfc-3a5f-4983-90da-128d5d87b7d0",
   "metadata": {},
   "outputs": [],
   "source": [
    "df[\"Class\"]=lbl_encoder.fit_transform(df[\"Class\"])"
   ]
  },
  {
   "cell_type": "code",
   "execution_count": 13,
   "id": "bbe419d5-138b-4f43-b7f3-d23060ff8fd3",
   "metadata": {},
   "outputs": [
    {
     "data": {
      "text/plain": [
       "3    3546\n",
       "6    2636\n",
       "5    2027\n",
       "4    1860\n",
       "2    1630\n",
       "0    1322\n",
       "1     522\n",
       "Name: Class, dtype: int64"
      ]
     },
     "execution_count": 13,
     "metadata": {},
     "output_type": "execute_result"
    }
   ],
   "source": [
    "df[\"Class\"].value_counts()"
   ]
  },
  {
   "cell_type": "markdown",
   "id": "f6b9e0e5-8d88-4170-a491-7c732a3c9c97",
   "metadata": {},
   "source": [
    "##### label encoded\n",
    "DERMASON-    3\n",
    "\n",
    "SIRA-        6\n",
    "\n",
    "SEKER-       5\n",
    "\n",
    "HOROZ-       4\n",
    "\n",
    "CALI-        2\n",
    "\n",
    "BARBUNYA-    0\n",
    "\n",
    "BOMBAY-      1"
   ]
  },
  {
   "cell_type": "code",
   "execution_count": 14,
   "id": "4e549b15-1deb-475c-8491-f8b237ea3d29",
   "metadata": {},
   "outputs": [
    {
     "data": {
      "text/html": [
       "<div>\n",
       "<style scoped>\n",
       "    .dataframe tbody tr th:only-of-type {\n",
       "        vertical-align: middle;\n",
       "    }\n",
       "\n",
       "    .dataframe tbody tr th {\n",
       "        vertical-align: top;\n",
       "    }\n",
       "\n",
       "    .dataframe thead th {\n",
       "        text-align: right;\n",
       "    }\n",
       "</style>\n",
       "<table border=\"1\" class=\"dataframe\">\n",
       "  <thead>\n",
       "    <tr style=\"text-align: right;\">\n",
       "      <th></th>\n",
       "      <th>Area</th>\n",
       "      <th>Perimeter</th>\n",
       "      <th>MajorAxisLength</th>\n",
       "      <th>MinorAxisLength</th>\n",
       "      <th>AspectRation</th>\n",
       "      <th>Eccentricity</th>\n",
       "      <th>ConvexArea</th>\n",
       "      <th>EquivDiameter</th>\n",
       "      <th>Extent</th>\n",
       "      <th>Solidity</th>\n",
       "      <th>roundness</th>\n",
       "      <th>Compactness</th>\n",
       "      <th>ShapeFactor1</th>\n",
       "      <th>ShapeFactor2</th>\n",
       "      <th>ShapeFactor3</th>\n",
       "      <th>ShapeFactor4</th>\n",
       "      <th>Class</th>\n",
       "    </tr>\n",
       "  </thead>\n",
       "  <tbody>\n",
       "    <tr>\n",
       "      <th>0</th>\n",
       "      <td>28395</td>\n",
       "      <td>610.291</td>\n",
       "      <td>208.178117</td>\n",
       "      <td>173.888747</td>\n",
       "      <td>1.197191</td>\n",
       "      <td>0.549812</td>\n",
       "      <td>28715</td>\n",
       "      <td>190.141097</td>\n",
       "      <td>0.763923</td>\n",
       "      <td>0.988856</td>\n",
       "      <td>0.958027</td>\n",
       "      <td>0.913358</td>\n",
       "      <td>0.007332</td>\n",
       "      <td>0.003147</td>\n",
       "      <td>0.834222</td>\n",
       "      <td>0.998724</td>\n",
       "      <td>5</td>\n",
       "    </tr>\n",
       "    <tr>\n",
       "      <th>1</th>\n",
       "      <td>28734</td>\n",
       "      <td>638.018</td>\n",
       "      <td>200.524796</td>\n",
       "      <td>182.734419</td>\n",
       "      <td>1.097356</td>\n",
       "      <td>0.411785</td>\n",
       "      <td>29172</td>\n",
       "      <td>191.272750</td>\n",
       "      <td>0.783968</td>\n",
       "      <td>0.984986</td>\n",
       "      <td>0.887034</td>\n",
       "      <td>0.953861</td>\n",
       "      <td>0.006979</td>\n",
       "      <td>0.003564</td>\n",
       "      <td>0.909851</td>\n",
       "      <td>0.998430</td>\n",
       "      <td>5</td>\n",
       "    </tr>\n",
       "    <tr>\n",
       "      <th>2</th>\n",
       "      <td>29380</td>\n",
       "      <td>624.110</td>\n",
       "      <td>212.826130</td>\n",
       "      <td>175.931143</td>\n",
       "      <td>1.209713</td>\n",
       "      <td>0.562727</td>\n",
       "      <td>29690</td>\n",
       "      <td>193.410904</td>\n",
       "      <td>0.778113</td>\n",
       "      <td>0.989559</td>\n",
       "      <td>0.947849</td>\n",
       "      <td>0.908774</td>\n",
       "      <td>0.007244</td>\n",
       "      <td>0.003048</td>\n",
       "      <td>0.825871</td>\n",
       "      <td>0.999066</td>\n",
       "      <td>5</td>\n",
       "    </tr>\n",
       "    <tr>\n",
       "      <th>3</th>\n",
       "      <td>30008</td>\n",
       "      <td>645.884</td>\n",
       "      <td>210.557999</td>\n",
       "      <td>182.516516</td>\n",
       "      <td>1.153638</td>\n",
       "      <td>0.498616</td>\n",
       "      <td>30724</td>\n",
       "      <td>195.467062</td>\n",
       "      <td>0.782681</td>\n",
       "      <td>0.976696</td>\n",
       "      <td>0.903936</td>\n",
       "      <td>0.928329</td>\n",
       "      <td>0.007017</td>\n",
       "      <td>0.003215</td>\n",
       "      <td>0.861794</td>\n",
       "      <td>0.994199</td>\n",
       "      <td>5</td>\n",
       "    </tr>\n",
       "    <tr>\n",
       "      <th>4</th>\n",
       "      <td>30140</td>\n",
       "      <td>620.134</td>\n",
       "      <td>201.847882</td>\n",
       "      <td>190.279279</td>\n",
       "      <td>1.060798</td>\n",
       "      <td>0.333680</td>\n",
       "      <td>30417</td>\n",
       "      <td>195.896503</td>\n",
       "      <td>0.773098</td>\n",
       "      <td>0.990893</td>\n",
       "      <td>0.984877</td>\n",
       "      <td>0.970516</td>\n",
       "      <td>0.006697</td>\n",
       "      <td>0.003665</td>\n",
       "      <td>0.941900</td>\n",
       "      <td>0.999166</td>\n",
       "      <td>5</td>\n",
       "    </tr>\n",
       "  </tbody>\n",
       "</table>\n",
       "</div>"
      ],
      "text/plain": [
       "    Area  Perimeter  MajorAxisLength  MinorAxisLength  AspectRation  \\\n",
       "0  28395    610.291       208.178117       173.888747      1.197191   \n",
       "1  28734    638.018       200.524796       182.734419      1.097356   \n",
       "2  29380    624.110       212.826130       175.931143      1.209713   \n",
       "3  30008    645.884       210.557999       182.516516      1.153638   \n",
       "4  30140    620.134       201.847882       190.279279      1.060798   \n",
       "\n",
       "   Eccentricity  ConvexArea  EquivDiameter    Extent  Solidity  roundness  \\\n",
       "0      0.549812       28715     190.141097  0.763923  0.988856   0.958027   \n",
       "1      0.411785       29172     191.272750  0.783968  0.984986   0.887034   \n",
       "2      0.562727       29690     193.410904  0.778113  0.989559   0.947849   \n",
       "3      0.498616       30724     195.467062  0.782681  0.976696   0.903936   \n",
       "4      0.333680       30417     195.896503  0.773098  0.990893   0.984877   \n",
       "\n",
       "   Compactness  ShapeFactor1  ShapeFactor2  ShapeFactor3  ShapeFactor4  Class  \n",
       "0     0.913358      0.007332      0.003147      0.834222      0.998724      5  \n",
       "1     0.953861      0.006979      0.003564      0.909851      0.998430      5  \n",
       "2     0.908774      0.007244      0.003048      0.825871      0.999066      5  \n",
       "3     0.928329      0.007017      0.003215      0.861794      0.994199      5  \n",
       "4     0.970516      0.006697      0.003665      0.941900      0.999166      5  "
      ]
     },
     "execution_count": 14,
     "metadata": {},
     "output_type": "execute_result"
    }
   ],
   "source": [
    "df.head()"
   ]
  },
  {
   "cell_type": "code",
   "execution_count": 16,
   "id": "15c80156-7111-4446-acb6-6c7bf035743d",
   "metadata": {},
   "outputs": [],
   "source": [
    "# define independent and dependent features\n",
    "X=df.drop(columns=\"Class\")\n",
    "y=df[\"Class\"]"
   ]
  },
  {
   "cell_type": "code",
   "execution_count": 17,
   "id": "104e9dea-9841-46f3-b885-fded75129b62",
   "metadata": {},
   "outputs": [
    {
     "data": {
      "text/html": [
       "<div>\n",
       "<style scoped>\n",
       "    .dataframe tbody tr th:only-of-type {\n",
       "        vertical-align: middle;\n",
       "    }\n",
       "\n",
       "    .dataframe tbody tr th {\n",
       "        vertical-align: top;\n",
       "    }\n",
       "\n",
       "    .dataframe thead th {\n",
       "        text-align: right;\n",
       "    }\n",
       "</style>\n",
       "<table border=\"1\" class=\"dataframe\">\n",
       "  <thead>\n",
       "    <tr style=\"text-align: right;\">\n",
       "      <th></th>\n",
       "      <th>Area</th>\n",
       "      <th>Perimeter</th>\n",
       "      <th>MajorAxisLength</th>\n",
       "      <th>MinorAxisLength</th>\n",
       "      <th>AspectRation</th>\n",
       "      <th>Eccentricity</th>\n",
       "      <th>ConvexArea</th>\n",
       "      <th>EquivDiameter</th>\n",
       "      <th>Extent</th>\n",
       "      <th>Solidity</th>\n",
       "      <th>roundness</th>\n",
       "      <th>Compactness</th>\n",
       "      <th>ShapeFactor1</th>\n",
       "      <th>ShapeFactor2</th>\n",
       "      <th>ShapeFactor3</th>\n",
       "      <th>ShapeFactor4</th>\n",
       "    </tr>\n",
       "  </thead>\n",
       "  <tbody>\n",
       "    <tr>\n",
       "      <th>0</th>\n",
       "      <td>28395</td>\n",
       "      <td>610.291</td>\n",
       "      <td>208.178117</td>\n",
       "      <td>173.888747</td>\n",
       "      <td>1.197191</td>\n",
       "      <td>0.549812</td>\n",
       "      <td>28715</td>\n",
       "      <td>190.141097</td>\n",
       "      <td>0.763923</td>\n",
       "      <td>0.988856</td>\n",
       "      <td>0.958027</td>\n",
       "      <td>0.913358</td>\n",
       "      <td>0.007332</td>\n",
       "      <td>0.003147</td>\n",
       "      <td>0.834222</td>\n",
       "      <td>0.998724</td>\n",
       "    </tr>\n",
       "    <tr>\n",
       "      <th>1</th>\n",
       "      <td>28734</td>\n",
       "      <td>638.018</td>\n",
       "      <td>200.524796</td>\n",
       "      <td>182.734419</td>\n",
       "      <td>1.097356</td>\n",
       "      <td>0.411785</td>\n",
       "      <td>29172</td>\n",
       "      <td>191.272750</td>\n",
       "      <td>0.783968</td>\n",
       "      <td>0.984986</td>\n",
       "      <td>0.887034</td>\n",
       "      <td>0.953861</td>\n",
       "      <td>0.006979</td>\n",
       "      <td>0.003564</td>\n",
       "      <td>0.909851</td>\n",
       "      <td>0.998430</td>\n",
       "    </tr>\n",
       "    <tr>\n",
       "      <th>2</th>\n",
       "      <td>29380</td>\n",
       "      <td>624.110</td>\n",
       "      <td>212.826130</td>\n",
       "      <td>175.931143</td>\n",
       "      <td>1.209713</td>\n",
       "      <td>0.562727</td>\n",
       "      <td>29690</td>\n",
       "      <td>193.410904</td>\n",
       "      <td>0.778113</td>\n",
       "      <td>0.989559</td>\n",
       "      <td>0.947849</td>\n",
       "      <td>0.908774</td>\n",
       "      <td>0.007244</td>\n",
       "      <td>0.003048</td>\n",
       "      <td>0.825871</td>\n",
       "      <td>0.999066</td>\n",
       "    </tr>\n",
       "    <tr>\n",
       "      <th>3</th>\n",
       "      <td>30008</td>\n",
       "      <td>645.884</td>\n",
       "      <td>210.557999</td>\n",
       "      <td>182.516516</td>\n",
       "      <td>1.153638</td>\n",
       "      <td>0.498616</td>\n",
       "      <td>30724</td>\n",
       "      <td>195.467062</td>\n",
       "      <td>0.782681</td>\n",
       "      <td>0.976696</td>\n",
       "      <td>0.903936</td>\n",
       "      <td>0.928329</td>\n",
       "      <td>0.007017</td>\n",
       "      <td>0.003215</td>\n",
       "      <td>0.861794</td>\n",
       "      <td>0.994199</td>\n",
       "    </tr>\n",
       "    <tr>\n",
       "      <th>4</th>\n",
       "      <td>30140</td>\n",
       "      <td>620.134</td>\n",
       "      <td>201.847882</td>\n",
       "      <td>190.279279</td>\n",
       "      <td>1.060798</td>\n",
       "      <td>0.333680</td>\n",
       "      <td>30417</td>\n",
       "      <td>195.896503</td>\n",
       "      <td>0.773098</td>\n",
       "      <td>0.990893</td>\n",
       "      <td>0.984877</td>\n",
       "      <td>0.970516</td>\n",
       "      <td>0.006697</td>\n",
       "      <td>0.003665</td>\n",
       "      <td>0.941900</td>\n",
       "      <td>0.999166</td>\n",
       "    </tr>\n",
       "    <tr>\n",
       "      <th>...</th>\n",
       "      <td>...</td>\n",
       "      <td>...</td>\n",
       "      <td>...</td>\n",
       "      <td>...</td>\n",
       "      <td>...</td>\n",
       "      <td>...</td>\n",
       "      <td>...</td>\n",
       "      <td>...</td>\n",
       "      <td>...</td>\n",
       "      <td>...</td>\n",
       "      <td>...</td>\n",
       "      <td>...</td>\n",
       "      <td>...</td>\n",
       "      <td>...</td>\n",
       "      <td>...</td>\n",
       "      <td>...</td>\n",
       "    </tr>\n",
       "    <tr>\n",
       "      <th>13606</th>\n",
       "      <td>42097</td>\n",
       "      <td>759.696</td>\n",
       "      <td>288.721612</td>\n",
       "      <td>185.944705</td>\n",
       "      <td>1.552728</td>\n",
       "      <td>0.765002</td>\n",
       "      <td>42508</td>\n",
       "      <td>231.515799</td>\n",
       "      <td>0.714574</td>\n",
       "      <td>0.990331</td>\n",
       "      <td>0.916603</td>\n",
       "      <td>0.801865</td>\n",
       "      <td>0.006858</td>\n",
       "      <td>0.001749</td>\n",
       "      <td>0.642988</td>\n",
       "      <td>0.998385</td>\n",
       "    </tr>\n",
       "    <tr>\n",
       "      <th>13607</th>\n",
       "      <td>42101</td>\n",
       "      <td>757.499</td>\n",
       "      <td>281.576392</td>\n",
       "      <td>190.713136</td>\n",
       "      <td>1.476439</td>\n",
       "      <td>0.735702</td>\n",
       "      <td>42494</td>\n",
       "      <td>231.526798</td>\n",
       "      <td>0.799943</td>\n",
       "      <td>0.990752</td>\n",
       "      <td>0.922015</td>\n",
       "      <td>0.822252</td>\n",
       "      <td>0.006688</td>\n",
       "      <td>0.001886</td>\n",
       "      <td>0.676099</td>\n",
       "      <td>0.998219</td>\n",
       "    </tr>\n",
       "    <tr>\n",
       "      <th>13608</th>\n",
       "      <td>42139</td>\n",
       "      <td>759.321</td>\n",
       "      <td>281.539928</td>\n",
       "      <td>191.187979</td>\n",
       "      <td>1.472582</td>\n",
       "      <td>0.734065</td>\n",
       "      <td>42569</td>\n",
       "      <td>231.631261</td>\n",
       "      <td>0.729932</td>\n",
       "      <td>0.989899</td>\n",
       "      <td>0.918424</td>\n",
       "      <td>0.822730</td>\n",
       "      <td>0.006681</td>\n",
       "      <td>0.001888</td>\n",
       "      <td>0.676884</td>\n",
       "      <td>0.996767</td>\n",
       "    </tr>\n",
       "    <tr>\n",
       "      <th>13609</th>\n",
       "      <td>42147</td>\n",
       "      <td>763.779</td>\n",
       "      <td>283.382636</td>\n",
       "      <td>190.275731</td>\n",
       "      <td>1.489326</td>\n",
       "      <td>0.741055</td>\n",
       "      <td>42667</td>\n",
       "      <td>231.653248</td>\n",
       "      <td>0.705389</td>\n",
       "      <td>0.987813</td>\n",
       "      <td>0.907906</td>\n",
       "      <td>0.817457</td>\n",
       "      <td>0.006724</td>\n",
       "      <td>0.001852</td>\n",
       "      <td>0.668237</td>\n",
       "      <td>0.995222</td>\n",
       "    </tr>\n",
       "    <tr>\n",
       "      <th>13610</th>\n",
       "      <td>42159</td>\n",
       "      <td>772.237</td>\n",
       "      <td>295.142741</td>\n",
       "      <td>182.204716</td>\n",
       "      <td>1.619841</td>\n",
       "      <td>0.786693</td>\n",
       "      <td>42600</td>\n",
       "      <td>231.686223</td>\n",
       "      <td>0.788962</td>\n",
       "      <td>0.989648</td>\n",
       "      <td>0.888380</td>\n",
       "      <td>0.784997</td>\n",
       "      <td>0.007001</td>\n",
       "      <td>0.001640</td>\n",
       "      <td>0.616221</td>\n",
       "      <td>0.998180</td>\n",
       "    </tr>\n",
       "  </tbody>\n",
       "</table>\n",
       "<p>13543 rows × 16 columns</p>\n",
       "</div>"
      ],
      "text/plain": [
       "        Area  Perimeter  MajorAxisLength  MinorAxisLength  AspectRation  \\\n",
       "0      28395    610.291       208.178117       173.888747      1.197191   \n",
       "1      28734    638.018       200.524796       182.734419      1.097356   \n",
       "2      29380    624.110       212.826130       175.931143      1.209713   \n",
       "3      30008    645.884       210.557999       182.516516      1.153638   \n",
       "4      30140    620.134       201.847882       190.279279      1.060798   \n",
       "...      ...        ...              ...              ...           ...   \n",
       "13606  42097    759.696       288.721612       185.944705      1.552728   \n",
       "13607  42101    757.499       281.576392       190.713136      1.476439   \n",
       "13608  42139    759.321       281.539928       191.187979      1.472582   \n",
       "13609  42147    763.779       283.382636       190.275731      1.489326   \n",
       "13610  42159    772.237       295.142741       182.204716      1.619841   \n",
       "\n",
       "       Eccentricity  ConvexArea  EquivDiameter    Extent  Solidity  roundness  \\\n",
       "0          0.549812       28715     190.141097  0.763923  0.988856   0.958027   \n",
       "1          0.411785       29172     191.272750  0.783968  0.984986   0.887034   \n",
       "2          0.562727       29690     193.410904  0.778113  0.989559   0.947849   \n",
       "3          0.498616       30724     195.467062  0.782681  0.976696   0.903936   \n",
       "4          0.333680       30417     195.896503  0.773098  0.990893   0.984877   \n",
       "...             ...         ...            ...       ...       ...        ...   \n",
       "13606      0.765002       42508     231.515799  0.714574  0.990331   0.916603   \n",
       "13607      0.735702       42494     231.526798  0.799943  0.990752   0.922015   \n",
       "13608      0.734065       42569     231.631261  0.729932  0.989899   0.918424   \n",
       "13609      0.741055       42667     231.653248  0.705389  0.987813   0.907906   \n",
       "13610      0.786693       42600     231.686223  0.788962  0.989648   0.888380   \n",
       "\n",
       "       Compactness  ShapeFactor1  ShapeFactor2  ShapeFactor3  ShapeFactor4  \n",
       "0         0.913358      0.007332      0.003147      0.834222      0.998724  \n",
       "1         0.953861      0.006979      0.003564      0.909851      0.998430  \n",
       "2         0.908774      0.007244      0.003048      0.825871      0.999066  \n",
       "3         0.928329      0.007017      0.003215      0.861794      0.994199  \n",
       "4         0.970516      0.006697      0.003665      0.941900      0.999166  \n",
       "...            ...           ...           ...           ...           ...  \n",
       "13606     0.801865      0.006858      0.001749      0.642988      0.998385  \n",
       "13607     0.822252      0.006688      0.001886      0.676099      0.998219  \n",
       "13608     0.822730      0.006681      0.001888      0.676884      0.996767  \n",
       "13609     0.817457      0.006724      0.001852      0.668237      0.995222  \n",
       "13610     0.784997      0.007001      0.001640      0.616221      0.998180  \n",
       "\n",
       "[13543 rows x 16 columns]"
      ]
     },
     "execution_count": 17,
     "metadata": {},
     "output_type": "execute_result"
    }
   ],
   "source": [
    "X"
   ]
  },
  {
   "cell_type": "code",
   "execution_count": 18,
   "id": "08a8cf2d-0e84-40b5-b6ef-39f0831b3794",
   "metadata": {},
   "outputs": [
    {
     "data": {
      "text/plain": [
       "0        5\n",
       "1        5\n",
       "2        5\n",
       "3        5\n",
       "4        5\n",
       "        ..\n",
       "13606    3\n",
       "13607    3\n",
       "13608    3\n",
       "13609    3\n",
       "13610    3\n",
       "Name: Class, Length: 13543, dtype: int32"
      ]
     },
     "execution_count": 18,
     "metadata": {},
     "output_type": "execute_result"
    }
   ],
   "source": [
    "y"
   ]
  },
  {
   "cell_type": "code",
   "execution_count": 19,
   "id": "c4853831-dff1-4565-a750-86bb0de64527",
   "metadata": {},
   "outputs": [
    {
     "data": {
      "text/plain": [
       "((13543, 16), (13543,))"
      ]
     },
     "execution_count": 19,
     "metadata": {},
     "output_type": "execute_result"
    }
   ],
   "source": [
    "X.shape,y.shape"
   ]
  },
  {
   "cell_type": "code",
   "execution_count": 20,
   "id": "2efd2d0b-5417-47cd-bf51-f23f8fc16c0e",
   "metadata": {},
   "outputs": [],
   "source": [
    "# split train test data\n",
    "from sklearn.model_selection import train_test_split"
   ]
  },
  {
   "cell_type": "code",
   "execution_count": 21,
   "id": "f9a27ed3-80c7-4381-9621-69d3e56c53bc",
   "metadata": {},
   "outputs": [],
   "source": [
    "X_train,X_test,y_train,y_test=train_test_split(X,y,test_size=0.20,random_state=42)"
   ]
  },
  {
   "cell_type": "code",
   "execution_count": 22,
   "id": "971fd877-177a-4260-b5a3-5b6f940d167a",
   "metadata": {},
   "outputs": [
    {
     "data": {
      "text/plain": [
       "((10834, 16), (10834,), (2709, 16), (2709,))"
      ]
     },
     "execution_count": 22,
     "metadata": {},
     "output_type": "execute_result"
    }
   ],
   "source": [
    "X_train.shape,y_train.shape,X_test.shape,y_test.shape"
   ]
  },
  {
   "cell_type": "markdown",
   "id": "97c36544-9db8-458e-93c3-cac1332416db",
   "metadata": {},
   "source": [
    "## Standardization or feature scaling"
   ]
  },
  {
   "cell_type": "code",
   "execution_count": 23,
   "id": "ddfb2772-1f9e-4f8e-b5ab-d42bd5e2227d",
   "metadata": {},
   "outputs": [],
   "source": [
    "from sklearn.preprocessing import StandardScaler"
   ]
  },
  {
   "cell_type": "code",
   "execution_count": 24,
   "id": "64674c1d-f669-42c5-9858-23412ca3045e",
   "metadata": {},
   "outputs": [],
   "source": [
    "scaler=StandardScaler()"
   ]
  },
  {
   "cell_type": "code",
   "execution_count": 25,
   "id": "bd9e08ff-6e5f-4bc5-996f-19444afd6d78",
   "metadata": {},
   "outputs": [],
   "source": [
    "X_train_scaled=scaler.fit_transform(X_train)\n",
    "X_test_scaled=scaler.transform(X_test)"
   ]
  },
  {
   "cell_type": "code",
   "execution_count": 26,
   "id": "34c3b4a3-37e3-496f-bc96-3281c3b4384c",
   "metadata": {},
   "outputs": [
    {
     "data": {
      "text/plain": [
       "array([[-0.14835145,  0.09071354,  0.37307936, ..., -1.01084769,\n",
       "        -1.45790619,  0.11869882],\n",
       "       [-0.53252543, -0.59679411, -0.52886544, ...,  0.15114821,\n",
       "        -0.12022463,  0.57645998],\n",
       "       [-0.94140875, -1.17883183, -1.0494912 , ...,  0.63362139,\n",
       "        -0.31022475,  0.28591469],\n",
       "       ...,\n",
       "       [ 1.26373825,  1.40726978,  1.59735148, ..., -1.30216976,\n",
       "        -0.96664631, -0.23283181],\n",
       "       [-0.49899863, -0.67042564, -0.8536193 , ...,  1.41012366,\n",
       "         1.61797985,  0.86222347],\n",
       "       [ 0.42898606,  0.77278412,  0.9264202 , ..., -1.15784375,\n",
       "        -1.22468158, -2.54313742]])"
      ]
     },
     "execution_count": 26,
     "metadata": {},
     "output_type": "execute_result"
    }
   ],
   "source": [
    "X_train_scaled"
   ]
  },
  {
   "cell_type": "code",
   "execution_count": 27,
   "id": "5c88fbf5-e174-4666-b8d7-dcc25bd731b5",
   "metadata": {},
   "outputs": [
    {
     "data": {
      "text/plain": [
       "array([[-0.50767937, -0.66637467, -0.75289115, ...,  0.96303582,\n",
       "         1.02538774,  0.89394459],\n",
       "       [ 0.27293781,  0.41143564,  0.28199445, ..., -0.37197975,\n",
       "         0.12008437, -2.33647504],\n",
       "       [-0.62083657, -0.72701789, -0.73158347, ...,  0.55465975,\n",
       "         0.27172945,  0.81795973],\n",
       "       ...,\n",
       "       [-0.91317926, -1.1611485 , -1.19378361, ...,  1.40386785,\n",
       "         0.64350785,  0.0966431 ],\n",
       "       [-0.25463924, -0.23495092, -0.10835536, ..., -0.33320887,\n",
       "        -0.43476987,  0.46579996],\n",
       "       [-0.29698348, -0.25722193, -0.30937162, ...,  0.06149174,\n",
       "         0.11727133, -0.80633987]])"
      ]
     },
     "execution_count": 27,
     "metadata": {},
     "output_type": "execute_result"
    }
   ],
   "source": [
    "X_test_scaled"
   ]
  },
  {
   "cell_type": "code",
   "execution_count": 28,
   "id": "468ca1ac-6bd2-4b79-bd44-19aa725bf715",
   "metadata": {},
   "outputs": [
    {
     "data": {
      "text/plain": [
       "3    2839\n",
       "6    2102\n",
       "5    1613\n",
       "4    1484\n",
       "2    1325\n",
       "0    1063\n",
       "1     408\n",
       "Name: Class, dtype: int64"
      ]
     },
     "execution_count": 28,
     "metadata": {},
     "output_type": "execute_result"
    }
   ],
   "source": [
    "# target variable\n",
    "y_train.value_counts()"
   ]
  },
  {
   "cell_type": "code",
   "execution_count": 29,
   "id": "d531e6a8-0d12-4ac0-88f1-a64176a88366",
   "metadata": {},
   "outputs": [
    {
     "data": {
      "text/plain": [
       "3    707\n",
       "6    534\n",
       "5    414\n",
       "4    376\n",
       "2    305\n",
       "0    259\n",
       "1    114\n",
       "Name: Class, dtype: int64"
      ]
     },
     "execution_count": 29,
     "metadata": {},
     "output_type": "execute_result"
    }
   ],
   "source": [
    "y_test.value_counts()"
   ]
  },
  {
   "cell_type": "code",
   "execution_count": 35,
   "id": "458dcf2e-1f0e-4d00-bc13-0a4056f09dc0",
   "metadata": {},
   "outputs": [
    {
     "data": {
      "text/plain": [
       "(5963     4\n",
       " 13060    3\n",
       " 10327    3\n",
       " 591      5\n",
       " 10931    3\n",
       "         ..\n",
       " 5191     2\n",
       " 13486    3\n",
       " 5390     2\n",
       " 860      5\n",
       " 7336     4\n",
       " Name: Class, Length: 10834, dtype: int32,\n",
       " 811      5\n",
       " 3942     2\n",
       " 12563    3\n",
       " 3528     1\n",
       " 12552    3\n",
       "         ..\n",
       " 9887     6\n",
       " 13045    3\n",
       " 10458    3\n",
       " 8972     6\n",
       " 8688     6\n",
       " Name: Class, Length: 2709, dtype: int32)"
      ]
     },
     "execution_count": 35,
     "metadata": {},
     "output_type": "execute_result"
    }
   ],
   "source": [
    "y_train,y_test"
   ]
  },
  {
   "cell_type": "markdown",
   "id": "12223121-0a9a-4d05-b785-07279b13c51e",
   "metadata": {},
   "source": [
    "## model building"
   ]
  },
  {
   "cell_type": "code",
   "execution_count": 135,
   "id": "91dd23a2-a5c2-4892-a23f-7c3171039263",
   "metadata": {},
   "outputs": [],
   "source": [
    "from sklearn.linear_model import LogisticRegression\n",
    "from sklearn.neighbors import KNeighborsClassifier\n",
    "from sklearn.tree import DecisionTreeClassifier"
   ]
  },
  {
   "cell_type": "code",
   "execution_count": 137,
   "id": "c87f8fa5-dc9b-4326-8734-7b1b073abdcb",
   "metadata": {},
   "outputs": [],
   "source": [
    "classification=LogisticRegression()\n",
    "KNN_classifier=KNeighborsClassifier(n_neighbors=6,algorithm=\"auto\")\n",
    "d_classifier=DecisionTreeClassifier()"
   ]
  },
  {
   "cell_type": "code",
   "execution_count": 138,
   "id": "14637600-64c1-46c0-bdd5-fd52fc281f8c",
   "metadata": {},
   "outputs": [
    {
     "data": {
      "text/plain": [
       "DecisionTreeClassifier()"
      ]
     },
     "execution_count": 138,
     "metadata": {},
     "output_type": "execute_result"
    }
   ],
   "source": [
    "classification.fit(X_train_scaled,y_train)\n",
    "KNN_classifier.fit(X_train_scaled,y_train)\n",
    "d_classifier.fit(X_train_scaled,y_train)"
   ]
  },
  {
   "cell_type": "code",
   "execution_count": 139,
   "id": "1563773a-4964-4a4f-9f41-d6c63afccfc3",
   "metadata": {},
   "outputs": [],
   "source": [
    "y_test_pred1=classification.predict(X_test_scaled)\n",
    "y_test_pred2=KNN_classifier.predict(X_test_scaled)\n",
    "y_test_pred3=d_classifier.predict(X_test_scaled)"
   ]
  },
  {
   "cell_type": "code",
   "execution_count": 74,
   "id": "ec6ac038-aac8-453b-9d97-422bcf55375e",
   "metadata": {},
   "outputs": [
    {
     "data": {
      "text/plain": [
       "((2709,), (2709,), (2709,), (2709,))"
      ]
     },
     "execution_count": 74,
     "metadata": {},
     "output_type": "execute_result"
    }
   ],
   "source": [
    "y_test.shape,y_test_pred1.shape,y_test_pred2.shape,y_test_pred3.shape"
   ]
  },
  {
   "cell_type": "code",
   "execution_count": 140,
   "id": "896057e2-2ed7-43e5-b3c7-a402c846d0a0",
   "metadata": {},
   "outputs": [],
   "source": [
    "df1=pd.DataFrame({\"Actual\":y_test,\"classification\":y_test_pred1,\"KNN\":y_test_pred2,\"Decision_Tree\":y_test_pred3})"
   ]
  },
  {
   "cell_type": "code",
   "execution_count": 141,
   "id": "930d3b3d-5384-40f1-b023-677d4ac18227",
   "metadata": {},
   "outputs": [
    {
     "data": {
      "text/html": [
       "<div>\n",
       "<style scoped>\n",
       "    .dataframe tbody tr th:only-of-type {\n",
       "        vertical-align: middle;\n",
       "    }\n",
       "\n",
       "    .dataframe tbody tr th {\n",
       "        vertical-align: top;\n",
       "    }\n",
       "\n",
       "    .dataframe thead th {\n",
       "        text-align: right;\n",
       "    }\n",
       "</style>\n",
       "<table border=\"1\" class=\"dataframe\">\n",
       "  <thead>\n",
       "    <tr style=\"text-align: right;\">\n",
       "      <th></th>\n",
       "      <th>Actual</th>\n",
       "      <th>classification</th>\n",
       "      <th>KNN</th>\n",
       "      <th>Decision_Tree</th>\n",
       "    </tr>\n",
       "  </thead>\n",
       "  <tbody>\n",
       "    <tr>\n",
       "      <th>811</th>\n",
       "      <td>5</td>\n",
       "      <td>5</td>\n",
       "      <td>5</td>\n",
       "      <td>5</td>\n",
       "    </tr>\n",
       "    <tr>\n",
       "      <th>3942</th>\n",
       "      <td>2</td>\n",
       "      <td>2</td>\n",
       "      <td>2</td>\n",
       "      <td>2</td>\n",
       "    </tr>\n",
       "    <tr>\n",
       "      <th>12563</th>\n",
       "      <td>3</td>\n",
       "      <td>3</td>\n",
       "      <td>3</td>\n",
       "      <td>3</td>\n",
       "    </tr>\n",
       "    <tr>\n",
       "      <th>3528</th>\n",
       "      <td>1</td>\n",
       "      <td>1</td>\n",
       "      <td>1</td>\n",
       "      <td>1</td>\n",
       "    </tr>\n",
       "    <tr>\n",
       "      <th>12552</th>\n",
       "      <td>3</td>\n",
       "      <td>3</td>\n",
       "      <td>3</td>\n",
       "      <td>3</td>\n",
       "    </tr>\n",
       "    <tr>\n",
       "      <th>...</th>\n",
       "      <td>...</td>\n",
       "      <td>...</td>\n",
       "      <td>...</td>\n",
       "      <td>...</td>\n",
       "    </tr>\n",
       "    <tr>\n",
       "      <th>9887</th>\n",
       "      <td>6</td>\n",
       "      <td>6</td>\n",
       "      <td>6</td>\n",
       "      <td>6</td>\n",
       "    </tr>\n",
       "    <tr>\n",
       "      <th>13045</th>\n",
       "      <td>3</td>\n",
       "      <td>3</td>\n",
       "      <td>3</td>\n",
       "      <td>3</td>\n",
       "    </tr>\n",
       "    <tr>\n",
       "      <th>10458</th>\n",
       "      <td>3</td>\n",
       "      <td>3</td>\n",
       "      <td>3</td>\n",
       "      <td>3</td>\n",
       "    </tr>\n",
       "    <tr>\n",
       "      <th>8972</th>\n",
       "      <td>6</td>\n",
       "      <td>6</td>\n",
       "      <td>6</td>\n",
       "      <td>6</td>\n",
       "    </tr>\n",
       "    <tr>\n",
       "      <th>8688</th>\n",
       "      <td>6</td>\n",
       "      <td>6</td>\n",
       "      <td>6</td>\n",
       "      <td>6</td>\n",
       "    </tr>\n",
       "  </tbody>\n",
       "</table>\n",
       "<p>2709 rows × 4 columns</p>\n",
       "</div>"
      ],
      "text/plain": [
       "       Actual  classification  KNN  Decision_Tree\n",
       "811         5               5    5              5\n",
       "3942        2               2    2              2\n",
       "12563       3               3    3              3\n",
       "3528        1               1    1              1\n",
       "12552       3               3    3              3\n",
       "...       ...             ...  ...            ...\n",
       "9887        6               6    6              6\n",
       "13045       3               3    3              3\n",
       "10458       3               3    3              3\n",
       "8972        6               6    6              6\n",
       "8688        6               6    6              6\n",
       "\n",
       "[2709 rows x 4 columns]"
      ]
     },
     "execution_count": 141,
     "metadata": {},
     "output_type": "execute_result"
    }
   ],
   "source": [
    "df1"
   ]
  },
  {
   "cell_type": "code",
   "execution_count": 77,
   "id": "1ac57c16-d3b4-4618-8f95-87f7054d9f74",
   "metadata": {},
   "outputs": [],
   "source": [
    "import matplotlib.pyplot as plt"
   ]
  },
  {
   "cell_type": "code",
   "execution_count": 142,
   "id": "1faf4784-129e-40ad-abaa-c4a75bd91e40",
   "metadata": {},
   "outputs": [
    {
     "data": {
      "text/plain": [
       "<matplotlib.legend.Legend at 0x219e4dd4c70>"
      ]
     },
     "execution_count": 142,
     "metadata": {},
     "output_type": "execute_result"
    },
    {
     "data": {
      "image/png": "[encoded data removed]",
      "text/plain": [
       "<Figure size 640x480 with 3 Axes>"
      ]
     },
     "metadata": {},
     "output_type": "display_data"
    }
   ],
   "source": [
    "plt.subplot(221)\n",
    "plt.plot(df1[\"Actual\"].iloc[0:11],label=\"Actual\")\n",
    "plt.plot (df1[\"classification\"].iloc[0:11],label=\"classification\")\n",
    "\n",
    "plt.subplot(222)\n",
    "plt.plot(df1[\"Actual\"].iloc[0:11],label=\"Actual\")\n",
    "plt.plot (df1[\"KNN\"].iloc[0:11],label=\"KNN\")\n",
    "\n",
    "plt.subplot(223)\n",
    "plt.plot(df1[\"Actual\"].iloc[0:11],label=\"Actual\")\n",
    "plt.plot (df1[\"Decision_Tree\"].iloc[0:11],label=\"Decision_Tree\")\n",
    "\n",
    "plt.tight_layout()\n",
    "plt.legend()"
   ]
  },
  {
   "cell_type": "code",
   "execution_count": 79,
   "id": "5bd3236b-af2a-4f7a-953e-2ee5685cd3df",
   "metadata": {},
   "outputs": [],
   "source": [
    "from sklearn.metrics import accuracy_score"
   ]
  },
  {
   "cell_type": "code",
   "execution_count": 144,
   "id": "55f20bff-c765-4241-81c8-d9706d6d15b4",
   "metadata": {},
   "outputs": [],
   "source": [
    "Accuracy_score1=accuracy_score(y_test,y_test_pred1) # for classification\n",
    "Accuracy_score2=accuracy_score(y_test,y_test_pred2) # for KNN\n",
    "Accuracy_score3=accuracy_score(y_test,y_test_pred3) # for decision tree"
   ]
  },
  {
   "cell_type": "markdown",
   "id": "05a417ff-280a-4536-99fe-eaa757adbe2a",
   "metadata": {},
   "source": [
    "#### testing accuracy"
   ]
  },
  {
   "cell_type": "code",
   "execution_count": 145,
   "id": "28d4f532-adee-4387-a228-3a06d72b3b84",
   "metadata": {},
   "outputs": [
    {
     "name": "stdout",
     "output_type": "stream",
     "text": [
      "accuracy score value is : 0.9198966408268734 0.9243263196751569 0.8929494278331488\n"
     ]
    }
   ],
   "source": [
    "\n",
    "print(\"accuracy score value is :\",Accuracy_score1,Accuracy_score2,Accuracy_score3)\n"
   ]
  },
  {
   "cell_type": "markdown",
   "id": "3e15937e-c953-4e61-8d05-b0f00dd5cccf",
   "metadata": {},
   "source": [
    "#### training accuracy"
   ]
  },
  {
   "cell_type": "code",
   "execution_count": 146,
   "id": "079c2a7f-073e-4898-8d9d-716eae277995",
   "metadata": {},
   "outputs": [],
   "source": [
    "y_train_pred1=classification.predict(X_train_scaled)\n",
    "y_train_pred2=KNN_classifier.predict(X_train_scaled)\n",
    "y_train_pred3=d_classifier.predict(X_train_scaled)"
   ]
  },
  {
   "cell_type": "code",
   "execution_count": 147,
   "id": "eee358f9-026f-4918-8f17-15355ba130bb",
   "metadata": {},
   "outputs": [],
   "source": [
    "accuracy_score_train1=accuracy_score(y_train,y_train_pred1)\n",
    "accuracy_score_train2=accuracy_score(y_train,y_train_pred2)\n",
    "accuracy_score_train3=accuracy_score(y_train,y_train_pred3)"
   ]
  },
  {
   "cell_type": "code",
   "execution_count": 148,
   "id": "f22a76aa-8358-4535-9486-324da615e2e8",
   "metadata": {},
   "outputs": [
    {
     "name": "stdout",
     "output_type": "stream",
     "text": [
      "accuracy score value is : 0.9248661620823334 0.9402805981170389 1.0\n"
     ]
    }
   ],
   "source": [
    "print(\"accuracy score value is :\",accuracy_score_train1,accuracy_score_train2,accuracy_score_train3)"
   ]
  },
  {
   "cell_type": "markdown",
   "id": "7603a879-51c2-4042-b89b-c5bcb63bc4f3",
   "metadata": {},
   "source": [
    "### Hyper parameter tunning of Logistic Regression"
   ]
  },
  {
   "cell_type": "code",
   "execution_count": 82,
   "id": "964825e5-c138-49e4-ac82-97574382e2f7",
   "metadata": {},
   "outputs": [],
   "source": [
    "from sklearn.model_selection import GridSearchCV\n",
    "import warnings\n",
    "warnings.filterwarnings(\"ignore\")"
   ]
  },
  {
   "cell_type": "code",
   "execution_count": 89,
   "id": "af7f1c96-06fb-40dd-a7ab-e00ee6d478b8",
   "metadata": {},
   "outputs": [],
   "source": [
    "parameters={\"penalty\":[\"l1\",\"l2\",\"elasticnet\"],\"C\":[1,10,20,30]}"
   ]
  },
  {
   "cell_type": "code",
   "execution_count": 90,
   "id": "35013ceb-8ebf-4825-88b4-d655b300d41c",
   "metadata": {},
   "outputs": [],
   "source": [
    "classfier_new=LogisticRegression()"
   ]
  },
  {
   "cell_type": "code",
   "execution_count": 91,
   "id": "a1350792-815b-4fc7-b1de-b4ac0d5d0c79",
   "metadata": {},
   "outputs": [],
   "source": [
    "clf=GridSearchCV(classfier_new,param_grid=parameters,cv=5)"
   ]
  },
  {
   "cell_type": "code",
   "execution_count": 92,
   "id": "8b145e92-ff94-46a3-8e24-880e922b0e50",
   "metadata": {},
   "outputs": [
    {
     "data": {
      "text/plain": [
       "GridSearchCV(cv=5, estimator=LogisticRegression(),\n",
       "             param_grid={'C': [1, 10, 20, 30],\n",
       "                         'penalty': ['l1', 'l2', 'elasticnet']})"
      ]
     },
     "execution_count": 92,
     "metadata": {},
     "output_type": "execute_result"
    }
   ],
   "source": [
    "clf.fit(X_train_scaled,y_train)"
   ]
  },
  {
   "cell_type": "code",
   "execution_count": 93,
   "id": "616550b4-cc4c-47aa-8cef-9ee36bee80c7",
   "metadata": {},
   "outputs": [
    {
     "data": {
      "text/plain": [
       "{'C': 1, 'penalty': 'l2'}"
      ]
     },
     "execution_count": 93,
     "metadata": {},
     "output_type": "execute_result"
    }
   ],
   "source": [
    "clf.best_params_"
   ]
  },
  {
   "cell_type": "code",
   "execution_count": 94,
   "id": "caacb041-646a-4087-a678-ad30aa2918a9",
   "metadata": {},
   "outputs": [
    {
     "data": {
      "text/plain": [
       "0.9247740279462653"
      ]
     },
     "execution_count": 94,
     "metadata": {},
     "output_type": "execute_result"
    }
   ],
   "source": [
    "clf.best_score_"
   ]
  },
  {
   "cell_type": "code",
   "execution_count": 95,
   "id": "bf0719cc-5f91-49f6-9ef0-7d4b37189674",
   "metadata": {},
   "outputs": [],
   "source": [
    "classifier_final=LogisticRegression(C=1,penalty=\"l2\")"
   ]
  },
  {
   "cell_type": "code",
   "execution_count": 96,
   "id": "114268ac-821c-44d3-bdd4-fbc42ce75e19",
   "metadata": {},
   "outputs": [
    {
     "data": {
      "text/plain": [
       "LogisticRegression(C=1)"
      ]
     },
     "execution_count": 96,
     "metadata": {},
     "output_type": "execute_result"
    }
   ],
   "source": [
    "classifier_final.fit(X_train_scaled,y_train)"
   ]
  },
  {
   "cell_type": "code",
   "execution_count": 97,
   "id": "7694858e-56a1-4b9e-ad7d-49f2cb2e5a8e",
   "metadata": {},
   "outputs": [],
   "source": [
    "y_pred_final=classifier_final.predict(X_test_scaled)"
   ]
  },
  {
   "cell_type": "code",
   "execution_count": 98,
   "id": "d2a0f1ee-c0f8-46ae-8570-40e723b01e3a",
   "metadata": {},
   "outputs": [
    {
     "data": {
      "text/plain": [
       "array([5, 2, 3, ..., 3, 6, 6])"
      ]
     },
     "execution_count": 98,
     "metadata": {},
     "output_type": "execute_result"
    }
   ],
   "source": [
    "y_pred_final"
   ]
  },
  {
   "cell_type": "code",
   "execution_count": 99,
   "id": "b3c1c1fc-3429-449f-b303-b0473f41e8b1",
   "metadata": {},
   "outputs": [],
   "source": [
    "accuracy_score_new=accuracy_score(y_test,y_pred_final)"
   ]
  },
  {
   "cell_type": "code",
   "execution_count": 100,
   "id": "25bab0ae-0d3c-4e70-89ff-42423cd61835",
   "metadata": {},
   "outputs": [
    {
     "data": {
      "text/plain": [
       "0.9198966408268734"
      ]
     },
     "execution_count": 100,
     "metadata": {},
     "output_type": "execute_result"
    }
   ],
   "source": [
    "accuracy_score_new"
   ]
  },
  {
   "cell_type": "markdown",
   "id": "20341d42-61c7-486c-a108-61898d98c180",
   "metadata": {},
   "source": [
    "#### look like the accuracy is same after hyperparameter tunning for logistic regression"
   ]
  },
  {
   "cell_type": "markdown",
   "id": "d646d6b6-66ce-43a7-b58f-3b90e8981cb8",
   "metadata": {},
   "source": [
    "# Hyperparameter tunning for KNN"
   ]
  },
  {
   "cell_type": "code",
   "execution_count": 152,
   "id": "ead01838-ff92-4bc6-996a-db1136c4c7b9",
   "metadata": {},
   "outputs": [],
   "source": [
    "KNN_parameter = {\n",
    "    'n_neighbors': [3, 5, 7, 9, 11],  # Range of neighbor values to try\n",
    "    'metric': ['euclidean', 'manhattan', 'minkowski']  # Different distance metrics to consider\n",
    "}\n"
   ]
  },
  {
   "cell_type": "code",
   "execution_count": 153,
   "id": "d217626a-01af-4d32-9e3b-c3250b0097dd",
   "metadata": {},
   "outputs": [],
   "source": [
    "KNN_new=KNeighborsClassifier()"
   ]
  },
  {
   "cell_type": "code",
   "execution_count": 154,
   "id": "a54bd238-71b4-4b95-b82d-218b7d11461a",
   "metadata": {},
   "outputs": [],
   "source": [
    "KNN_clf=GridSearchCV(estimator=KNN_new, param_grid=KNN_parameter, cv=5, scoring='accuracy')\n"
   ]
  },
  {
   "cell_type": "code",
   "execution_count": 155,
   "id": "4a245e24-3e92-46eb-a6c3-1fc758f2bfba",
   "metadata": {},
   "outputs": [
    {
     "data": {
      "text/plain": [
       "GridSearchCV(cv=5, estimator=KNeighborsClassifier(),\n",
       "             param_grid={'metric': ['euclidean', 'manhattan', 'minkowski'],\n",
       "                         'n_neighbors': [3, 5, 7, 9, 11]},\n",
       "             scoring='accuracy')"
      ]
     },
     "execution_count": 155,
     "metadata": {},
     "output_type": "execute_result"
    }
   ],
   "source": [
    "KNN_clf.fit(X_train_scaled,y_train)"
   ]
  },
  {
   "cell_type": "code",
   "execution_count": 156,
   "id": "6816d7df-b5d5-430e-aba0-0567242d2f2b",
   "metadata": {},
   "outputs": [
    {
     "data": {
      "text/plain": [
       "{'metric': 'euclidean', 'n_neighbors': 9}"
      ]
     },
     "execution_count": 156,
     "metadata": {},
     "output_type": "execute_result"
    }
   ],
   "source": [
    "KNN_clf.best_params_"
   ]
  },
  {
   "cell_type": "code",
   "execution_count": 157,
   "id": "a5edf25b-6b48-4586-be60-2775c7e0f1a7",
   "metadata": {},
   "outputs": [],
   "source": [
    "KNN_final=KNeighborsClassifier(metric=\"euclidean\",n_neighbors=9)"
   ]
  },
  {
   "cell_type": "code",
   "execution_count": 158,
   "id": "278dfa45-2a2f-4fe1-a6f7-8bd1ecd6402d",
   "metadata": {},
   "outputs": [
    {
     "data": {
      "text/plain": [
       "KNeighborsClassifier(metric='euclidean', n_neighbors=9)"
      ]
     },
     "execution_count": 158,
     "metadata": {},
     "output_type": "execute_result"
    }
   ],
   "source": [
    "KNN_final.fit(X_train_scaled,y_train)"
   ]
  },
  {
   "cell_type": "code",
   "execution_count": 159,
   "id": "8d76ee86-0fab-4622-846e-d8740952bebe",
   "metadata": {},
   "outputs": [],
   "source": [
    "y_pred_KNN=KNN_final.predict(X_test_scaled)"
   ]
  },
  {
   "cell_type": "code",
   "execution_count": 160,
   "id": "df5d1d34-1cc1-4d8c-9c49-12753153ba49",
   "metadata": {},
   "outputs": [
    {
     "data": {
      "text/plain": [
       "array([5, 2, 3, ..., 3, 6, 6])"
      ]
     },
     "execution_count": 160,
     "metadata": {},
     "output_type": "execute_result"
    }
   ],
   "source": [
    "y_pred_KNN"
   ]
  },
  {
   "cell_type": "code",
   "execution_count": 161,
   "id": "dc2e9431-5f91-4e63-ba7b-080e80396e46",
   "metadata": {},
   "outputs": [
    {
     "data": {
      "text/plain": [
       "0.9224806201550387"
      ]
     },
     "execution_count": 161,
     "metadata": {},
     "output_type": "execute_result"
    }
   ],
   "source": [
    "accuracy_score(y_test,y_pred_KNN)"
   ]
  },
  {
   "cell_type": "markdown",
   "id": "4755eef5-261a-4e31-832f-419bfae9305c",
   "metadata": {},
   "source": [
    "### Insights\n",
    "Accuracy got low in KNN after Hyperparameter tunning"
   ]
  },
  {
   "cell_type": "code",
   "execution_count": null,
   "id": "8e061df0-9dff-4041-b645-565e5d38ef71",
   "metadata": {},
   "outputs": [],
   "source": []
  },
  {
   "cell_type": "markdown",
   "id": "3561bf45-cad0-4e60-895d-e469b403e871",
   "metadata": {},
   "source": [
    "# Hyperparameter tunning for Decision tree"
   ]
  },
  {
   "cell_type": "markdown",
   "id": "8bd9e3e6-d998-4237-9024-7dac2f5a4168",
   "metadata": {},
   "source": [
    "## post pruning"
   ]
  },
  {
   "cell_type": "code",
   "execution_count": 103,
   "id": "f8c97f34-80fb-44ff-8997-52b68d5ed5f5",
   "metadata": {},
   "outputs": [],
   "source": [
    "classifier_post=DecisionTreeClassifier(criterion=\"entropy\",max_depth=2)"
   ]
  },
  {
   "cell_type": "code",
   "execution_count": 104,
   "id": "b5883e09-8d79-456e-bc3d-4997dfe05fe8",
   "metadata": {},
   "outputs": [
    {
     "data": {
      "text/plain": [
       "DecisionTreeClassifier(criterion='entropy', max_depth=2)"
      ]
     },
     "execution_count": 104,
     "metadata": {},
     "output_type": "execute_result"
    }
   ],
   "source": [
    "classifier_post.fit(X_train_scaled,y_train)"
   ]
  },
  {
   "cell_type": "code",
   "execution_count": 105,
   "id": "be0f0722-f8da-4290-a186-0704417f9d9e",
   "metadata": {},
   "outputs": [
    {
     "data": {
      "text/plain": [
       "[Text(0.5, 0.8333333333333334, 'X[2] <= 0.094\\nentropy = 2.645\\nsamples = 10834\\nvalue = [1063, 408, 1325, 2839, 1484, 1613, 2102]'),\n",
       " Text(0.25, 0.5, 'X[3] <= -0.428\\nentropy = 1.738\\nsamples = 6590\\nvalue = [100, 0, 5, 2839, 112, 1610, 1924]'),\n",
       " Text(0.125, 0.16666666666666666, 'entropy = 0.823\\nsamples = 3150\\nvalue = [1, 0, 0, 2617, 103, 25, 404]'),\n",
       " Text(0.375, 0.16666666666666666, 'entropy = 1.474\\nsamples = 3440\\nvalue = [99, 0, 5, 222, 9, 1585, 1520]'),\n",
       " Text(0.75, 0.5, 'X[12] <= -0.419\\nentropy = 2.06\\nsamples = 4244\\nvalue = [963, 408, 1320, 0, 1372, 3, 178]'),\n",
       " Text(0.625, 0.16666666666666666, 'entropy = 1.567\\nsamples = 2660\\nvalue = [934, 408, 1275, 0, 30, 2, 11]'),\n",
       " Text(0.875, 0.16666666666666666, 'entropy = 0.803\\nsamples = 1584\\nvalue = [29, 0, 45, 0, 1342, 1, 167]')]"
      ]
     },
     "execution_count": 105,
     "metadata": {},
     "output_type": "execute_result"
    },
    {
     "data": {
      "image/png": "[encoded data removed]",
      "text/plain": [
       "<Figure size 1200x1000 with 1 Axes>"
      ]
     },
     "metadata": {},
     "output_type": "display_data"
    }
   ],
   "source": [
    "from sklearn import tree\n",
    "plt.figure(figsize=(12,10))\n",
    "tree.plot_tree(classifier_post,filled=True)"
   ]
  },
  {
   "cell_type": "code",
   "execution_count": 106,
   "id": "6eb6c3ec-f78c-43b3-a753-5028f6883d4c",
   "metadata": {},
   "outputs": [],
   "source": [
    "y_pred_post=classifier_post.predict(X_test_scaled)"
   ]
  },
  {
   "cell_type": "code",
   "execution_count": 107,
   "id": "845d4369-4ec6-4c56-80c6-7dcbd6fd25e7",
   "metadata": {},
   "outputs": [
    {
     "data": {
      "text/plain": [
       "array([5, 2, 3, ..., 3, 5, 5])"
      ]
     },
     "execution_count": 107,
     "metadata": {},
     "output_type": "execute_result"
    }
   ],
   "source": [
    "y_pred_post"
   ]
  },
  {
   "cell_type": "code",
   "execution_count": 108,
   "id": "1fc97bbf-8c2d-485f-8518-df26602df034",
   "metadata": {},
   "outputs": [
    {
     "data": {
      "text/plain": [
       "(2709,)"
      ]
     },
     "execution_count": 108,
     "metadata": {},
     "output_type": "execute_result"
    }
   ],
   "source": [
    "y_pred_post.shape"
   ]
  },
  {
   "cell_type": "code",
   "execution_count": 109,
   "id": "a79edb7c-b874-4a8f-8cf8-3c026640ba56",
   "metadata": {},
   "outputs": [],
   "source": [
    "#performance matrix\n",
    "from sklearn.metrics import accuracy_score"
   ]
  },
  {
   "cell_type": "code",
   "execution_count": 110,
   "id": "b3d849d1-571c-42fd-8c3b-88d8b95ff3e1",
   "metadata": {},
   "outputs": [
    {
     "data": {
      "text/plain": [
       "0.6168327796234773"
      ]
     },
     "execution_count": 110,
     "metadata": {},
     "output_type": "execute_result"
    }
   ],
   "source": [
    "accuracy_score(y_pred_post,y_test)"
   ]
  },
  {
   "cell_type": "markdown",
   "id": "943fdb1d-c6a6-472f-be8c-78b4242c35a8",
   "metadata": {},
   "source": [
    "## Insights \n",
    "we get very low accuracy in post prunning"
   ]
  },
  {
   "cell_type": "markdown",
   "id": "b68c9e95-8568-4e2f-a61c-0df6f39ef368",
   "metadata": {},
   "source": [
    "## prepruning"
   ]
  },
  {
   "cell_type": "code",
   "execution_count": 111,
   "id": "ad2c4c02-ae86-444a-a56d-42674e8e8a3c",
   "metadata": {},
   "outputs": [],
   "source": [
    "import warnings\n",
    "warnings.filterwarnings(\"ignore\")"
   ]
  },
  {
   "cell_type": "code",
   "execution_count": 112,
   "id": "cca6e7f2-b589-400a-9335-af3e6b8f1ada",
   "metadata": {},
   "outputs": [],
   "source": [
    "parameter_pre={\"criterion\":[\"gini\",\"entropy\",\"log_loss\"],\n",
    "               \"splitter\":[\"best\",\"random\"],\n",
    "               \"max_depth\":[1,2,3,4,5],\n",
    "               \"max_features\":[\"auto\",\"sqrt\",\"log2\"]\n",
    "              }"
   ]
  },
  {
   "cell_type": "code",
   "execution_count": 113,
   "id": "98331af0-424a-43ea-b543-763b2f3ed156",
   "metadata": {},
   "outputs": [],
   "source": [
    "from sklearn.model_selection import GridSearchCV"
   ]
  },
  {
   "cell_type": "code",
   "execution_count": 114,
   "id": "056de05f-aa02-4946-a228-ddbe6ff24b62",
   "metadata": {},
   "outputs": [],
   "source": [
    "classifier_pre=DecisionTreeClassifier()"
   ]
  },
  {
   "cell_type": "code",
   "execution_count": 115,
   "id": "2382097e-bb18-4acd-ae44-0ccb3e0e780f",
   "metadata": {},
   "outputs": [],
   "source": [
    "clf_pre=GridSearchCV(classifier_pre,param_grid=parameter_pre,cv=5,scoring=\"accuracy\")"
   ]
  },
  {
   "cell_type": "code",
   "execution_count": 116,
   "id": "8cd09982-c6d3-4056-81e8-872e4d6fcaf5",
   "metadata": {},
   "outputs": [
    {
     "data": {
      "text/plain": [
       "GridSearchCV(cv=5, estimator=DecisionTreeClassifier(),\n",
       "             param_grid={'criterion': ['gini', 'entropy', 'log_loss'],\n",
       "                         'max_depth': [1, 2, 3, 4, 5],\n",
       "                         'max_features': ['auto', 'sqrt', 'log2'],\n",
       "                         'splitter': ['best', 'random']},\n",
       "             scoring='accuracy')"
      ]
     },
     "execution_count": 116,
     "metadata": {},
     "output_type": "execute_result"
    }
   ],
   "source": [
    "clf_pre.fit(X_train_scaled,y_train)"
   ]
  },
  {
   "cell_type": "code",
   "execution_count": 117,
   "id": "b9040903-0529-44be-b62a-2f1ea0921733",
   "metadata": {},
   "outputs": [
    {
     "data": {
      "text/plain": [
       "{'criterion': 'entropy',\n",
       " 'max_depth': 5,\n",
       " 'max_features': 'auto',\n",
       " 'splitter': 'best'}"
      ]
     },
     "execution_count": 117,
     "metadata": {},
     "output_type": "execute_result"
    }
   ],
   "source": [
    "clf_pre.best_params_"
   ]
  },
  {
   "cell_type": "code",
   "execution_count": 118,
   "id": "2d3e793e-7004-4782-a44f-5aec96bb3b65",
   "metadata": {},
   "outputs": [],
   "source": [
    "# use this best parameter\n",
    "parameter_new1={'criterion': 'entropy',\n",
    "                'max_depth': 5,\n",
    "                'max_features': 'auto',\n",
    "                'splitter': 'best'}"
   ]
  },
  {
   "cell_type": "code",
   "execution_count": 119,
   "id": "ab59d4cc-a23a-46ef-a441-d4a23e4da700",
   "metadata": {},
   "outputs": [],
   "source": [
    "classifier_pre1=DecisionTreeClassifier(criterion=\"entropy\",max_depth=5,max_features=\"auto\",splitter=\"best\")"
   ]
  },
  {
   "cell_type": "code",
   "execution_count": 120,
   "id": "1411d761-7146-4533-838a-fdcc475e939d",
   "metadata": {},
   "outputs": [
    {
     "data": {
      "text/plain": [
       "DecisionTreeClassifier(criterion='entropy', max_depth=5, max_features='auto')"
      ]
     },
     "execution_count": 120,
     "metadata": {},
     "output_type": "execute_result"
    }
   ],
   "source": [
    "classifier_pre1.fit(X_train_scaled,y_train)"
   ]
  },
  {
   "cell_type": "code",
   "execution_count": 122,
   "id": "dc74a37b-9cb2-4849-a2ac-ce82f4e9be0f",
   "metadata": {},
   "outputs": [
    {
     "data": {
      "text/plain": [
       "[Text(0.5193965517241379, 0.9166666666666666, 'X[6] <= -0.004\\nentropy = 2.645\\nsamples = 10834\\nvalue = [1063, 408, 1325, 2839, 1484, 1613, 2102]'),\n",
       " Text(0.27586206896551724, 0.75, 'X[6] <= -0.453\\nentropy = 1.901\\nsamples = 7169\\nvalue = [49, 0, 6, 2839, 658, 1595, 2022]'),\n",
       " Text(0.13793103448275862, 0.5833333333333334, 'X[4] <= -1.051\\nentropy = 1.215\\nsamples = 3933\\nvalue = [0, 0, 0, 2699, 49, 894, 291]'),\n",
       " Text(0.06896551724137931, 0.4166666666666667, 'X[14] <= 1.467\\nentropy = 0.453\\nsamples = 932\\nvalue = [0, 0, 0, 80, 0, 849, 3]'),\n",
       " Text(0.034482758620689655, 0.25, 'X[12] <= 0.412\\nentropy = 0.991\\nsamples = 216\\nvalue = [0, 0, 0, 67, 0, 146, 3]'),\n",
       " Text(0.017241379310344827, 0.08333333333333333, 'entropy = 0.542\\nsamples = 161\\nvalue = [0, 0, 0, 15, 0, 144, 2]'),\n",
       " Text(0.05172413793103448, 0.08333333333333333, 'entropy = 0.355\\nsamples = 55\\nvalue = [0, 0, 0, 52, 0, 2, 1]'),\n",
       " Text(0.10344827586206896, 0.25, 'X[12] <= 0.437\\nentropy = 0.131\\nsamples = 716\\nvalue = [0, 0, 0, 13, 0, 703, 0]'),\n",
       " Text(0.08620689655172414, 0.08333333333333333, 'entropy = 0.04\\nsamples = 704\\nvalue = [0, 0, 0, 3, 0, 701, 0]'),\n",
       " Text(0.1206896551724138, 0.08333333333333333, 'entropy = 0.65\\nsamples = 12\\nvalue = [0, 0, 0, 10, 0, 2, 0]'),\n",
       " Text(0.20689655172413793, 0.4166666666666667, 'X[1] <= -0.701\\nentropy = 0.684\\nsamples = 3001\\nvalue = [0, 0, 0, 2619, 49, 45, 288]'),\n",
       " Text(0.1724137931034483, 0.25, 'X[1] <= -0.867\\nentropy = 0.179\\nsamples = 2149\\nvalue = [0, 0, 0, 2102, 4, 14, 29]'),\n",
       " Text(0.15517241379310345, 0.08333333333333333, 'entropy = 0.015\\nsamples = 1465\\nvalue = [0, 0, 0, 1463, 0, 2, 0]'),\n",
       " Text(0.1896551724137931, 0.08333333333333333, 'entropy = 0.431\\nsamples = 684\\nvalue = [0, 0, 0, 639, 4, 12, 29]'),\n",
       " Text(0.2413793103448276, 0.25, 'X[4] <= 0.753\\nentropy = 1.358\\nsamples = 852\\nvalue = [0, 0, 0, 517, 45, 31, 259]'),\n",
       " Text(0.22413793103448276, 0.08333333333333333, 'entropy = 1.198\\nsamples = 810\\nvalue = [0, 0, 0, 511, 9, 31, 259]'),\n",
       " Text(0.25862068965517243, 0.08333333333333333, 'entropy = 0.592\\nsamples = 42\\nvalue = [0, 0, 0, 6, 36, 0, 0]'),\n",
       " Text(0.41379310344827586, 0.5833333333333334, 'X[14] <= -0.937\\nentropy = 1.719\\nsamples = 3236\\nvalue = [49, 0, 6, 140, 609, 701, 1731]'),\n",
       " Text(0.3448275862068966, 0.4166666666666667, 'X[4] <= 1.146\\nentropy = 0.222\\nsamples = 597\\nvalue = [0, 0, 1, 1, 578, 0, 17]'),\n",
       " Text(0.3103448275862069, 0.25, 'X[7] <= -0.364\\nentropy = 1.052\\nsamples = 48\\nvalue = [0, 0, 0, 1, 31, 0, 16]'),\n",
       " Text(0.29310344827586204, 0.08333333333333333, 'entropy = 0.65\\nsamples = 6\\nvalue = [0, 0, 0, 1, 5, 0, 0]'),\n",
       " Text(0.3275862068965517, 0.08333333333333333, 'entropy = 0.959\\nsamples = 42\\nvalue = [0, 0, 0, 0, 26, 0, 16]'),\n",
       " Text(0.3793103448275862, 0.25, 'X[4] <= 1.231\\nentropy = 0.038\\nsamples = 549\\nvalue = [0, 0, 1, 0, 547, 0, 1]'),\n",
       " Text(0.3620689655172414, 0.08333333333333333, 'entropy = 0.31\\nsamples = 18\\nvalue = [0, 0, 0, 0, 17, 0, 1]'),\n",
       " Text(0.39655172413793105, 0.08333333333333333, 'entropy = 0.02\\nsamples = 531\\nvalue = [0, 0, 1, 0, 530, 0, 0]'),\n",
       " Text(0.4827586206896552, 0.4166666666666667, 'X[14] <= 0.594\\nentropy = 1.335\\nsamples = 2639\\nvalue = [49, 0, 5, 139, 31, 701, 1714]'),\n",
       " Text(0.4482758620689655, 0.25, 'X[10] <= -0.59\\nentropy = 0.776\\nsamples = 1905\\nvalue = [39, 0, 5, 118, 31, 44, 1668]'),\n",
       " Text(0.43103448275862066, 0.08333333333333333, 'entropy = 1.658\\nsamples = 80\\nvalue = [27, 0, 0, 1, 15, 1, 36]'),\n",
       " Text(0.46551724137931033, 0.08333333333333333, 'entropy = 0.657\\nsamples = 1825\\nvalue = [12, 0, 5, 117, 16, 43, 1632]'),\n",
       " Text(0.5172413793103449, 0.25, 'X[9] <= 0.818\\nentropy = 0.625\\nsamples = 734\\nvalue = [10, 0, 0, 21, 0, 657, 46]'),\n",
       " Text(0.5, 0.08333333333333333, 'entropy = 0.955\\nsamples = 372\\nvalue = [10, 0, 0, 17, 0, 301, 44]'),\n",
       " Text(0.5344827586206896, 0.08333333333333333, 'entropy = 0.137\\nsamples = 362\\nvalue = [0, 0, 0, 4, 0, 356, 2]'),\n",
       " Text(0.7629310344827587, 0.75, 'X[12] <= -0.418\\nentropy = 2.039\\nsamples = 3665\\nvalue = [1014, 408, 1319, 0, 826, 18, 80]'),\n",
       " Text(0.6637931034482759, 0.5833333333333334, 'X[2] <= 1.931\\nentropy = 1.614\\nsamples = 2734\\nvalue = [986, 408, 1277, 0, 30, 17, 16]'),\n",
       " Text(0.6206896551724138, 0.4166666666666667, 'X[14] <= -0.289\\nentropy = 1.203\\nsamples = 2323\\nvalue = [986, 5, 1269, 0, 30, 17, 16]'),\n",
       " Text(0.5862068965517241, 0.25, 'X[15] <= -0.064\\nentropy = 0.822\\nsamples = 1458\\nvalue = [257, 0, 1170, 0, 29, 0, 2]'),\n",
       " Text(0.5689655172413793, 0.08333333333333333, 'entropy = 0.449\\nsamples = 1104\\nvalue = [60, 0, 1021, 0, 23, 0, 0]'),\n",
       " Text(0.603448275862069, 0.08333333333333333, 'entropy = 1.138\\nsamples = 354\\nvalue = [197, 0, 149, 0, 6, 0, 2]'),\n",
       " Text(0.6551724137931034, 0.25, 'X[1] <= 0.26\\nentropy = 0.828\\nsamples = 865\\nvalue = [729, 5, 99, 0, 1, 17, 14]'),\n",
       " Text(0.6379310344827587, 0.08333333333333333, 'entropy = 1.972\\nsamples = 45\\nvalue = [8, 0, 5, 0, 1, 17, 14]'),\n",
       " Text(0.6724137931034483, 0.08333333333333333, 'entropy = 0.566\\nsamples = 820\\nvalue = [721, 5, 94, 0, 0, 0, 0]'),\n",
       " Text(0.7068965517241379, 0.4166666666666667, 'X[7] <= 2.38\\nentropy = 0.138\\nsamples = 411\\nvalue = [0, 403, 8, 0, 0, 0, 0]'),\n",
       " Text(0.6896551724137931, 0.25, 'entropy = 0.0\\nsamples = 8\\nvalue = [0, 0, 8, 0, 0, 0, 0]'),\n",
       " Text(0.7241379310344828, 0.25, 'entropy = 0.0\\nsamples = 403\\nvalue = [0, 403, 0, 0, 0, 0, 0]'),\n",
       " Text(0.8620689655172413, 0.5833333333333334, 'X[5] <= 0.977\\nentropy = 0.823\\nsamples = 931\\nvalue = [28, 0, 42, 0, 796, 1, 64]'),\n",
       " Text(0.7931034482758621, 0.4166666666666667, 'X[2] <= 0.343\\nentropy = 1.969\\nsamples = 159\\nvalue = [25, 0, 31, 0, 44, 1, 58]'),\n",
       " Text(0.7586206896551724, 0.25, 'X[10] <= -0.661\\nentropy = 1.558\\nsamples = 70\\nvalue = [19, 0, 5, 0, 4, 1, 41]'),\n",
       " Text(0.7413793103448276, 0.08333333333333333, 'entropy = 0.485\\nsamples = 19\\nvalue = [17, 0, 0, 0, 2, 0, 0]'),\n",
       " Text(0.7758620689655172, 0.08333333333333333, 'entropy = 1.059\\nsamples = 51\\nvalue = [2, 0, 5, 0, 2, 1, 41]'),\n",
       " Text(0.8275862068965517, 0.25, 'X[6] <= 0.18\\nentropy = 1.756\\nsamples = 89\\nvalue = [6, 0, 26, 0, 40, 0, 17]'),\n",
       " Text(0.8103448275862069, 0.08333333333333333, 'entropy = 1.716\\nsamples = 53\\nvalue = [2, 0, 12, 0, 22, 0, 17]'),\n",
       " Text(0.8448275862068966, 0.08333333333333333, 'entropy = 1.382\\nsamples = 36\\nvalue = [4, 0, 14, 0, 18, 0, 0]'),\n",
       " Text(0.9310344827586207, 0.4166666666666667, 'X[10] <= -0.972\\nentropy = 0.21\\nsamples = 772\\nvalue = [3, 0, 11, 0, 752, 0, 6]'),\n",
       " Text(0.896551724137931, 0.25, 'X[11] <= -1.528\\nentropy = 0.151\\nsamples = 666\\nvalue = [2, 0, 11, 0, 653, 0, 0]'),\n",
       " Text(0.8793103448275862, 0.08333333333333333, 'entropy = 0.0\\nsamples = 508\\nvalue = [0, 0, 0, 0, 508, 0, 0]'),\n",
       " Text(0.9137931034482759, 0.08333333333333333, 'entropy = 0.461\\nsamples = 158\\nvalue = [2, 0, 11, 0, 145, 0, 0]'),\n",
       " Text(0.9655172413793104, 0.25, 'X[11] <= -1.249\\nentropy = 0.39\\nsamples = 106\\nvalue = [1, 0, 0, 0, 99, 0, 6]'),\n",
       " Text(0.9482758620689655, 0.08333333333333333, 'entropy = 0.156\\nsamples = 88\\nvalue = [0, 0, 0, 0, 86, 0, 2]'),\n",
       " Text(0.9827586206896551, 0.08333333333333333, 'entropy = 1.053\\nsamples = 18\\nvalue = [1, 0, 0, 0, 13, 0, 4]')]"
      ]
     },
     "execution_count": 122,
     "metadata": {},
     "output_type": "execute_result"
    },
    {
     "data": {
      "image/png": "[encoded data removed]",
      "text/plain": [
       "<Figure size 1200x1000 with 1 Axes>"
      ]
     },
     "metadata": {},
     "output_type": "display_data"
    }
   ],
   "source": [
    "from sklearn import tree\n",
    "plt.figure(figsize=(12,10))\n",
    "tree.plot_tree(classifier_pre1,filled=True)"
   ]
  },
  {
   "cell_type": "code",
   "execution_count": 123,
   "id": "f838c033-2acc-4f2d-aeef-8fa58503b5b7",
   "metadata": {},
   "outputs": [],
   "source": [
    "y_pred_pre_final=classifier_pre1.predict(X_test_scaled)"
   ]
  },
  {
   "cell_type": "code",
   "execution_count": 124,
   "id": "eb7e8abf-c571-4c76-a356-6fae365740eb",
   "metadata": {},
   "outputs": [],
   "source": [
    "from sklearn.metrics import accuracy_score"
   ]
  },
  {
   "cell_type": "code",
   "execution_count": 125,
   "id": "e378fd80-1618-4c67-9a13-55f64722fa7e",
   "metadata": {},
   "outputs": [
    {
     "data": {
      "text/plain": [
       "0.8781838316722038"
      ]
     },
     "execution_count": 125,
     "metadata": {},
     "output_type": "execute_result"
    }
   ],
   "source": [
    "accuracy_score(y_pred_pre_final,y_test)"
   ]
  },
  {
   "cell_type": "markdown",
   "id": "b70fd1f0-8e2c-4a0e-8c51-1f9e6f0abb79",
   "metadata": {},
   "source": [
    "### Insights"
   ]
  },
  {
   "cell_type": "markdown",
   "id": "8fd81185-e629-4c04-ae49-51446b4c8c73",
   "metadata": {},
   "source": [
    "We got little bit low accuracy in prepruning"
   ]
  },
  {
   "cell_type": "code",
   "execution_count": null,
   "id": "0d338b2c-b6cd-4aa8-99ec-ac7224ba3589",
   "metadata": {},
   "outputs": [],
   "source": []
  }
 ],
 "metadata": {
  "kernelspec": {
   "display_name": "Python 3 (ipykernel)",
   "language": "python",
   "name": "python3"
  },
  "language_info": {
   "codemirror_mode": {
    "name": "ipython",
    "version": 3
   },
   "file_extension": ".py",
   "mimetype": "text/x-python",
   "name": "python",
   "nbconvert_exporter": "python",
   "pygments_lexer": "ipython3",
   "version": "3.9.13"
  }
 },
 "nbformat": 4,
 "nbformat_minor": 5
}
