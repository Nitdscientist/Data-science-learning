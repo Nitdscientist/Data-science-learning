{
 "cells": [
  {
   "cell_type": "markdown",
   "id": "ce0b6cb1-cd96-40a2-bd7a-cfc569351192",
   "metadata": {},
   "source": [
    "# Assignment-09 \n",
    "\n",
    "## Statistical Foundation\n",
    "\n",
    "### Name- NITESH KUMAR Batch-4"
   ]
  },
  {
   "cell_type": "markdown",
   "id": "1b4272b5-199f-4694-b751-e490793cac6f",
   "metadata": {},
   "source": [
    "# Q1. Write a Brief note on different types of test and data used in that test. Explaining Null and Alternative Hypothesis for a given test."
   ]
  },
  {
   "cell_type": "markdown",
   "id": "46df65a2-5a92-4d50-a9c3-71bd42721098",
   "metadata": {},
   "source": [
    "### Types of Tests and Data Used:\n",
    "\n",
    "1. T-Test:\n",
    "A t-test is used to compare the means of two groups and determine if there is a significant difference between them. The data used in a t-test is typically continuous and normally distributed. There are two main types of t-tests:\n",
    "\n",
    "2. Independent Samples T-Test:\n",
    "Used when the two groups being compared are independent of each other.\n",
    "Paired Samples T-Test: Used when the two groups being compared are related or matched (e.g., before and after measurements on the same subjects).\n",
    "\n",
    "3. ANOVA (Analysis of Variance): \n",
    "ANOVA is used to compare means across more than two groups. It determines if there is a significant difference between at least two groups. The data used in ANOVA is also continuous and normally distributed.\n",
    "\n",
    "4. Chi-Square Test:\n",
    "This test is used to analyze categorical data and determine if there is an association between two categorical variables. It is commonly used for testing independence in contingency tables.\n",
    "\n",
    "5. Regression Analysis:\n",
    "Regression is used to establish the relationship between a dependent variable and one or more independent variables. The data used can be continuous or categorical.\n",
    "\n",
    "6. Correlation Analysis:\n",
    "Correlation determines the strength and direction of a relationship between two continuous variables. It is used to assess the association between two variables.\n",
    "\n",
    "7. Mann-Whitney U Test (Wilcoxon Rank-Sum Test):\n",
    "This non-parametric test is used to compare the distributions of two independent groups when the data is not normally distributed.\n",
    "\n",
    "8. Kruskal-Wallis Test:\n",
    "Another non-parametric test, it is an extension of the Mann-Whitney U test and is used for comparing more than two independent groups.\n",
    "\n",
    "\n",
    "### Null and Alternative Hypothesis:\n",
    "\n",
    "The Null Hypothesis (H0) is a statement of no effect or no difference in the population. It represents the status quo or the default assumption that there is no relationship or no significant effect between variables. Researchers aim to test the null hypothesis to see if there is enough evidence to reject it in favor of an alternative hypothesis.\n",
    "\n",
    "The Alternative Hypothesis (Ha) is the statement researchers want to support with evidence from the data. It represents the possibility of an effect or a significant difference existing in the population.\n",
    "\n",
    "In hypothesis testing, we analyze the sample data to make inferences about the population. The goal is to either reject the null hypothesis in favor of the alternative hypothesis or fail to reject the null hypothesis due to insufficient evidence.\n",
    "\n",
    "##### For example- \n",
    "in a t-test to compare the means of two groups:\n",
    "\n",
    "#### Null Hypothesis (H0): \n",
    "There is no significant difference between the means of Group A and Group B.\n",
    "\n",
    "#### Alternative Hypothesis (Ha):\n",
    "There is a significant difference between the means of Group A and Group B.\n",
    "If the statistical analysis provides enough evidence to reject the null hypothesis, we accept the alternative hypothesis, suggesting that there is a significant difference between the means of the two groups. Conversely, if there is insufficient evidence, we fail to reject the null hypothesis, implying that we do not have enough evidence to support a significant difference between the means."
   ]
  },
  {
   "cell_type": "code",
   "execution_count": null,
   "id": "8dc0aa62-0954-46a8-a326-271dbdfd679e",
   "metadata": {},
   "outputs": [],
   "source": []
  },
  {
   "cell_type": "markdown",
   "id": "0be3662f-734d-4929-803f-93afd4716beb",
   "metadata": {},
   "source": [
    "# Q2. Explain Sampling Techniques. "
   ]
  },
  {
   "cell_type": "markdown",
   "id": "576ea508-8eae-41bd-ad20-51ebdb96e9c8",
   "metadata": {},
   "source": [
    "Sampling techniques are methods used to select a subset (sample) from a larger population for the purpose of making inferences about the population without having to study the entire population. Proper sampling is crucial in research and statistics to ensure that the sample accurately represents the characteristics of the entire population. There are several sampling techniques, each with its own advantages and limitations. Here are some commonly used sampling techniques:\n",
    "\n",
    "#### 1. Simple Random Sampling:\n",
    "In this method, every individual in the population has an equal chance of being selected for the sample. This is typically done using random number generators or drawing lots. Simple random sampling is unbiased and straightforward, making it easy to implement.\n",
    "\n",
    "#### 2. Stratified Sampling:\n",
    "In stratified sampling, the population is divided into subgroups or strata based on certain characteristics (e.g., age groups, gender, income levels). Then, a random sample is drawn from each stratum in proportion to its size relative to the whole population. This technique ensures that each subgroup is adequately represented in the final sample.\n",
    "\n",
    "#### 3. Systematic Sampling:\n",
    "In systematic sampling, a random starting point is chosen, and then every nth element in the population is selected to be part of the sample. For example, if the population size is N, and the desired sample size is n, every N/nth individual is included.\n",
    "\n",
    "#### 4. Cluster Sampling:\n",
    "Cluster sampling involves dividing the population into clusters (e.g., geographical areas, schools, or households). Then, a random sample of clusters is selected, and all individuals within the chosen clusters are included in the sample. Cluster sampling can be more efficient when the clusters are heterogeneous, but it may introduce some extra variability.\n",
    "\n",
    "Each sampling technique has its own advantages and limitations, and the choice of method depends on the research objectives, available resources, and the level of precision required in the study. Proper sampling is essential for drawing accurate conclusions and generalizing findings from the sample to the larger population."
   ]
  },
  {
   "cell_type": "code",
   "execution_count": null,
   "id": "bf363959-e456-4a6f-a677-c5b09aa32e87",
   "metadata": {},
   "outputs": [],
   "source": []
  },
  {
   "cell_type": "markdown",
   "id": "d0f8c533-6013-4fcc-a072-0ba7ab3fca93",
   "metadata": {},
   "source": [
    "# Q3. Write Most common characteristics used in descriptive statistics? "
   ]
  },
  {
   "cell_type": "markdown",
   "id": "2c69c89d-8f20-4b16-9f56-a6811461988a",
   "metadata": {},
   "source": [
    "Descriptive statistics is a branch of statistics that involves summarizing and presenting data in a meaningful and understandable way. It provides a clear and concise overview of the main characteristics of a dataset. Some of the most common characteristics used in descriptive statistics include:\n",
    "\n",
    "#### 1. Measures of Central Tendency:\n",
    "\n",
    "Mean:-\n",
    "The arithmetic average of all values in the dataset.\n",
    "\n",
    "Median:-\n",
    "The middle value in the dataset when it is arranged in ascending or descending order.\n",
    "\n",
    "Mode:- \n",
    "The value that appears most frequently in the dataset.\n",
    "\n",
    "#### 2. Measures of Dispersion or Variability:\n",
    "\n",
    "##### Range:\n",
    "The difference between the maximum and minimum values in the dataset.\n",
    "\n",
    "##### Variance:\n",
    "The average of the squared differences between each data point and the mean.\n",
    "\n",
    "##### Standard Deviation:\n",
    "The square root of the variance, representing the average amount by which data points deviate from the mean.\n",
    "\n",
    "##### Interquartile Range (IQR):\n",
    "The range of the middle 50% of data values, calculated as the difference between the third quartile (Q3) and the first quartile (Q1).\n",
    "\n",
    "#### 3. Frequency Distribution:\n",
    "\n",
    "A table that shows the number of occurrences or frequency of each value or group of values in the dataset.\n",
    "\n",
    "#### 4. Percentiles:\n",
    "\n",
    "Values that divide the dataset into 100 equal parts. The 25th, 50th (median), and 75th percentiles are commonly used.\n",
    "\n",
    "#### 5. Skewness:\n",
    "\n",
    "A measure of the asymmetry of the dataset's distribution. Positive skewness indicates a longer tail on the right, while negative skewness indicates a longer tail on the left.\n",
    "\n",
    "#### 6. Kurtosis:\n",
    "\n",
    "A measure of the \"peakedness\" of the dataset's distribution. It indicates the presence of outliers and extreme values.\n",
    "\n",
    "#### 7. Histograms:\n",
    "\n",
    "Graphical representations of the frequency distribution, showing the shape of the dataset's distribution.\n",
    "\n",
    "#### 8. Boxplots (Box-and-Whisker Plots):\n",
    "\n",
    "Graphical representations that display the median, quartiles, and outliers in the dataset.\n",
    "\n",
    "#### 9. Mean Absolute Deviation (MAD):\n",
    "\n",
    "The average of the absolute differences between each data point and the mean, providing a measure of dispersion.\n",
    "\n",
    "#### 10. Coefficient of Variation (CV):\n",
    "\n",
    "The ratio of the standard deviation to the mean, expressed as a percentage. It is used to compare the variability of different datasets relative to their means.\n",
    "These characteristics help researchers and data analysts to understand the essential features of the data, identify patterns, and make informed decisions based on the properties of the dataset. Descriptive statistics is the first step in data analysis and is used to summarize large amounts of information in a concise and meaningful manner."
   ]
  },
  {
   "cell_type": "code",
   "execution_count": null,
   "id": "843c9feb-2acc-48c2-8431-51d44ca1b044",
   "metadata": {},
   "outputs": [],
   "source": []
  },
  {
   "cell_type": "markdown",
   "id": "542a109b-e6a9-4077-b6e1-69ea9b1a70a4",
   "metadata": {},
   "source": [
    "# Q4. What is a 5-number summary with an example?"
   ]
  },
  {
   "cell_type": "markdown",
   "id": "9183fd32-1af8-45d5-93c6-14eaed3ac619",
   "metadata": {},
   "source": [
    "A 5-number summary is a concise way to describe the central tendency and spread of a dataset using five key values:\n",
    "\n",
    "minimum,\n",
    "first quartile (Q1),\n",
    "median (second quartile or Q2),\n",
    "third quartile (Q3),\n",
    "and maximum.\n",
    "\n",
    "It is particularly useful when dealing with large datasets or when creating boxplots (box-and-whisker plots) to visualize the distribution of the data.\n",
    "\n",
    "#### Here's an example of how to find the 5-number summary for a dataset:"
   ]
  },
  {
   "cell_type": "code",
   "execution_count": 1,
   "id": "803803a0-ccf0-457b-9683-ab909ace9e0b",
   "metadata": {},
   "outputs": [],
   "source": [
    "import numpy as np\n",
    "\n",
    "# Example dataset\n",
    "data = [23, 35, 17, 41, 29, 50, 32, 28, 22, 19, 37, 25, 26, 31, 34]"
   ]
  },
  {
   "cell_type": "code",
   "execution_count": 2,
   "id": "a9073eb0-2e21-47e4-9b6a-82d2952f3cf3",
   "metadata": {},
   "outputs": [
    {
     "data": {
      "text/plain": [
       "[23, 35, 17, 41, 29, 50, 32, 28, 22, 19, 37, 25, 26, 31, 34]"
      ]
     },
     "execution_count": 2,
     "metadata": {},
     "output_type": "execute_result"
    }
   ],
   "source": [
    "data"
   ]
  },
  {
   "cell_type": "code",
   "execution_count": 3,
   "id": "a40ff2ea-d8bd-499e-9d45-b3f24880af70",
   "metadata": {},
   "outputs": [],
   "source": [
    "# Step 1: Sort the data in ascending order\n",
    "sorted_data = np.sort(data)"
   ]
  },
  {
   "cell_type": "code",
   "execution_count": 4,
   "id": "8a80cda7-aa01-4f9a-9aa2-afc2ad43b5b4",
   "metadata": {},
   "outputs": [
    {
     "data": {
      "text/plain": [
       "array([17, 19, 22, 23, 25, 26, 28, 29, 31, 32, 34, 35, 37, 41, 50])"
      ]
     },
     "execution_count": 4,
     "metadata": {},
     "output_type": "execute_result"
    }
   ],
   "source": [
    "sorted_data"
   ]
  },
  {
   "cell_type": "code",
   "execution_count": 5,
   "id": "71980791-8fb6-440d-98ce-3b74a8304d4c",
   "metadata": {},
   "outputs": [],
   "source": [
    "# Step 2: Find the minimum and maximum values\n",
    "minimum = sorted_data[0]\n",
    "maximum = sorted_data[-1]"
   ]
  },
  {
   "cell_type": "code",
   "execution_count": 6,
   "id": "1e0afaeb-3fc3-48fc-ae3f-f6b5aaa913a7",
   "metadata": {},
   "outputs": [
    {
     "data": {
      "text/plain": [
       "17"
      ]
     },
     "execution_count": 6,
     "metadata": {},
     "output_type": "execute_result"
    }
   ],
   "source": [
    "minimum"
   ]
  },
  {
   "cell_type": "code",
   "execution_count": 7,
   "id": "54164d90-3f47-42b8-95be-4b2d8abcc75b",
   "metadata": {},
   "outputs": [
    {
     "data": {
      "text/plain": [
       "50"
      ]
     },
     "execution_count": 7,
     "metadata": {},
     "output_type": "execute_result"
    }
   ],
   "source": [
    "maximum"
   ]
  },
  {
   "cell_type": "code",
   "execution_count": 8,
   "id": "a1771c0a-b11a-41b8-82a9-63289dd6b221",
   "metadata": {},
   "outputs": [],
   "source": [
    "# Step 3: Calculate the median (Q2)\n",
    "median = np.median(sorted_data)"
   ]
  },
  {
   "cell_type": "code",
   "execution_count": 9,
   "id": "003c9dd1-14d2-4cf8-a787-29348238aee3",
   "metadata": {},
   "outputs": [
    {
     "data": {
      "text/plain": [
       "29.0"
      ]
     },
     "execution_count": 9,
     "metadata": {},
     "output_type": "execute_result"
    }
   ],
   "source": [
    "median"
   ]
  },
  {
   "cell_type": "code",
   "execution_count": 10,
   "id": "a4e143d0-924c-4a24-a837-732521fa5a08",
   "metadata": {},
   "outputs": [],
   "source": [
    "# Step 4: Calculate the first quartile (Q1) and third quartile (Q3)\n",
    "q1 = np.percentile(sorted_data, 25)\n",
    "q3 = np.percentile(sorted_data, 75)"
   ]
  },
  {
   "cell_type": "code",
   "execution_count": 11,
   "id": "2588a629-f148-44c8-9a35-bc3ef51971d9",
   "metadata": {},
   "outputs": [
    {
     "data": {
      "text/plain": [
       "24.0"
      ]
     },
     "execution_count": 11,
     "metadata": {},
     "output_type": "execute_result"
    }
   ],
   "source": [
    "q1"
   ]
  },
  {
   "cell_type": "code",
   "execution_count": 13,
   "id": "c172734a-39fb-4ea6-aa90-56f282b154a7",
   "metadata": {},
   "outputs": [
    {
     "data": {
      "text/plain": [
       "34.5"
      ]
     },
     "execution_count": 13,
     "metadata": {},
     "output_type": "execute_result"
    }
   ],
   "source": [
    "q3"
   ]
  },
  {
   "cell_type": "code",
   "execution_count": 18,
   "id": "5d771af2-102d-4915-acec-ad1af4e44ecb",
   "metadata": {},
   "outputs": [],
   "source": [
    "# Step 5: Write the 5-number summary\n",
    "summary = {\n",
    "    'Minimum': minimum,\n",
    "    'Q1': q1,\n",
    "    'Median (Q2)': median,\n",
    "    'Q3': q3,\n",
    "    'Maximum': maximum\n",
    "}"
   ]
  },
  {
   "cell_type": "code",
   "execution_count": 19,
   "id": "061c4027-c318-4932-b19a-1fd2399a5329",
   "metadata": {},
   "outputs": [
    {
     "data": {
      "text/plain": [
       "{'Minimum': 17, 'Q1': 24.0, 'Median (Q2)': 29.0, 'Q3': 34.5, 'Maximum': 50}"
      ]
     },
     "execution_count": 19,
     "metadata": {},
     "output_type": "execute_result"
    }
   ],
   "source": [
    "summary"
   ]
  },
  {
   "cell_type": "markdown",
   "id": "673ff3cc-44b4-4f8b-9d48-8960f2461880",
   "metadata": {},
   "source": [
    "The 5-number summary provides a clear overview of the central tendency and spread of the dataset. It can be used to create a boxplot, where the box represents the interquartile range (IQR) between Q1 and Q3, and the whiskers extend to the minimum and maximum values. Boxplots are helpful for visualizing the distribution and identifying potential outliers in the data."
   ]
  },
  {
   "cell_type": "code",
   "execution_count": 22,
   "id": "3d18460f-9414-4114-94d2-94563e64067b",
   "metadata": {},
   "outputs": [],
   "source": [
    "import seaborn as sns\n",
    "import matplotlib.pyplot as plt"
   ]
  },
  {
   "cell_type": "code",
   "execution_count": 32,
   "id": "c1344ceb-3fa1-45af-87fb-97d4ddc6b2df",
   "metadata": {},
   "outputs": [
    {
     "data": {
      "image/png": "[encoded data removed]",
      "text/plain": [
       "<Figure size 640x480 with 1 Axes>"
      ]
     },
     "metadata": {},
     "output_type": "display_data"
    }
   ],
   "source": [
    "sns.boxplot(data)\n",
    "# Show the plot\n",
    "plt.show()"
   ]
  },
  {
   "cell_type": "code",
   "execution_count": null,
   "id": "db8b8a29-cc9c-40e5-bf40-853bd2a00615",
   "metadata": {},
   "outputs": [],
   "source": []
  },
  {
   "cell_type": "markdown",
   "id": "720619f0-8811-4cff-a92f-ffca2cf956b6",
   "metadata": {},
   "source": [
    "# Q5. When to use t distribution and when to use z distribution"
   ]
  },
  {
   "cell_type": "markdown",
   "id": "ea07e919-5b78-4065-b034-a71153f5dadd",
   "metadata": {},
   "source": [
    "The choice between using a t-distribution or a z-distribution depends on the characteristics of the data and the context of the statistical analysis. Both distributions are used for hypothesis testing and constructing confidence intervals, but they have different assumptions and are applicable under different conditions:\n",
    "\n",
    "## 1. Z-Distribution:\n",
    "\n",
    "The z-distribution is used when the sample size is large (typically n > 30) and the population standard deviation is known or when the sample size is very large (often used as a rule of thumb when n > 100) regardless of whether the population standard deviation is known or unknown.\n",
    "It is appropriate for situations where the underlying population is approximately normally distributed, or when the sample size is large enough for the central limit theorem to apply, allowing the sample mean to be approximately normally distributed even if the population is not.\n",
    "The z-distribution has a fixed shape and its critical values are constant. The standard z-score formula is used to convert sample means to z-scores, which are then compared to critical values to determine statistical significance.\n",
    "Commonly used in situations like quality control, large-scale surveys, and when working with well-known and established population parameters.\n",
    "\n",
    "## 2. T-Distribution:\n",
    "\n",
    "The t-distribution is used when the sample size is small (typically n < 30) or when the population standard deviation is unknown. When the sample size is larger, the t-distribution approaches the z-distribution.\n",
    "It is more robust in cases where the underlying population is not normally distributed, especially for small sample sizes. The t-distribution accounts for the additional uncertainty due to estimating the population standard deviation from the sample.\n",
    "The t-distribution has thicker tails than the z-distribution, which accounts for the increased variability associated with smaller sample sizes.\n",
    "T-tests and t-intervals (confidence intervals using the t-distribution) are commonly used when sample sizes are small, and the population standard deviation is unknown.\n",
    "\n",
    "In summary, use the z-distribution when dealing with large samples and when the population standard deviation is known (or when sample size is very large). Use the t-distribution when dealing with small samples, or when the population standard deviation is unknown. If you have a large sample size and don't know the population standard deviation, you can use the t-distribution, but the results will be very close to those obtained using the z-distribution due to the central limit theorem."
   ]
  },
  {
   "cell_type": "code",
   "execution_count": null,
   "id": "604fff37-55a7-4746-8252-c3eb71d922bd",
   "metadata": {},
   "outputs": [],
   "source": []
  }
 ],
 "metadata": {
  "kernelspec": {
   "display_name": "Python 3 (ipykernel)",
   "language": "python",
   "name": "python3"
  },
  "language_info": {
   "codemirror_mode": {
    "name": "ipython",
    "version": 3
   },
   "file_extension": ".py",
   "mimetype": "text/x-python",
   "name": "python",
   "nbconvert_exporter": "python",
   "pygments_lexer": "ipython3",
   "version": "3.10.8"
  }
 },
 "nbformat": 4,
 "nbformat_minor": 5
}
