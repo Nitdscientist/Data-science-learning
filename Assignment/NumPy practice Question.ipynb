{
 "cells": [
  {
   "cell_type": "markdown",
   "id": "a04bacf2-4b8d-4783-bc40-d40acee09b4d",
   "metadata": {},
   "source": [
    "# NumPy Question practice\n",
    "\n",
    "### Name- Nitesh Kumar\n",
    "\n",
    "####  Batch-4"
   ]
  },
  {
   "cell_type": "markdown",
   "id": "268a0681-c3a5-4819-991c-228f91d3cc8c",
   "metadata": {},
   "source": [
    "# Q1. Create a 5x5 array with random integers between 10 and 50."
   ]
  },
  {
   "cell_type": "code",
   "execution_count": 1,
   "id": "515ffab4-f6e9-49d9-94af-d81040f2c2b2",
   "metadata": {},
   "outputs": [],
   "source": [
    "import numpy as np"
   ]
  },
  {
   "cell_type": "code",
   "execution_count": 2,
   "id": "150f0695-7bd1-435e-81a1-406633822878",
   "metadata": {},
   "outputs": [
    {
     "data": {
      "text/plain": [
       "array([[11, 10, 26, 44, 36],\n",
       "       [24, 32, 11, 10, 15],\n",
       "       [28, 31, 18, 49, 16],\n",
       "       [18, 23, 49, 30, 34],\n",
       "       [25, 34, 25, 14, 17]])"
      ]
     },
     "execution_count": 2,
     "metadata": {},
     "output_type": "execute_result"
    }
   ],
   "source": [
    "np.random.randint(10,50,(5,5))"
   ]
  },
  {
   "cell_type": "code",
   "execution_count": null,
   "id": "74817eb2-69d1-48ae-a8b4-b4c542f70436",
   "metadata": {},
   "outputs": [],
   "source": []
  },
  {
   "cell_type": "markdown",
   "id": "8a17ad04-76e2-4300-ab2a-9c3ce510c725",
   "metadata": {},
   "source": [
    "# Q2. Calculate the mean and standard deviation of each row in a 2D array.\n"
   ]
  },
  {
   "cell_type": "code",
   "execution_count": 21,
   "id": "a66b8bcb-179e-4c79-aa58-21602ff79b29",
   "metadata": {},
   "outputs": [],
   "source": [
    "arr=np.array([[1,2,3],[4,5,6]])"
   ]
  },
  {
   "cell_type": "code",
   "execution_count": 22,
   "id": "ff131f9d-7889-4014-b1a4-d201d0959cc0",
   "metadata": {},
   "outputs": [
    {
     "data": {
      "text/plain": [
       "array([[1, 2, 3],\n",
       "       [4, 5, 6]])"
      ]
     },
     "execution_count": 22,
     "metadata": {},
     "output_type": "execute_result"
    }
   ],
   "source": [
    "arr"
   ]
  },
  {
   "cell_type": "code",
   "execution_count": 23,
   "id": "216552c5-d08b-406c-a3d8-b11b6f5ad08b",
   "metadata": {},
   "outputs": [
    {
     "data": {
      "text/plain": [
       "2"
      ]
     },
     "execution_count": 23,
     "metadata": {},
     "output_type": "execute_result"
    }
   ],
   "source": [
    "arr.ndim"
   ]
  },
  {
   "cell_type": "code",
   "execution_count": 24,
   "id": "3f27fbc0-23ba-4aae-8a11-d34c53a7652c",
   "metadata": {},
   "outputs": [],
   "source": [
    "mean_value=np.mean(arr,axis=1)"
   ]
  },
  {
   "cell_type": "code",
   "execution_count": 25,
   "id": "eaac04a2-1931-4e72-be91-04dc85be8790",
   "metadata": {},
   "outputs": [
    {
     "data": {
      "text/plain": [
       "array([2., 5.])"
      ]
     },
     "execution_count": 25,
     "metadata": {},
     "output_type": "execute_result"
    }
   ],
   "source": [
    "mean_value"
   ]
  },
  {
   "cell_type": "code",
   "execution_count": 26,
   "id": "0a154203-cf9c-4f17-ab55-c7f3dfc51ab8",
   "metadata": {},
   "outputs": [],
   "source": [
    "std_value=np.std(arr,axis=1)"
   ]
  },
  {
   "cell_type": "code",
   "execution_count": 27,
   "id": "b7c103ff-9707-4880-9fe0-e3520ef60e43",
   "metadata": {},
   "outputs": [
    {
     "data": {
      "text/plain": [
       "array([0.81649658, 0.81649658])"
      ]
     },
     "execution_count": 27,
     "metadata": {},
     "output_type": "execute_result"
    }
   ],
   "source": [
    "std_value"
   ]
  },
  {
   "cell_type": "markdown",
   "id": "9a7c3392-9c12-4d9c-820a-827056d87110",
   "metadata": {},
   "source": [
    "# Q3. Normalize a 2D array by subtracting the mean and dividing by the standard deviation for each column.\n"
   ]
  },
  {
   "cell_type": "code",
   "execution_count": 28,
   "id": "8be3c772-73d1-4b81-9a76-b48558673f10",
   "metadata": {},
   "outputs": [
    {
     "data": {
      "text/plain": [
       "array([[1, 2, 3],\n",
       "       [4, 5, 6]])"
      ]
     },
     "execution_count": 28,
     "metadata": {},
     "output_type": "execute_result"
    }
   ],
   "source": [
    "arr # 2D array"
   ]
  },
  {
   "cell_type": "code",
   "execution_count": 29,
   "id": "052b9c3c-3a6f-4e78-9a48-3c7301fb7970",
   "metadata": {},
   "outputs": [],
   "source": [
    "normalized_arr=(arr-np.mean(arr,axis=0))/np.std(arr,axis=0)"
   ]
  },
  {
   "cell_type": "code",
   "execution_count": 30,
   "id": "5d84aff7-e67f-4ca5-9453-7d88523feefd",
   "metadata": {},
   "outputs": [
    {
     "data": {
      "text/plain": [
       "array([[-1., -1., -1.],\n",
       "       [ 1.,  1.,  1.]])"
      ]
     },
     "execution_count": 30,
     "metadata": {},
     "output_type": "execute_result"
    }
   ],
   "source": [
    "normalized_arr"
   ]
  },
  {
   "cell_type": "code",
   "execution_count": null,
   "id": "0c881251-e5d0-4f84-afbe-d412bf0d7eb9",
   "metadata": {},
   "outputs": [],
   "source": []
  },
  {
   "cell_type": "markdown",
   "id": "1c810d36-83a2-44d0-b746-1ee3b938cf81",
   "metadata": {},
   "source": [
    "# Q4. Generate a 2D Gaussian distribution with specified mean and covariance.\n"
   ]
  },
  {
   "cell_type": "code",
   "execution_count": 31,
   "id": "accab387-c788-4fe6-9571-c77b7c82cc98",
   "metadata": {},
   "outputs": [],
   "source": [
    "mean = [0, 0]"
   ]
  },
  {
   "cell_type": "code",
   "execution_count": 32,
   "id": "e3845632-1bb6-4c02-a640-d0e9805838e4",
   "metadata": {},
   "outputs": [
    {
     "data": {
      "text/plain": [
       "[0, 0]"
      ]
     },
     "execution_count": 32,
     "metadata": {},
     "output_type": "execute_result"
    }
   ],
   "source": [
    "mean"
   ]
  },
  {
   "cell_type": "code",
   "execution_count": 33,
   "id": "2cf6e60d-4b17-41b1-94ad-ab02fcb39872",
   "metadata": {},
   "outputs": [],
   "source": [
    "covariance = [[1, 0.5], [0.5, 2]]"
   ]
  },
  {
   "cell_type": "code",
   "execution_count": 34,
   "id": "a2339a42-282e-4405-aba8-c0644ede32d7",
   "metadata": {},
   "outputs": [
    {
     "data": {
      "text/plain": [
       "[[1, 0.5], [0.5, 2]]"
      ]
     },
     "execution_count": 34,
     "metadata": {},
     "output_type": "execute_result"
    }
   ],
   "source": [
    "covariance"
   ]
  },
  {
   "cell_type": "code",
   "execution_count": 35,
   "id": "c44a8db6-e29b-4c27-8dd0-d8b383f3dfec",
   "metadata": {},
   "outputs": [],
   "source": [
    "gaussian_array = np.random.multivariate_normal(mean, covariance, size=5)\n"
   ]
  },
  {
   "cell_type": "code",
   "execution_count": 36,
   "id": "b86f6a6e-7ada-4170-b76b-ef4ccd77ce0c",
   "metadata": {},
   "outputs": [
    {
     "data": {
      "text/plain": [
       "array([[ 0.00397841,  0.62754153],\n",
       "       [-2.30149084,  0.53869034],\n",
       "       [-0.39951948,  0.41420049],\n",
       "       [ 1.34774157, -0.59610406],\n",
       "       [-0.18828922, -2.33621464]])"
      ]
     },
     "execution_count": 36,
     "metadata": {},
     "output_type": "execute_result"
    }
   ],
   "source": [
    "gaussian_array"
   ]
  },
  {
   "cell_type": "code",
   "execution_count": null,
   "id": "2da2a4cb-c84c-4eb5-bac0-df3f50560e0d",
   "metadata": {},
   "outputs": [],
   "source": []
  },
  {
   "cell_type": "markdown",
   "id": "4e8e28bc-120a-4b93-9c73-76512b604b1e",
   "metadata": {},
   "source": [
    "# Q5. Implement matrix multiplication without using NumPy's dot function.\n"
   ]
  },
  {
   "cell_type": "code",
   "execution_count": 67,
   "id": "1b53d3c0-8fb8-4ebe-971d-7b21f5d4b933",
   "metadata": {},
   "outputs": [],
   "source": [
    "import numpy.matlib as nm"
   ]
  },
  {
   "cell_type": "code",
   "execution_count": 68,
   "id": "a8900644-539f-4a59-91de-56d204f7f199",
   "metadata": {},
   "outputs": [],
   "source": [
    "matrix1=nm.array([[1,2],[4,5]])\n",
    "matrix2=nm.array([[5,6],[3,8]])"
   ]
  },
  {
   "cell_type": "code",
   "execution_count": 69,
   "id": "debd4756-2c54-4484-aefa-0ccc6f60c54a",
   "metadata": {},
   "outputs": [
    {
     "data": {
      "text/plain": [
       "array([[1, 2],\n",
       "       [4, 5]])"
      ]
     },
     "execution_count": 69,
     "metadata": {},
     "output_type": "execute_result"
    }
   ],
   "source": [
    "matrix1"
   ]
  },
  {
   "cell_type": "code",
   "execution_count": 71,
   "id": "c4c43542-92af-4aac-a949-a5504fb4ae3b",
   "metadata": {},
   "outputs": [
    {
     "data": {
      "text/plain": [
       "array([[5, 6],\n",
       "       [3, 8]])"
      ]
     },
     "execution_count": 71,
     "metadata": {},
     "output_type": "execute_result"
    }
   ],
   "source": [
    " matrix2"
   ]
  },
  {
   "cell_type": "code",
   "execution_count": 72,
   "id": "5919df46-7e8c-4c9a-94f3-02b0ceed5d3c",
   "metadata": {},
   "outputs": [
    {
     "data": {
      "text/plain": [
       "array([[11, 22],\n",
       "       [35, 64]])"
      ]
     },
     "execution_count": 72,
     "metadata": {},
     "output_type": "execute_result"
    }
   ],
   "source": [
    "matrix1@ matrix2"
   ]
  },
  {
   "cell_type": "markdown",
   "id": "116491f5-9a47-4321-9391-3cc310401a42",
   "metadata": {},
   "source": [
    "# Q6. Calculate the eigenvalues and eigenvectors of a given symmetric matrix.\n"
   ]
  },
  {
   "cell_type": "code",
   "execution_count": 78,
   "id": "cb7845fd-9e69-4080-96ef-9b62d6032571",
   "metadata": {},
   "outputs": [],
   "source": [
    "arr=np.array([[0,3,8],[3,0,6],[8,6,0]])"
   ]
  },
  {
   "cell_type": "code",
   "execution_count": 79,
   "id": "cccf362d-c996-45c7-90cc-6b91b08dc858",
   "metadata": {},
   "outputs": [
    {
     "data": {
      "text/plain": [
       "array([[0, 3, 8],\n",
       "       [3, 0, 6],\n",
       "       [8, 6, 0]])"
      ]
     },
     "execution_count": 79,
     "metadata": {},
     "output_type": "execute_result"
    }
   ],
   "source": [
    "arr"
   ]
  },
  {
   "cell_type": "code",
   "execution_count": 80,
   "id": "a66bbf85-34b0-454f-9d50-99377db3dcde",
   "metadata": {},
   "outputs": [
    {
     "data": {
      "text/plain": [
       "array([[0, 3, 8],\n",
       "       [3, 0, 6],\n",
       "       [8, 6, 0]])"
      ]
     },
     "execution_count": 80,
     "metadata": {},
     "output_type": "execute_result"
    }
   ],
   "source": [
    "arr.T"
   ]
  },
  {
   "cell_type": "code",
   "execution_count": 81,
   "id": "4fddf72a-d124-45ec-8fcf-16e912a05a25",
   "metadata": {},
   "outputs": [],
   "source": [
    "eigenvalues, eigenvectors = np.linalg.eigh(arr)"
   ]
  },
  {
   "cell_type": "code",
   "execution_count": 82,
   "id": "f6176af9-a1f3-40c0-8ce6-0b4145d9e709",
   "metadata": {},
   "outputs": [
    {
     "data": {
      "text/plain": [
       "array([-8.71516889, -2.85590108, 11.57106997])"
      ]
     },
     "execution_count": 82,
     "metadata": {},
     "output_type": "execute_result"
    }
   ],
   "source": [
    "eigenvalues"
   ]
  },
  {
   "cell_type": "code",
   "execution_count": 83,
   "id": "1a82fb76-8187-488a-bd08-dfb8cff6cfb9",
   "metadata": {},
   "outputs": [
    {
     "data": {
      "text/plain": [
       "array([[ 0.57977383,  0.57392511, -0.57833578],\n",
       "       [ 0.31712994, -0.81278998, -0.48867274],\n",
       "       [-0.75052708,  0.09991207, -0.6532432 ]])"
      ]
     },
     "execution_count": 83,
     "metadata": {},
     "output_type": "execute_result"
    }
   ],
   "source": [
    "eigenvectors"
   ]
  },
  {
   "cell_type": "code",
   "execution_count": null,
   "id": "0d66baee-029c-43b1-bace-764ee34f28f4",
   "metadata": {},
   "outputs": [],
   "source": []
  },
  {
   "cell_type": "markdown",
   "id": "9051b03d-1973-458a-a9e1-94a2c295fef3",
   "metadata": {},
   "source": [
    "# Q7. Compute the element-wise cosine of an array and find the maximum value.\n"
   ]
  },
  {
   "cell_type": "code",
   "execution_count": 84,
   "id": "f155baad-db29-4dd0-8597-b1c56d903e5e",
   "metadata": {},
   "outputs": [
    {
     "data": {
      "text/plain": [
       "array([[0, 3, 8],\n",
       "       [3, 0, 6],\n",
       "       [8, 6, 0]])"
      ]
     },
     "execution_count": 84,
     "metadata": {},
     "output_type": "execute_result"
    }
   ],
   "source": [
    "arr"
   ]
  },
  {
   "cell_type": "code",
   "execution_count": 86,
   "id": "95d2a05f-ba85-4164-915d-dbdbb053f85b",
   "metadata": {},
   "outputs": [],
   "source": [
    "cosine_arr=np.cos(arr)"
   ]
  },
  {
   "cell_type": "code",
   "execution_count": 87,
   "id": "79b6f731-b65d-4431-a570-ab0bc02f222c",
   "metadata": {},
   "outputs": [
    {
     "data": {
      "text/plain": [
       "array([[ 1.        , -0.9899925 , -0.14550003],\n",
       "       [-0.9899925 ,  1.        ,  0.96017029],\n",
       "       [-0.14550003,  0.96017029,  1.        ]])"
      ]
     },
     "execution_count": 87,
     "metadata": {},
     "output_type": "execute_result"
    }
   ],
   "source": [
    "cosine_arr"
   ]
  },
  {
   "cell_type": "code",
   "execution_count": 88,
   "id": "f5a0ecb3-540c-431f-8616-9ce486d821bd",
   "metadata": {},
   "outputs": [
    {
     "data": {
      "text/plain": [
       "1.0"
      ]
     },
     "execution_count": 88,
     "metadata": {},
     "output_type": "execute_result"
    }
   ],
   "source": [
    "np.max(cosine_arr)"
   ]
  },
  {
   "cell_type": "code",
   "execution_count": null,
   "id": "4327c7a6-bfca-4b9a-a903-19c49aab66b6",
   "metadata": {},
   "outputs": [],
   "source": []
  },
  {
   "cell_type": "markdown",
   "id": "5dfd9c6a-b08c-4664-84e6-db9931eeb474",
   "metadata": {},
   "source": [
    "# Q8. Perform element-wise interpolation between two arrays.\n"
   ]
  },
  {
   "cell_type": "code",
   "execution_count": 95,
   "id": "cd2e9097-2154-4026-bff5-57884881bdda",
   "metadata": {},
   "outputs": [],
   "source": [
    "import numpy as np\n",
    "\n",
    "# Original arrays\n",
    "x = np.array([0, 1, 2, 3, 4])\n",
    "y = np.array([0, 2, 4, 6, 8])\n",
    "\n",
    "# New x-coordinates for interpolation\n",
    "new_x = np.array([0.5, 1.5, 2.5, 3.5])"
   ]
  },
  {
   "cell_type": "code",
   "execution_count": 96,
   "id": "af8fdf41-30bc-434e-91d8-bd42fddd24f2",
   "metadata": {},
   "outputs": [],
   "source": [
    "# Interpolate corresponding elements between y1 arrays\n",
    "interpolated_y = np.interp(new_x, x, y)"
   ]
  },
  {
   "cell_type": "code",
   "execution_count": 97,
   "id": "c0962021-01f5-4b18-b384-ad621767e280",
   "metadata": {},
   "outputs": [
    {
     "data": {
      "text/plain": [
       "array([1., 3., 5., 7.])"
      ]
     },
     "execution_count": 97,
     "metadata": {},
     "output_type": "execute_result"
    }
   ],
   "source": [
    "interpolated_y"
   ]
  },
  {
   "cell_type": "code",
   "execution_count": null,
   "id": "eacc2f0b-265e-45e9-9a8a-44d799aba2ce",
   "metadata": {},
   "outputs": [],
   "source": []
  },
  {
   "cell_type": "markdown",
   "id": "f1e7dace-f2c0-4369-9da5-8371f0aa1e22",
   "metadata": {},
   "source": [
    "# Q9. Calculate the cumulative product of each column in a 2D array.\n"
   ]
  },
  {
   "cell_type": "code",
   "execution_count": 98,
   "id": "991a79f9-1f80-4733-9dd3-bb803a72a05a",
   "metadata": {},
   "outputs": [],
   "source": [
    "array=np.array([[1,2,3],[4,5,6]])"
   ]
  },
  {
   "cell_type": "code",
   "execution_count": 99,
   "id": "64c72fef-3e1b-4431-a7a8-464e1370f6d7",
   "metadata": {},
   "outputs": [
    {
     "data": {
      "text/plain": [
       "2"
      ]
     },
     "execution_count": 99,
     "metadata": {},
     "output_type": "execute_result"
    }
   ],
   "source": [
    "array.ndim"
   ]
  },
  {
   "cell_type": "code",
   "execution_count": 100,
   "id": "cd08d0ea-37f8-46ab-97e6-b826b32413d4",
   "metadata": {},
   "outputs": [
    {
     "data": {
      "text/plain": [
       "array([[1, 2, 3],\n",
       "       [4, 5, 6]])"
      ]
     },
     "execution_count": 100,
     "metadata": {},
     "output_type": "execute_result"
    }
   ],
   "source": [
    "array"
   ]
  },
  {
   "cell_type": "code",
   "execution_count": 101,
   "id": "fd8b25ab-451c-47cf-b59a-7d567e9a24e3",
   "metadata": {},
   "outputs": [
    {
     "data": {
      "text/plain": [
       "array([[ 1,  2,  3],\n",
       "       [ 4, 10, 18]])"
      ]
     },
     "execution_count": 101,
     "metadata": {},
     "output_type": "execute_result"
    }
   ],
   "source": [
    "np.cumprod(array,axis=0)"
   ]
  },
  {
   "cell_type": "code",
   "execution_count": null,
   "id": "6f8fe621-78d2-407e-91cb-2edffe41744e",
   "metadata": {},
   "outputs": [],
   "source": []
  },
  {
   "cell_type": "markdown",
   "id": "04c7970f-85a6-49e6-8275-6a87cb523094",
   "metadata": {},
   "source": [
    "# Q10. Create a random 2D array and find the kth smallest and largest elements.\n"
   ]
  },
  {
   "cell_type": "code",
   "execution_count": 116,
   "id": "c1b70778-5353-429f-91c9-6cca60992aff",
   "metadata": {},
   "outputs": [],
   "source": [
    "arr3=np.random.randint(1,20,(3,3))"
   ]
  },
  {
   "cell_type": "code",
   "execution_count": 117,
   "id": "230c2d60-95cc-4ad1-97f8-a723520c4b89",
   "metadata": {},
   "outputs": [
    {
     "data": {
      "text/plain": [
       "array([[ 8, 15, 13],\n",
       "       [ 6, 15,  4],\n",
       "       [ 9, 18,  9]])"
      ]
     },
     "execution_count": 117,
     "metadata": {},
     "output_type": "execute_result"
    }
   ],
   "source": [
    "arr3"
   ]
  },
  {
   "cell_type": "code",
   "execution_count": 118,
   "id": "0ac3b7c3-a3c4-4c03-bdf9-5f0780a70498",
   "metadata": {},
   "outputs": [
    {
     "data": {
      "text/plain": [
       "2"
      ]
     },
     "execution_count": 118,
     "metadata": {},
     "output_type": "execute_result"
    }
   ],
   "source": [
    "arr3.ndim"
   ]
  },
  {
   "cell_type": "code",
   "execution_count": 119,
   "id": "f2126a16-2375-437a-90e0-3d83378af515",
   "metadata": {},
   "outputs": [],
   "source": [
    "# set k value\n",
    "k=3"
   ]
  },
  {
   "cell_type": "code",
   "execution_count": 120,
   "id": "fda051ea-e2f2-4b2b-a6cb-f3a2d389fa0e",
   "metadata": {},
   "outputs": [],
   "source": [
    "arr4=arr3.flatten()"
   ]
  },
  {
   "cell_type": "code",
   "execution_count": 121,
   "id": "b7a500fe-4190-4eb6-99e2-31e1cff53bd5",
   "metadata": {},
   "outputs": [
    {
     "data": {
      "text/plain": [
       "array([ 8, 15, 13,  6, 15,  4,  9, 18,  9])"
      ]
     },
     "execution_count": 121,
     "metadata": {},
     "output_type": "execute_result"
    }
   ],
   "source": [
    "arr4"
   ]
  },
  {
   "cell_type": "code",
   "execution_count": 123,
   "id": "d6c23837-d38f-4e80-94a9-ec8c7dba62b4",
   "metadata": {},
   "outputs": [],
   "source": [
    "arr5=np.sort(arr4)"
   ]
  },
  {
   "cell_type": "code",
   "execution_count": 124,
   "id": "d65a1acb-b0f0-468e-86a3-52bc01fa4842",
   "metadata": {},
   "outputs": [
    {
     "data": {
      "text/plain": [
       "array([ 4,  6,  8,  9,  9, 13, 15, 15, 18])"
      ]
     },
     "execution_count": 124,
     "metadata": {},
     "output_type": "execute_result"
    }
   ],
   "source": [
    "arr5"
   ]
  },
  {
   "cell_type": "code",
   "execution_count": 139,
   "id": "dc7ff5e2-20fb-4aac-ab96-9d962c0fb3dd",
   "metadata": {},
   "outputs": [
    {
     "data": {
      "text/plain": [
       "8"
      ]
     },
     "execution_count": 139,
     "metadata": {},
     "output_type": "execute_result"
    }
   ],
   "source": [
    "arr5[k-1] # kth smallest number"
   ]
  },
  {
   "cell_type": "code",
   "execution_count": 140,
   "id": "aef788dd-e912-4298-8d67-7133779e7279",
   "metadata": {},
   "outputs": [
    {
     "data": {
      "text/plain": [
       "15"
      ]
     },
     "execution_count": 140,
     "metadata": {},
     "output_type": "execute_result"
    }
   ],
   "source": [
    "arr5[-k] # kth largest number"
   ]
  },
  {
   "cell_type": "code",
   "execution_count": null,
   "id": "9532b506-33ed-4823-b883-353de8ba7af5",
   "metadata": {},
   "outputs": [],
   "source": []
  },
  {
   "cell_type": "markdown",
   "id": "c53246b1-6350-41a8-b2e5-79670a5b37dd",
   "metadata": {},
   "source": [
    "# Q11. Implement the softmax function for a 1D array of values.\n"
   ]
  },
  {
   "cell_type": "code",
   "execution_count": null,
   "id": "d2e05801-eab4-4cac-a42a-3e4c38b72fff",
   "metadata": {},
   "outputs": [],
   "source": [
    "# he softmax function takes an array of numbers and transforms them into a probability distribution where each value is\n",
    "# between 0 and 1, and the sum of all values is equal to 1. "
   ]
  },
  {
   "cell_type": "code",
   "execution_count": 1,
   "id": "645e8f25-368e-4824-b810-3903952893f5",
   "metadata": {},
   "outputs": [],
   "source": [
    "import numpy as np"
   ]
  },
  {
   "cell_type": "code",
   "execution_count": 2,
   "id": "a4267c47-294a-4102-b235-ea96deacde9f",
   "metadata": {},
   "outputs": [],
   "source": [
    "def softmax(x):\n",
    "    exp_x=np.exp(x)\n",
    "    softmax_value=exp_x/np.sum(exp_x)\n",
    "    return softmax_value"
   ]
  },
  {
   "cell_type": "code",
   "execution_count": 5,
   "id": "d8f29bae-d6b7-40fc-a5e6-f50711aa9132",
   "metadata": {},
   "outputs": [],
   "source": [
    "x=np.array([1.0,2.0,3.0]) # input array"
   ]
  },
  {
   "cell_type": "code",
   "execution_count": 9,
   "id": "f1b156ae-81ec-4c3f-98eb-d0d824141011",
   "metadata": {},
   "outputs": [
    {
     "data": {
      "text/plain": [
       "1"
      ]
     },
     "execution_count": 9,
     "metadata": {},
     "output_type": "execute_result"
    }
   ],
   "source": [
    "x.ndim # check dimension"
   ]
  },
  {
   "cell_type": "code",
   "execution_count": 6,
   "id": "e46c2fb2-607d-4a5f-a630-9a3744e4b1d7",
   "metadata": {},
   "outputs": [
    {
     "data": {
      "text/plain": [
       "array([ 2.71828183,  7.3890561 , 20.08553692])"
      ]
     },
     "execution_count": 6,
     "metadata": {},
     "output_type": "execute_result"
    }
   ],
   "source": [
    "np.exp(x) # exponential will amplyfy our input data"
   ]
  },
  {
   "cell_type": "code",
   "execution_count": 7,
   "id": "7ad4e866-7562-4d27-8953-ed2bc26968ef",
   "metadata": {},
   "outputs": [
    {
     "data": {
      "text/plain": [
       "30.19287485057736"
      ]
     },
     "execution_count": 7,
     "metadata": {},
     "output_type": "execute_result"
    }
   ],
   "source": [
    "np.sum(np.exp(x)) # sum of all exponential element "
   ]
  },
  {
   "cell_type": "code",
   "execution_count": 4,
   "id": "9d28f646-662a-45ea-9384-f1c8b88f49dc",
   "metadata": {},
   "outputs": [
    {
     "data": {
      "text/plain": [
       "array([0.09003057, 0.24472847, 0.66524096])"
      ]
     },
     "execution_count": 4,
     "metadata": {},
     "output_type": "execute_result"
    }
   ],
   "source": [
    "# call function\n",
    "softmax(x)      # All element converted between 0 and 1 and their sum is approx equal to 1"
   ]
  },
  {
   "cell_type": "code",
   "execution_count": null,
   "id": "571ae1e2-8246-42e4-b89b-3b69246cdfb2",
   "metadata": {},
   "outputs": [],
   "source": []
  },
  {
   "cell_type": "markdown",
   "id": "24df7f36-b27f-4b67-a9c7-0fee814f40f6",
   "metadata": {},
   "source": [
    "# Q12. Create a 2D array and replace all values below a certain threshold with a specified value.\n"
   ]
  },
  {
   "cell_type": "code",
   "execution_count": 10,
   "id": "b479aea8-bcee-44e8-9552-b5cc4a9d29ce",
   "metadata": {},
   "outputs": [],
   "source": [
    "# Take 2D input\n",
    "x=np.array([[1,2,3],\n",
    "           [4,5,6],\n",
    "           [7,8,9]])"
   ]
  },
  {
   "cell_type": "code",
   "execution_count": 11,
   "id": "27d8f3f1-a871-4b08-97bd-a405ef81859d",
   "metadata": {},
   "outputs": [
    {
     "data": {
      "text/plain": [
       "2"
      ]
     },
     "execution_count": 11,
     "metadata": {},
     "output_type": "execute_result"
    }
   ],
   "source": [
    "# check dimension of input\n",
    "x.ndim"
   ]
  },
  {
   "cell_type": "code",
   "execution_count": 13,
   "id": "e0b409b9-cf0d-4719-8441-a7387c14a103",
   "metadata": {},
   "outputs": [],
   "source": [
    "# define threshold and replacable value\n",
    "threshold=4\n",
    "replace_value=0"
   ]
  },
  {
   "cell_type": "code",
   "execution_count": 14,
   "id": "d911975e-091b-4196-bb75-0f0903664419",
   "metadata": {},
   "outputs": [],
   "source": [
    "# replace value\n",
    "x[x<threshold]=replace_value # It will check condition if True then replace with replace_value"
   ]
  },
  {
   "cell_type": "code",
   "execution_count": 15,
   "id": "f572e31d-a38e-471a-8102-d1bb76056384",
   "metadata": {},
   "outputs": [
    {
     "data": {
      "text/plain": [
       "array([[0, 0, 0],\n",
       "       [4, 5, 6],\n",
       "       [7, 8, 9]])"
      ]
     },
     "execution_count": 15,
     "metadata": {},
     "output_type": "execute_result"
    }
   ],
   "source": [
    "x # updated input"
   ]
  },
  {
   "cell_type": "code",
   "execution_count": null,
   "id": "f0f3c8e1-c6b7-4609-bdfc-8889dcac447f",
   "metadata": {},
   "outputs": [],
   "source": []
  },
  {
   "cell_type": "markdown",
   "id": "dfd56705-6556-4f79-8db6-7304040d8850",
   "metadata": {},
   "source": [
    "# Q13. Generate a random permutation of elements in an array.\n"
   ]
  },
  {
   "cell_type": "code",
   "execution_count": 17,
   "id": "3bbc8eb0-e331-463a-918f-8cf438de330f",
   "metadata": {},
   "outputs": [],
   "source": [
    "import random"
   ]
  },
  {
   "cell_type": "code",
   "execution_count": 18,
   "id": "df97894b-b8d7-42ae-b7ee-73f290cb49b5",
   "metadata": {},
   "outputs": [],
   "source": [
    "input_array=[1,2,3,4,5,6,7,8]"
   ]
  },
  {
   "cell_type": "code",
   "execution_count": 19,
   "id": "91cf81ee-5b89-4ebc-8151-b397ab8bc2cc",
   "metadata": {},
   "outputs": [],
   "source": [
    "# create a copy of input array\n",
    "permuted_array=input_array.copy()"
   ]
  },
  {
   "cell_type": "code",
   "execution_count": 20,
   "id": "82f275c3-2357-4acb-bc50-2d9c583e907e",
   "metadata": {},
   "outputs": [],
   "source": [
    "random.shuffle(permuted_array)"
   ]
  },
  {
   "cell_type": "code",
   "execution_count": 21,
   "id": "02df2175-3bb2-4c53-b889-08af9721b975",
   "metadata": {},
   "outputs": [
    {
     "data": {
      "text/plain": [
       "[5, 7, 1, 8, 3, 2, 6, 4]"
      ]
     },
     "execution_count": 21,
     "metadata": {},
     "output_type": "execute_result"
    }
   ],
   "source": [
    "# updated permuted_array\n",
    "permuted_array"
   ]
  },
  {
   "cell_type": "code",
   "execution_count": null,
   "id": "3e36eb6f-afcb-4a6b-8f2b-ef0935c1f015",
   "metadata": {},
   "outputs": [],
   "source": []
  },
  {
   "cell_type": "markdown",
   "id": "c3360657-84f4-4342-8d86-d687b7f023b4",
   "metadata": {},
   "source": [
    "# Q14. Create a 2D array and sort each row based on the values in a specific column.\n"
   ]
  },
  {
   "cell_type": "code",
   "execution_count": 23,
   "id": "e5b6ffbf-7c0f-4938-8c0f-1e68df7e8f05",
   "metadata": {},
   "outputs": [],
   "source": [
    "input_array=np.array([[3,4,6],\n",
    "             [5,8,3],\n",
    "             [7,2,9]])"
   ]
  },
  {
   "cell_type": "code",
   "execution_count": 24,
   "id": "b3340ccf-69fb-4a4b-8656-1ba2036afb23",
   "metadata": {},
   "outputs": [
    {
     "data": {
      "text/plain": [
       "2"
      ]
     },
     "execution_count": 24,
     "metadata": {},
     "output_type": "execute_result"
    }
   ],
   "source": [
    "input_array.ndim"
   ]
  },
  {
   "cell_type": "code",
   "execution_count": 26,
   "id": "dcead2de-ba57-49b3-b848-f269c535876c",
   "metadata": {},
   "outputs": [
    {
     "data": {
      "text/plain": [
       "array([[3, 4, 6],\n",
       "       [5, 8, 3],\n",
       "       [7, 2, 9]])"
      ]
     },
     "execution_count": 26,
     "metadata": {},
     "output_type": "execute_result"
    }
   ],
   "source": [
    "input_array"
   ]
  },
  {
   "cell_type": "code",
   "execution_count": 29,
   "id": "df319524-a844-4972-a3f1-8b8cd8e91329",
   "metadata": {},
   "outputs": [],
   "source": [
    "sorted_data = [row for row in sorted(input_array, key=lambda x: x[2])]"
   ]
  },
  {
   "cell_type": "code",
   "execution_count": 32,
   "id": "81e0b990-7527-4d56-9e96-67060f3f40f6",
   "metadata": {},
   "outputs": [
    {
     "data": {
      "text/plain": [
       "[array([5, 8, 3]), array([3, 4, 6]), array([7, 2, 9])]"
      ]
     },
     "execution_count": 32,
     "metadata": {},
     "output_type": "execute_result"
    }
   ],
   "source": [
    "sorted_data"
   ]
  },
  {
   "cell_type": "code",
   "execution_count": 33,
   "id": "b08ac6b1-cfc8-4d7c-a5e9-53d2e40ec43c",
   "metadata": {},
   "outputs": [
    {
     "name": "stdout",
     "output_type": "stream",
     "text": [
      "[5 8 3]\n",
      "[3 4 6]\n",
      "[7 2 9]\n"
     ]
    }
   ],
   "source": [
    "for row in sorted_data:\n",
    "    print(row)"
   ]
  },
  {
   "cell_type": "markdown",
   "id": "2db536ee-a03d-4783-a859-6f69e1479f9a",
   "metadata": {},
   "source": [
    "# Q15. Perform element-wise operations on arrays with different shapes, considering broadcasting rules.\n"
   ]
  },
  {
   "cell_type": "code",
   "execution_count": 38,
   "id": "03fcd79f-5560-4f0f-8e42-4fab6d001d38",
   "metadata": {},
   "outputs": [],
   "source": [
    "# 1D array\n",
    "arr=np.array([3,5,7])"
   ]
  },
  {
   "cell_type": "code",
   "execution_count": 39,
   "id": "f5455087-4df3-48b1-b281-ad617d897f48",
   "metadata": {},
   "outputs": [
    {
     "data": {
      "text/plain": [
       "array([3, 5, 7])"
      ]
     },
     "execution_count": 39,
     "metadata": {},
     "output_type": "execute_result"
    }
   ],
   "source": [
    "arr"
   ]
  },
  {
   "cell_type": "code",
   "execution_count": 40,
   "id": "6535e8fa-6cc5-47d1-a78a-df22f0a62883",
   "metadata": {},
   "outputs": [
    {
     "data": {
      "text/plain": [
       "array([5, 7, 9])"
      ]
     },
     "execution_count": 40,
     "metadata": {},
     "output_type": "execute_result"
    }
   ],
   "source": [
    "arr+2"
   ]
  },
  {
   "cell_type": "code",
   "execution_count": 41,
   "id": "35135d22-5421-491d-b9be-7df0f0e07863",
   "metadata": {},
   "outputs": [],
   "source": [
    "# 2D array\n",
    "arr1=np.array([[2,3,4],[8,4,3]])"
   ]
  },
  {
   "cell_type": "code",
   "execution_count": 42,
   "id": "0294bfb6-1673-4d4b-be46-8048e16203bc",
   "metadata": {},
   "outputs": [
    {
     "data": {
      "text/plain": [
       "array([[2, 3, 4],\n",
       "       [8, 4, 3]])"
      ]
     },
     "execution_count": 42,
     "metadata": {},
     "output_type": "execute_result"
    }
   ],
   "source": [
    "arr1"
   ]
  },
  {
   "cell_type": "code",
   "execution_count": 44,
   "id": "5e077471-2f54-42f4-9c13-c44a36864b06",
   "metadata": {},
   "outputs": [
    {
     "data": {
      "text/plain": [
       "array([[ 5,  8, 11],\n",
       "       [11,  9, 10]])"
      ]
     },
     "execution_count": 44,
     "metadata": {},
     "output_type": "execute_result"
    }
   ],
   "source": [
    "arr1+arr"
   ]
  },
  {
   "cell_type": "code",
   "execution_count": 51,
   "id": "f909b4f8-305f-4935-87bd-5d25e4a3ed89",
   "metadata": {},
   "outputs": [],
   "source": [
    "# new 1D array\n",
    "arr3=np.array([2,5])"
   ]
  },
  {
   "cell_type": "code",
   "execution_count": 52,
   "id": "3c79323e-7c28-4776-b3e5-7ef18631e095",
   "metadata": {},
   "outputs": [
    {
     "data": {
      "text/plain": [
       "1"
      ]
     },
     "execution_count": 52,
     "metadata": {},
     "output_type": "execute_result"
    }
   ],
   "source": [
    "arr3.ndim"
   ]
  },
  {
   "cell_type": "code",
   "execution_count": 53,
   "id": "9dbef445-80ab-46d4-b9ad-1a3e21319621",
   "metadata": {},
   "outputs": [
    {
     "data": {
      "text/plain": [
       "array([2, 5])"
      ]
     },
     "execution_count": 53,
     "metadata": {},
     "output_type": "execute_result"
    }
   ],
   "source": [
    "arr3"
   ]
  },
  {
   "cell_type": "code",
   "execution_count": 54,
   "id": "e748b157-7927-4ab2-9f3a-588909c2b711",
   "metadata": {},
   "outputs": [
    {
     "ename": "ValueError",
     "evalue": "operands could not be broadcast together with shapes (2,3) (2,) ",
     "output_type": "error",
     "traceback": [
      "\u001b[0;31m---------------------------------------------------------------------------\u001b[0m",
      "\u001b[0;31mValueError\u001b[0m                                Traceback (most recent call last)",
      "Cell \u001b[0;32mIn[54], line 1\u001b[0m\n\u001b[0;32m----> 1\u001b[0m \u001b[43marr1\u001b[49m\u001b[38;5;241;43m+\u001b[39;49m\u001b[43marr3\u001b[49m\n",
      "\u001b[0;31mValueError\u001b[0m: operands could not be broadcast together with shapes (2,3) (2,) "
     ]
    }
   ],
   "source": [
    "arr1+arr3"
   ]
  },
  {
   "cell_type": "code",
   "execution_count": 57,
   "id": "155fddb2-0b15-4aeb-b81f-5a76d4ba1ea1",
   "metadata": {},
   "outputs": [],
   "source": [
    "# we have to transpose the arr1 for compatble for broadcasting with arr3\n",
    "arr1=arr1.T"
   ]
  },
  {
   "cell_type": "code",
   "execution_count": 58,
   "id": "0ad7f705-3a53-4033-a1ae-2f464131a8a8",
   "metadata": {},
   "outputs": [
    {
     "data": {
      "text/plain": [
       "array([[2, 8],\n",
       "       [3, 4],\n",
       "       [4, 3]])"
      ]
     },
     "execution_count": 58,
     "metadata": {},
     "output_type": "execute_result"
    }
   ],
   "source": [
    "arr1"
   ]
  },
  {
   "cell_type": "code",
   "execution_count": 59,
   "id": "d65bcf3e-389e-431f-9480-fab599cb6911",
   "metadata": {},
   "outputs": [
    {
     "data": {
      "text/plain": [
       "array([[ 4, 13],\n",
       "       [ 5,  9],\n",
       "       [ 6,  8]])"
      ]
     },
     "execution_count": 59,
     "metadata": {},
     "output_type": "execute_result"
    }
   ],
   "source": [
    "arr1+arr3"
   ]
  },
  {
   "cell_type": "markdown",
   "id": "261b5a3f-f13e-46d3-8701-1c07b7d12fc6",
   "metadata": {},
   "source": [
    "# Q16. Reshape a 1D array into a 2D array with a specific number of rows and columns.\n"
   ]
  },
  {
   "cell_type": "code",
   "execution_count": 60,
   "id": "4e699962-4340-4951-9244-d1b79dbe14cc",
   "metadata": {},
   "outputs": [],
   "source": [
    "# 1D array\n",
    "arr=np.array([2,4,6,7,8,3,7,4,1,9])"
   ]
  },
  {
   "cell_type": "code",
   "execution_count": 63,
   "id": "a84d4731-71d7-4fa3-88e8-672cf6e9d605",
   "metadata": {},
   "outputs": [
    {
     "data": {
      "text/plain": [
       "10"
      ]
     },
     "execution_count": 63,
     "metadata": {},
     "output_type": "execute_result"
    }
   ],
   "source": [
    "len(arr)"
   ]
  },
  {
   "cell_type": "code",
   "execution_count": 64,
   "id": "859d8db4-afee-4965-a0d0-2f75236e4387",
   "metadata": {},
   "outputs": [
    {
     "data": {
      "text/plain": [
       "array([[2, 4],\n",
       "       [6, 7],\n",
       "       [8, 3],\n",
       "       [7, 4],\n",
       "       [1, 9]])"
      ]
     },
     "execution_count": 64,
     "metadata": {},
     "output_type": "execute_result"
    }
   ],
   "source": [
    "# convert into 2D with 5 row and 2 columns\n",
    "arr.reshape(5,2)"
   ]
  },
  {
   "cell_type": "code",
   "execution_count": null,
   "id": "8bb4dffd-fc7b-487b-b29d-4854dcf5ff4b",
   "metadata": {},
   "outputs": [],
   "source": []
  },
  {
   "cell_type": "markdown",
   "id": "464b55cb-8949-42c9-8905-4718ff633fe3",
   "metadata": {},
   "source": [
    "# Q17. Calculate the mean squared error (MSE) between two arrays.\n"
   ]
  },
  {
   "cell_type": "code",
   "execution_count": 65,
   "id": "805ce9c7-df17-4e2e-bb00-7a546ecf3aee",
   "metadata": {},
   "outputs": [],
   "source": [
    "import numpy as np"
   ]
  },
  {
   "cell_type": "code",
   "execution_count": 74,
   "id": "9f53a4a0-21e7-459e-b185-fb5639dc7b09",
   "metadata": {},
   "outputs": [],
   "source": [
    "predicted_values = np.array([1.7, 2.8, 3.9, 4.8])\n",
    "actual_values = np.array([1.0, 2.0, 3.3, 5.2])"
   ]
  },
  {
   "cell_type": "code",
   "execution_count": 75,
   "id": "366b3a67-9f2e-44ee-8612-05bf63f6f01f",
   "metadata": {},
   "outputs": [],
   "source": [
    "error=actual_values-predicted_values"
   ]
  },
  {
   "cell_type": "code",
   "execution_count": 76,
   "id": "493ccd02-0a33-468c-a96b-87425adf86a4",
   "metadata": {},
   "outputs": [],
   "source": [
    "# mean square error\n",
    "mse=np.mean(error**2)"
   ]
  },
  {
   "cell_type": "code",
   "execution_count": 77,
   "id": "eeedaec7-4dfd-49e7-b81d-b32d8aa93002",
   "metadata": {},
   "outputs": [
    {
     "data": {
      "text/plain": [
       "0.41250000000000003"
      ]
     },
     "execution_count": 77,
     "metadata": {},
     "output_type": "execute_result"
    }
   ],
   "source": [
    "mse"
   ]
  },
  {
   "cell_type": "code",
   "execution_count": null,
   "id": "abf123cd-db2e-44ba-b9b8-53fbd0c13478",
   "metadata": {},
   "outputs": [],
   "source": []
  },
  {
   "cell_type": "markdown",
   "id": "e73ad86c-7eb0-476a-ab4f-0af76d80c0c4",
   "metadata": {},
   "source": [
    "# Q18. Find the indices that would sort a 1D array.\n"
   ]
  },
  {
   "cell_type": "code",
   "execution_count": 78,
   "id": "82b4d14b-b9ca-417f-b08b-8327fc7fc0be",
   "metadata": {},
   "outputs": [],
   "source": [
    "# 1D array\n",
    "arr=np.array([2,3,1,6,8])"
   ]
  },
  {
   "cell_type": "code",
   "execution_count": 79,
   "id": "45f193d4-daeb-42d5-9e03-558e19f7c63f",
   "metadata": {},
   "outputs": [
    {
     "data": {
      "text/plain": [
       "array([2, 0, 1, 3, 4])"
      ]
     },
     "execution_count": 79,
     "metadata": {},
     "output_type": "execute_result"
    }
   ],
   "source": [
    "np.argsort(arr) # get indices that sort a 1D array"
   ]
  },
  {
   "cell_type": "code",
   "execution_count": 82,
   "id": "e677c95f-0667-4a04-95e4-c6f7f5ed626a",
   "metadata": {},
   "outputs": [
    {
     "data": {
      "text/plain": [
       "array([1, 2, 3, 6, 8])"
      ]
     },
     "execution_count": 82,
     "metadata": {},
     "output_type": "execute_result"
    }
   ],
   "source": [
    "np.sort(arr)"
   ]
  },
  {
   "cell_type": "code",
   "execution_count": null,
   "id": "6edbb569-e5eb-4099-a141-8e5075adab93",
   "metadata": {},
   "outputs": [],
   "source": []
  },
  {
   "cell_type": "markdown",
   "id": "68d7fc23-c147-4613-8ea8-d09318b5b865",
   "metadata": {},
   "source": [
    "# Q19. Create a masked array by replacing all values below a threshold with NaN.\n"
   ]
  },
  {
   "cell_type": "code",
   "execution_count": 83,
   "id": "4b86f2a3-2af7-4eb0-9e7f-e9bd7dd1da14",
   "metadata": {},
   "outputs": [],
   "source": [
    "import numpy.ma as ma"
   ]
  },
  {
   "cell_type": "code",
   "execution_count": 92,
   "id": "3d9eca45-de4d-498c-b390-44747aa4ead2",
   "metadata": {},
   "outputs": [],
   "source": [
    "# 1D array\n",
    "arr=np.array([2,3,7,11,10,12,15,14],dtype=float)"
   ]
  },
  {
   "cell_type": "code",
   "execution_count": 93,
   "id": "2dde77fe-b2dc-435f-9cfc-8f2f94108b6f",
   "metadata": {},
   "outputs": [],
   "source": [
    "# define threshold\n",
    "threshold=10"
   ]
  },
  {
   "cell_type": "code",
   "execution_count": 94,
   "id": "401f69e7-7e26-42e2-b4da-71f45d1f9a46",
   "metadata": {},
   "outputs": [],
   "source": [
    "mask_condition=arr<threshold"
   ]
  },
  {
   "cell_type": "code",
   "execution_count": 95,
   "id": "7a6ae0e0-b11c-4223-a00f-718ff5336870",
   "metadata": {},
   "outputs": [],
   "source": [
    "masked_array=ma.array(arr,mask=mask_condition,fill_value=np.nan)"
   ]
  },
  {
   "cell_type": "code",
   "execution_count": 96,
   "id": "d9dd0d94-5f8e-44e0-ab35-aa43030328a1",
   "metadata": {},
   "outputs": [
    {
     "data": {
      "text/plain": [
       "masked_array(data=[--, --, --, 11.0, 10.0, 12.0, 15.0, 14.0],\n",
       "             mask=[ True,  True,  True, False, False, False, False, False],\n",
       "       fill_value=nan)"
      ]
     },
     "execution_count": 96,
     "metadata": {},
     "output_type": "execute_result"
    }
   ],
   "source": [
    "masked_array"
   ]
  },
  {
   "cell_type": "markdown",
   "id": "20e85026-a467-454b-8394-a6142f84b699",
   "metadata": {},
   "source": [
    "# Q20. Calculate the Pearson correlation coefficient between two arrays.\n"
   ]
  },
  {
   "cell_type": "code",
   "execution_count": 97,
   "id": "c5df5467-aed2-4ef4-be08-dd43dd72b568",
   "metadata": {},
   "outputs": [],
   "source": [
    "# Define two arrays\n",
    "arr1 = np.array([1,6,3,8,5])\n",
    "arr2 = np.array([5,4,9,7,10])"
   ]
  },
  {
   "cell_type": "code",
   "execution_count": 98,
   "id": "fc4f42e8-5c54-4f04-b22f-d92e1e9a9056",
   "metadata": {},
   "outputs": [],
   "source": [
    "# Calculate the Pearson correlation coefficient\n",
    "correlation_matrix = np.corrcoef(arr1, arr2)"
   ]
  },
  {
   "cell_type": "code",
   "execution_count": 99,
   "id": "298de622-84c8-4998-aef5-b4cdc0dad316",
   "metadata": {},
   "outputs": [
    {
     "data": {
      "text/plain": [
       "array([[1.        , 0.03629292],\n",
       "       [0.03629292, 1.        ]])"
      ]
     },
     "execution_count": 99,
     "metadata": {},
     "output_type": "execute_result"
    }
   ],
   "source": [
    "correlation_matrix"
   ]
  },
  {
   "cell_type": "code",
   "execution_count": 100,
   "id": "bf978753-ef19-45da-9e89-91ec458bfd7d",
   "metadata": {},
   "outputs": [],
   "source": [
    "pearson_coefficient = correlation_matrix[0, 1]\n"
   ]
  },
  {
   "cell_type": "code",
   "execution_count": 101,
   "id": "142a4647-2d69-4596-af8b-95f5a2d25a49",
   "metadata": {},
   "outputs": [
    {
     "data": {
      "text/plain": [
       "0.036292919071221334"
      ]
     },
     "execution_count": 101,
     "metadata": {},
     "output_type": "execute_result"
    }
   ],
   "source": [
    "pearson_coefficient"
   ]
  },
  {
   "cell_type": "markdown",
   "id": "06ed4b15-901d-43a4-84e2-71ff5c44f376",
   "metadata": {},
   "source": [
    "# Q21. Generate a 2D array of random integers and remove rows with duplicate elements.\n"
   ]
  },
  {
   "cell_type": "code",
   "execution_count": 112,
   "id": "3dd28749-5c94-4d1a-b8f5-9200b4eb81a1",
   "metadata": {},
   "outputs": [],
   "source": [
    "import numpy as np"
   ]
  },
  {
   "cell_type": "code",
   "execution_count": 113,
   "id": "ddc09a99-2a07-4fc0-bd29-52910ad3cfa1",
   "metadata": {},
   "outputs": [],
   "source": [
    "random_array=np.random.randint(0,11,(6,3))"
   ]
  },
  {
   "cell_type": "code",
   "execution_count": 114,
   "id": "a94ae071-3fdf-4086-a683-ac53c2b8ec0b",
   "metadata": {},
   "outputs": [
    {
     "data": {
      "text/plain": [
       "array([[7, 8, 1],\n",
       "       [5, 9, 8],\n",
       "       [9, 4, 3],\n",
       "       [0, 3, 5],\n",
       "       [0, 2, 3],\n",
       "       [8, 1, 3]])"
      ]
     },
     "execution_count": 114,
     "metadata": {},
     "output_type": "execute_result"
    }
   ],
   "source": [
    "random_array"
   ]
  },
  {
   "cell_type": "code",
   "execution_count": 115,
   "id": "178a34df-b54f-4037-bced-74e23f04a36c",
   "metadata": {},
   "outputs": [
    {
     "data": {
      "text/plain": [
       "(array([[0, 2, 3],\n",
       "        [0, 3, 5],\n",
       "        [5, 9, 8],\n",
       "        [7, 8, 1],\n",
       "        [8, 1, 3],\n",
       "        [9, 4, 3]]),\n",
       " array([4, 3, 1, 0, 5, 2]))"
      ]
     },
     "execution_count": 115,
     "metadata": {},
     "output_type": "execute_result"
    }
   ],
   "source": [
    "np.unique(random_array,axis=0,return_index=True)"
   ]
  },
  {
   "cell_type": "markdown",
   "id": "8933b435-bc0b-4855-b17c-30070a34f769",
   "metadata": {},
   "source": [
    "# Q22. Create a 5x5 matrix with values 1, 2, 3, 4 just below the diagonal."
   ]
  },
  {
   "cell_type": "code",
   "execution_count": 121,
   "id": "3c27cb3f-910f-4a4c-9f10-e7847db9a870",
   "metadata": {},
   "outputs": [],
   "source": [
    "matrix=np.zeros((5,5))"
   ]
  },
  {
   "cell_type": "code",
   "execution_count": 122,
   "id": "c4d92a62-f610-4f87-ac69-38fd2ce21856",
   "metadata": {},
   "outputs": [
    {
     "data": {
      "text/plain": [
       "array([[0., 0., 0., 0., 0.],\n",
       "       [0., 0., 0., 0., 0.],\n",
       "       [0., 0., 0., 0., 0.],\n",
       "       [0., 0., 0., 0., 0.],\n",
       "       [0., 0., 0., 0., 0.]])"
      ]
     },
     "execution_count": 122,
     "metadata": {},
     "output_type": "execute_result"
    }
   ],
   "source": [
    "matrix"
   ]
  },
  {
   "cell_type": "code",
   "execution_count": 123,
   "id": "76f91b79-fc3c-46b8-a3a5-1af1a784d8a5",
   "metadata": {},
   "outputs": [],
   "source": [
    "for i in range(1, 5):\n",
    "    matrix[i, i - 1] = i"
   ]
  },
  {
   "cell_type": "code",
   "execution_count": null,
   "id": "4cf3aa95-f287-444f-853e-5330c792b92c",
   "metadata": {},
   "outputs": [],
   "source": [
    "# when i is 1, we set the element at (1, 0) to 1. When i is 2, we set the element at (2, 1) to 2, and so on."
   ]
  },
  {
   "cell_type": "code",
   "execution_count": 124,
   "id": "9d63c3d4-7fd5-4667-b775-897637bc1b5b",
   "metadata": {},
   "outputs": [
    {
     "data": {
      "text/plain": [
       "array([[0., 0., 0., 0., 0.],\n",
       "       [1., 0., 0., 0., 0.],\n",
       "       [0., 2., 0., 0., 0.],\n",
       "       [0., 0., 3., 0., 0.],\n",
       "       [0., 0., 0., 4., 0.]])"
      ]
     },
     "execution_count": 124,
     "metadata": {},
     "output_type": "execute_result"
    }
   ],
   "source": [
    "matrix"
   ]
  },
  {
   "cell_type": "markdown",
   "id": "16e94054-ad9b-4bd6-8062-8d3a32c23980",
   "metadata": {},
   "source": [
    "# Q23. Given a NumPy array, replace all odd numbers with -1."
   ]
  },
  {
   "cell_type": "code",
   "execution_count": 125,
   "id": "96bdb2e5-6b0a-40b5-a0b4-01822c7cddb1",
   "metadata": {},
   "outputs": [],
   "source": [
    "arr=np.array([1,2,3,4,5,6,7,8,9])"
   ]
  },
  {
   "cell_type": "code",
   "execution_count": 126,
   "id": "c8713c61-e8dc-4dba-b8b5-d866b29f147d",
   "metadata": {},
   "outputs": [
    {
     "data": {
      "text/plain": [
       "array([1, 2, 3, 4, 5, 6, 7, 8, 9])"
      ]
     },
     "execution_count": 126,
     "metadata": {},
     "output_type": "execute_result"
    }
   ],
   "source": [
    "arr"
   ]
  },
  {
   "cell_type": "code",
   "execution_count": 129,
   "id": "72a2eab7-60c7-46be-9ce5-0bfa1e641790",
   "metadata": {},
   "outputs": [],
   "source": [
    "arr[arr%2!=0]=-1"
   ]
  },
  {
   "cell_type": "code",
   "execution_count": 130,
   "id": "20596d45-ec12-47b0-8561-1f94bb6ef794",
   "metadata": {},
   "outputs": [
    {
     "data": {
      "text/plain": [
       "array([-1,  2, -1,  4, -1,  6, -1,  8, -1])"
      ]
     },
     "execution_count": 130,
     "metadata": {},
     "output_type": "execute_result"
    }
   ],
   "source": [
    "arr"
   ]
  },
  {
   "cell_type": "markdown",
   "id": "97fa17b6-b2a3-4cc7-9948-57f99d441029",
   "metadata": {},
   "source": [
    "# Q24. Given a 2D NumPy array, swap its rows - the first row becomes the last, the second becomes the second last, and so on."
   ]
  },
  {
   "cell_type": "code",
   "execution_count": 133,
   "id": "922f7de7-f16c-4343-abff-47bad7801436",
   "metadata": {},
   "outputs": [],
   "source": [
    "arr=np.array([[8,2,4],[7,6,2],[4,6,9],[3,5,2],[1,4,2]])"
   ]
  },
  {
   "cell_type": "code",
   "execution_count": 134,
   "id": "f08229a1-f17b-4354-902a-27e23e2b45a6",
   "metadata": {},
   "outputs": [
    {
     "data": {
      "text/plain": [
       "array([[8, 2, 4],\n",
       "       [7, 6, 2],\n",
       "       [4, 6, 9],\n",
       "       [3, 5, 2],\n",
       "       [1, 4, 2]])"
      ]
     },
     "execution_count": 134,
     "metadata": {},
     "output_type": "execute_result"
    }
   ],
   "source": [
    "arr"
   ]
  },
  {
   "cell_type": "code",
   "execution_count": 135,
   "id": "dafb7f78-6ce7-48cd-b0ac-cb5bca5755e7",
   "metadata": {},
   "outputs": [
    {
     "data": {
      "text/plain": [
       "array([[1, 4, 2],\n",
       "       [3, 5, 2],\n",
       "       [4, 6, 9],\n",
       "       [7, 6, 2],\n",
       "       [8, 2, 4]])"
      ]
     },
     "execution_count": 135,
     "metadata": {},
     "output_type": "execute_result"
    }
   ],
   "source": [
    "arr[::-1]"
   ]
  },
  {
   "cell_type": "code",
   "execution_count": null,
   "id": "3eb17a82-ff05-46b7-aa39-4d187959ffc5",
   "metadata": {},
   "outputs": [],
   "source": []
  },
  {
   "cell_type": "markdown",
   "id": "4bcc0ee2-f00e-4adf-8431-d21e6bde36e4",
   "metadata": {},
   "source": [
    "# Q25. Create a 2D NumPy array with dimensions 5x5 filled with random integers between 1 and 100, and then find the sum of each row and each column."
   ]
  },
  {
   "cell_type": "code",
   "execution_count": 136,
   "id": "dc1651c6-d92d-436f-91cb-ca62908b839f",
   "metadata": {},
   "outputs": [],
   "source": [
    "arr=np.random.randint(1,100,(5,5))"
   ]
  },
  {
   "cell_type": "code",
   "execution_count": 137,
   "id": "5093ccda-9777-4e09-b0a7-f49186535045",
   "metadata": {},
   "outputs": [
    {
     "data": {
      "text/plain": [
       "array([[30, 20, 20, 15, 40],\n",
       "       [33, 66, 10, 58, 33],\n",
       "       [32, 75, 24, 36, 76],\n",
       "       [56, 29, 35,  1,  1],\n",
       "       [37, 54,  6, 39, 18]])"
      ]
     },
     "execution_count": 137,
     "metadata": {},
     "output_type": "execute_result"
    }
   ],
   "source": [
    "arr"
   ]
  },
  {
   "cell_type": "code",
   "execution_count": 138,
   "id": "1bc2ba6d-0c31-44ea-847b-2e8c426a989b",
   "metadata": {},
   "outputs": [],
   "source": [
    "rows_sum=np.sum(arr,axis=1)\n",
    "column_sum=np.sum(arr,axis=0)"
   ]
  },
  {
   "cell_type": "code",
   "execution_count": 139,
   "id": "61e1dc58-237c-44ab-856a-de806272890b",
   "metadata": {},
   "outputs": [
    {
     "data": {
      "text/plain": [
       "array([125, 200, 243, 122, 154])"
      ]
     },
     "execution_count": 139,
     "metadata": {},
     "output_type": "execute_result"
    }
   ],
   "source": [
    "rows_sum"
   ]
  },
  {
   "cell_type": "code",
   "execution_count": 140,
   "id": "0763a5f2-271e-4691-8081-fd2b403a4c67",
   "metadata": {},
   "outputs": [
    {
     "data": {
      "text/plain": [
       "array([188, 244,  95, 149, 168])"
      ]
     },
     "execution_count": 140,
     "metadata": {},
     "output_type": "execute_result"
    }
   ],
   "source": [
    "column_sum"
   ]
  },
  {
   "cell_type": "markdown",
   "id": "dbed2875-c7a6-47c5-ad57-ba3fb15440df",
   "metadata": {},
   "source": [
    "# Q26. Create a NumPy array with 20 random integers between -50 and 50. Replace all negative values with 0 without using a loop."
   ]
  },
  {
   "cell_type": "code",
   "execution_count": 145,
   "id": "fd1afdaf-ec3f-4c82-854c-1256b9945bb8",
   "metadata": {},
   "outputs": [],
   "source": [
    "arr=np.random.randint(-50,50,20)"
   ]
  },
  {
   "cell_type": "code",
   "execution_count": 146,
   "id": "e6a5ca6c-8752-416a-b68b-b4e6011b34fb",
   "metadata": {},
   "outputs": [
    {
     "data": {
      "text/plain": [
       "array([-46,  -8,   8, -19, -49,  15,  -9,   7, -15, -39,  -4,  32,  41,\n",
       "       -50, -36,  49,   3, -38,  -8,  34])"
      ]
     },
     "execution_count": 146,
     "metadata": {},
     "output_type": "execute_result"
    }
   ],
   "source": [
    "arr"
   ]
  },
  {
   "cell_type": "code",
   "execution_count": 147,
   "id": "2c178dcd-bed7-4bf0-8182-4c2e85a18ca1",
   "metadata": {},
   "outputs": [],
   "source": [
    "arr[arr<0]=0"
   ]
  },
  {
   "cell_type": "code",
   "execution_count": 148,
   "id": "dec0ef2e-dcf0-46ae-b53c-fe085b3477b3",
   "metadata": {},
   "outputs": [
    {
     "data": {
      "text/plain": [
       "array([ 0,  0,  8,  0,  0, 15,  0,  7,  0,  0,  0, 32, 41,  0,  0, 49,  3,\n",
       "        0,  0, 34])"
      ]
     },
     "execution_count": 148,
     "metadata": {},
     "output_type": "execute_result"
    }
   ],
   "source": [
    "arr"
   ]
  },
  {
   "cell_type": "code",
   "execution_count": null,
   "id": "31fa082a-264d-4805-88ec-710d103c2b7c",
   "metadata": {},
   "outputs": [],
   "source": []
  },
  {
   "cell_type": "markdown",
   "id": "4a82496e-9162-465e-8729-4ab3182b7997",
   "metadata": {},
   "source": [
    "# Q27. Create a NumPy array with 10 elements, and then add a border (filled with zeros) around it, making it a 3x3 matrix with the original array at its center."
   ]
  },
  {
   "cell_type": "code",
   "execution_count": 188,
   "id": "c582343a-7f9b-49ad-9a47-48e41cdcfd61",
   "metadata": {},
   "outputs": [],
   "source": [
    "arr=np.array([1,2,3,4,5,6,7,8,9,10])"
   ]
  },
  {
   "cell_type": "code",
   "execution_count": 189,
   "id": "3bd3ccd8-9e47-4b03-ad29-e78dc3593627",
   "metadata": {},
   "outputs": [
    {
     "data": {
      "text/plain": [
       "array([ 1,  2,  3,  4,  5,  6,  7,  8,  9, 10])"
      ]
     },
     "execution_count": 189,
     "metadata": {},
     "output_type": "execute_result"
    }
   ],
   "source": [
    "arr"
   ]
  },
  {
   "cell_type": "code",
   "execution_count": 190,
   "id": "02865cd4-ae08-44b7-b863-b7f2e82abc1e",
   "metadata": {},
   "outputs": [],
   "source": [
    "arr1=arr.reshape(5,2)"
   ]
  },
  {
   "cell_type": "code",
   "execution_count": 191,
   "id": "ca2cb74e-cfdb-4268-9b44-f04830318edd",
   "metadata": {},
   "outputs": [
    {
     "data": {
      "text/plain": [
       "array([[ 1,  2],\n",
       "       [ 3,  4],\n",
       "       [ 5,  6],\n",
       "       [ 7,  8],\n",
       "       [ 9, 10]])"
      ]
     },
     "execution_count": 191,
     "metadata": {},
     "output_type": "execute_result"
    }
   ],
   "source": [
    "arr1"
   ]
  },
  {
   "cell_type": "code",
   "execution_count": null,
   "id": "7333c795-8fb7-41c1-bb98-67a725b2e760",
   "metadata": {},
   "outputs": [],
   "source": [
    "# syntax of pad"
   ]
  },
  {
   "cell_type": "code",
   "execution_count": null,
   "id": "e9e3f862-2b8d-45f3-afc3-ab7507b4a174",
   "metadata": {},
   "outputs": [],
   "source": [
    "# numpy.pad(array, pad_width, mode='constant', constant_values=0)"
   ]
  },
  {
   "cell_type": "markdown",
   "id": "a12b180b-86b4-40f0-80a1-a385862bcfd7",
   "metadata": {},
   "source": [
    "pad_width: A tuple specifying how much padding to add along each axis. It is typically a tuple of tuples, where each inner tuple specifies the padding for one axis. For example, ((1, 1), (2, 2)) means add 1 element of padding before and after the first axis and 2 elements of padding before and after the second axis."
   ]
  },
  {
   "cell_type": "code",
   "execution_count": 192,
   "id": "a0bd29e3-70bb-4b80-9d3c-50f798b50686",
   "metadata": {},
   "outputs": [],
   "source": [
    "# Add a border of zeros to create a 3x3 matrix\n",
    "bordered_matrix = np.pad(arr1, ((1, 1), (1, 1)), mode='constant', constant_values=0)"
   ]
  },
  {
   "cell_type": "code",
   "execution_count": 193,
   "id": "3713a3a6-8fe7-4b7f-b35a-ee49229bbdc3",
   "metadata": {},
   "outputs": [
    {
     "data": {
      "text/plain": [
       "array([[ 0,  0,  0,  0],\n",
       "       [ 0,  1,  2,  0],\n",
       "       [ 0,  3,  4,  0],\n",
       "       [ 0,  5,  6,  0],\n",
       "       [ 0,  7,  8,  0],\n",
       "       [ 0,  9, 10,  0],\n",
       "       [ 0,  0,  0,  0]])"
      ]
     },
     "execution_count": 193,
     "metadata": {},
     "output_type": "execute_result"
    }
   ],
   "source": [
    "bordered_matrix"
   ]
  },
  {
   "cell_type": "code",
   "execution_count": null,
   "id": "119a40e9-d1ca-4fdf-8c93-19096da78a2f",
   "metadata": {},
   "outputs": [],
   "source": []
  },
  {
   "cell_type": "markdown",
   "id": "7348cfec-da06-471f-9716-7f6cdb546c64",
   "metadata": {},
   "source": [
    "# Q28. Given two NumPy arrays, concatenate them horizontally (side by side) and vertically (stacked on top of each other)."
   ]
  },
  {
   "cell_type": "code",
   "execution_count": 205,
   "id": "6b4bdd0e-faed-48af-aca5-ef34064d2e05",
   "metadata": {},
   "outputs": [],
   "source": [
    "array1=np.array([1, 2, 3])\n",
    "array2=np.array([4, 5, 6])"
   ]
  },
  {
   "cell_type": "code",
   "execution_count": 206,
   "id": "7dc381d8-29bd-4ff2-a906-b2ca92460278",
   "metadata": {},
   "outputs": [],
   "source": [
    "Horizontal_concatenate=np.hstack((array1,array2))"
   ]
  },
  {
   "cell_type": "code",
   "execution_count": 207,
   "id": "06903282-81ce-4123-93fe-291ee8604282",
   "metadata": {},
   "outputs": [
    {
     "data": {
      "text/plain": [
       "array([1, 2, 3, 4, 5, 6])"
      ]
     },
     "execution_count": 207,
     "metadata": {},
     "output_type": "execute_result"
    }
   ],
   "source": [
    "Horizontal_concatenate"
   ]
  },
  {
   "cell_type": "code",
   "execution_count": 208,
   "id": "1ca02d79-8278-4ae1-88af-d0e5630cc533",
   "metadata": {},
   "outputs": [],
   "source": [
    "vertical_concatenate =np.vstack((array1,array2))"
   ]
  },
  {
   "cell_type": "code",
   "execution_count": 209,
   "id": "1b73ac1c-1317-41e5-8ce5-ce69a0cebb1e",
   "metadata": {},
   "outputs": [
    {
     "data": {
      "text/plain": [
       "array([[1, 2, 3],\n",
       "       [4, 5, 6]])"
      ]
     },
     "execution_count": 209,
     "metadata": {},
     "output_type": "execute_result"
    }
   ],
   "source": [
    "vertical_concatenate"
   ]
  },
  {
   "cell_type": "markdown",
   "id": "eeefdd93-6f43-4d6a-a5ce-b23ca26314fd",
   "metadata": {},
   "source": [
    "# Q29. Given a 1D NumPy array of numbers, compute the element-wise absolute difference between each element and its mean."
   ]
  },
  {
   "cell_type": "code",
   "execution_count": 210,
   "id": "84465dea-d3dd-411b-9f99-1b1fdfc07101",
   "metadata": {},
   "outputs": [],
   "source": [
    "arr=np.array([1,2,3,4,5,6,7])"
   ]
  },
  {
   "cell_type": "code",
   "execution_count": 211,
   "id": "7f304091-1bff-4308-a564-4c85e8087ff5",
   "metadata": {},
   "outputs": [],
   "source": [
    "arr1=np.mean(arr)"
   ]
  },
  {
   "cell_type": "code",
   "execution_count": 213,
   "id": "c6441c74-b08c-4ed5-b0b1-4e4aa29645ad",
   "metadata": {},
   "outputs": [],
   "source": [
    "absolute_difference=np.abs(arr-arr1)"
   ]
  },
  {
   "cell_type": "code",
   "execution_count": 215,
   "id": "e15f5125-d7d8-4121-94f0-4c9ccfea25de",
   "metadata": {},
   "outputs": [
    {
     "data": {
      "text/plain": [
       "array([3., 2., 1., 0., 1., 2., 3.])"
      ]
     },
     "execution_count": 215,
     "metadata": {},
     "output_type": "execute_result"
    }
   ],
   "source": [
    "absolute_difference"
   ]
  },
  {
   "cell_type": "code",
   "execution_count": null,
   "id": "fba34b83-3267-49f2-aecd-bb5cfc33ef4d",
   "metadata": {},
   "outputs": [],
   "source": []
  },
  {
   "cell_type": "markdown",
   "id": "4e084b0d-1229-46ad-9a29-a38810b89da3",
   "metadata": {},
   "source": [
    "# Q30. Generate a random 2D NumPy array of size 5x5 with values between 1 and 100. Find the indices of the top 5 maximum values in the array."
   ]
  },
  {
   "cell_type": "code",
   "execution_count": 28,
   "id": "0dbe9dcd-9b4b-4ded-8b5d-b69294c6d342",
   "metadata": {},
   "outputs": [],
   "source": [
    "import numpy as np"
   ]
  },
  {
   "cell_type": "code",
   "execution_count": 29,
   "id": "b3b2673e-e5b2-400d-acf8-1aa8add33c4d",
   "metadata": {},
   "outputs": [],
   "source": [
    "np.random.seed(0)"
   ]
  },
  {
   "cell_type": "code",
   "execution_count": 30,
   "id": "e6ae8b86-6f00-442d-9e12-6c97a0ee16f9",
   "metadata": {},
   "outputs": [],
   "source": [
    "arr=np.random.randint(1,100,(5,5))"
   ]
  },
  {
   "cell_type": "code",
   "execution_count": 31,
   "id": "bec5be50-f226-4f7d-a9f4-86961bc84f24",
   "metadata": {},
   "outputs": [
    {
     "data": {
      "text/plain": [
       "array([[45, 48, 65, 68, 68],\n",
       "       [10, 84, 22, 37, 88],\n",
       "       [71, 89, 89, 13, 59],\n",
       "       [66, 40, 88, 47, 89],\n",
       "       [82, 38, 26, 78, 73]])"
      ]
     },
     "execution_count": 31,
     "metadata": {},
     "output_type": "execute_result"
    }
   ],
   "source": [
    "arr"
   ]
  },
  {
   "cell_type": "code",
   "execution_count": 35,
   "id": "45b7fc0a-4ce7-440b-acfb-81781df753e7",
   "metadata": {},
   "outputs": [],
   "source": [
    "indices_of_top_5_max = np.argpartition(arr.flatten(), -5)[-5:]"
   ]
  },
  {
   "cell_type": "code",
   "execution_count": 36,
   "id": "85089435-59c9-4c62-a480-9397e2f87f5a",
   "metadata": {},
   "outputs": [
    {
     "data": {
      "text/plain": [
       "array([17,  9, 11, 19, 12])"
      ]
     },
     "execution_count": 36,
     "metadata": {},
     "output_type": "execute_result"
    }
   ],
   "source": [
    "indices_of_top_5_max"
   ]
  },
  {
   "cell_type": "code",
   "execution_count": 37,
   "id": "5b5cecdc-d4ba-4430-a2a8-d2e83d2aa990",
   "metadata": {},
   "outputs": [],
   "source": [
    "# Convert the flattened indices back to 2D indices\n",
    "indices_of_top_5_max_2d = np.unravel_index(indices_of_top_5_max, arr.shape)"
   ]
  },
  {
   "cell_type": "code",
   "execution_count": 38,
   "id": "9544ddad-6284-43e2-8781-81065c3847a8",
   "metadata": {},
   "outputs": [
    {
     "data": {
      "text/plain": [
       "(array([3, 1, 2, 3, 2]), array([2, 4, 1, 4, 2]))"
      ]
     },
     "execution_count": 38,
     "metadata": {},
     "output_type": "execute_result"
    }
   ],
   "source": [
    "indices_of_top_5_max_2d"
   ]
  },
  {
   "cell_type": "code",
   "execution_count": null,
   "id": "c6d1ce68-2671-4e59-a922-e05934f9364b",
   "metadata": {},
   "outputs": [],
   "source": []
  }
 ],
 "metadata": {
  "kernelspec": {
   "display_name": "Python 3 (ipykernel)",
   "language": "python",
   "name": "python3"
  },
  "language_info": {
   "codemirror_mode": {
    "name": "ipython",
    "version": 3
   },
   "file_extension": ".py",
   "mimetype": "text/x-python",
   "name": "python",
   "nbconvert_exporter": "python",
   "pygments_lexer": "ipython3",
   "version": "3.10.8"
  }
 },
 "nbformat": 4,
 "nbformat_minor": 5
}
