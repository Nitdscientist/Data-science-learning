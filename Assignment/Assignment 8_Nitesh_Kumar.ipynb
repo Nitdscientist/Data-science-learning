{
 "cells": [
  {
   "cell_type": "markdown",
   "id": "dff5765f-1f7b-4266-ac9b-176a93d3b455",
   "metadata": {},
   "source": [
    "# Assignment-8 \n",
    "\n",
    "## Inferential Statistics\n",
    "\n",
    "### Name- NITESH KUMAR Batch-4"
   ]
  },
  {
   "cell_type": "markdown",
   "id": "1b2b8310-dd3f-4e2a-809e-2adef4ee77b5",
   "metadata": {},
   "source": [
    "# Q1. What is Probability and Event with its type? Write rules of probability. Also, explain Mutually Exclusive \\and Non-Exclusive Events in Detail with help of Example. "
   ]
  },
  {
   "cell_type": "markdown",
   "id": "3476ffb2-c07a-482c-9a31-5ccb28d5f9b9",
   "metadata": {},
   "source": [
    "### Answer-"
   ]
  },
  {
   "cell_type": "markdown",
   "id": "76e93059-f4ce-4b9d-ae55-659e9b2cafb2",
   "metadata": {},
   "source": [
    "#### probability\n",
    "Probability is a measure of the likelihood that a particular event will occur. It is a numerical value between 0 and 1, where 0 indicates an impossible event and 1 indicates a certain event. \n",
    "\n",
    "#### Events\n",
    "Events are subsets of a sample space, which is the set of all possible outcomes of a random experiment.\n",
    "\n",
    "### Types of Events:\n",
    "\n",
    "#### 1. Simple Event: \n",
    "A simple event is an event that consists of a single outcome. For example, rolling a die and getting a 3 is a simple event.\n",
    "\n",
    "#### 2. Compound Event: \n",
    "A compound event is an event that consists of two or more simple events. For example, rolling a die and getting an even number is a compound event because it can be achieved by getting a 2, 4, or 6.\n",
    "\n",
    "### Rules of Probability:\n",
    "\n",
    "#### 1. Rule of Sum (Addition Rule): \n",
    "If A and B are two mutually exclusive events, then the probability of either A or B occurring is the sum of their individual probabilities. Mathematically, P(A or B) = P(A) + P(B).\n",
    "\n",
    "#### 2. Rule of Product (Multiplication Rule): \n",
    "If A and B are two independent events, then the probability of both A and B occurring is the product of their individual probabilities. Mathematically, P(A and B) = P(A) * P(B).\n",
    "\n",
    "#### 3. Complementary Rule: \n",
    "The probability of the complement of an event A (denoted as A') is equal to one minus the probability of A. Mathematically, P(A') = 1 - P(A).\n",
    "\n",
    "#### 4. Rule of Conditional Probability: \n",
    "The probability of event A occurring given that event B has already occurred is denoted as P(A|B) and can be calculated using the formula: P(A|B) = P(A and B) / P(B), where P(B) is not equal to 0.\n",
    "\n",
    "### Mutually Exclusive Events:\n",
    "Mutually exclusive events are events that cannot occur at the same time. If one event happens, the other event cannot happen simultaneously. For example, when flipping a coin, getting heads and getting tails are mutually exclusive events because you can't get both outcomes at the same time.\n",
    "\n",
    "### Non-Exclusive Events:\n",
    "Non-exclusive events are events that can occur at the same time. If one event happens, it does not prevent the other event from occurring. For example, when rolling a die, getting an even number and getting a number less than 4 are non-exclusive events because you can roll a 2, which satisfies both conditions.\n",
    "\n",
    "mutually exclusive events cannot occur simultaneously, while non-exclusive events can occur at the same time.\n",
    "\n",
    "\n",
    "\n",
    "\n"
   ]
  },
  {
   "cell_type": "code",
   "execution_count": null,
   "id": "a143c939-4267-4db0-be18-a57c85be0bea",
   "metadata": {},
   "outputs": [],
   "source": []
  },
  {
   "cell_type": "markdown",
   "id": "3827504e-088c-4e99-adc1-656f3cc43a09",
   "metadata": {},
   "source": [
    "# Q2. State Bayes Theorem and write it’sapplications. A consulting firm rents car from three agencies such that 50% from agency L, 30% from agency M and 20% from agency N. If 90% of the cars from L, 70% of cars from M and 60% of the cars from N are in good conditions (i) what is the probability that the firm will get a car in good condition? (ii) if a car is in good condition, what is probability that it has come from agency N? "
   ]
  },
  {
   "cell_type": "markdown",
   "id": "25850e5e-fca2-4f06-8628-64e2f4fa3d08",
   "metadata": {},
   "source": [
    "### Answer:-"
   ]
  },
  {
   "cell_type": "markdown",
   "id": "92439d6f-d98f-4ba5-9dbd-3fdf2be84eb2",
   "metadata": {},
   "source": [
    "### Bayes' Theorem\n",
    "Bayes' Theorem is a fundamental principle in probability theory that allows us to update the probability of an event based on new information. It is stated as follows:\n",
    "\n",
    "P(A|B) = (P(B|A) * P(A)) / P(B)\n",
    "\n",
    "##### where:\n",
    "\n",
    "P(A|B) is the conditional probability of event A given event B,\n",
    "\n",
    "P(B|A) is the conditional probability of event B given event A,\n",
    "\n",
    "P(A) is the probability of event A,\n",
    "\n",
    "P(B) is the probability of event B."
   ]
  },
  {
   "cell_type": "markdown",
   "id": "4bb579ee-a56c-4071-9bbe-9cb4990bd253",
   "metadata": {},
   "source": [
    "### Applications of Bayes' Theorem include:\n",
    "\n",
    "#### (a) Medical diagnosis: \n",
    "Bayes' Theorem is used to calculate the probability of a disease given certain symptoms or test results.\n",
    "\n",
    "#### (b) Spam filtering:\n",
    "It is used to classify emails as spam or non-spam based on certain features or keywords.\n",
    "\n",
    "#### (c) Machine learning:\n",
    "Bayes' Theorem is used in Bayesian networks and Bayesian classifiers for probabilistic reasoning and prediction.\n",
    "\n"
   ]
  },
  {
   "cell_type": "markdown",
   "id": "825c21ea-1692-47d0-bf27-7115883cd927",
   "metadata": {},
   "source": [
    "### Numerical Solution:\n",
    "\n",
    "Let's define the events:\n",
    "\n",
    "A: The car is in good condition\n",
    "\n",
    "B: The car is rented from agency N\n",
    "\n",
    "Given information:\n",
    "\n",
    "P(A|L) = 0.9 (90% of cars from agency L are in good condition)\n",
    "\n",
    "P(A|M) = 0.7 (70% of cars from agency M are in good condition)\n",
    "\n",
    "P(A|N) = 0.6 (60% of cars from agency N are in good condition)\n",
    "\n",
    "P(L) = 0.5 (50% of cars are rented from agency L)\n",
    "\n",
    "P(M) = 0.3 (30% of cars are rented from agency M)\n",
    "\n",
    "P(N) = 0.2 (20% of cars are rented from agency N)\n",
    "\n",
    "### We need to calculate:\n",
    "\n",
    "#### (i) P(A) = Probability that the firm will get a car in good condition\n",
    "\n",
    "we can use the law of total probability:\n",
    "\n",
    "P(A) = P(A|L) * P(L) + P(A|M) * P(M) + P(A|N) * P(N)\n",
    "\n",
    "P(A) = (0.9 * 0.5) + (0.7 * 0.3) + (0.6 * 0.2) = 0.45 + 0.21 + 0.12 = 0.78\n",
    "\n",
    "So, the probability that the firm will get a car in good condition is 0.78 or 78%.\n",
    "\n",
    "#### (ii) P(N|A) = Probability that the car came from agency N given that it is in good condition\n",
    "\n",
    "We can use Bayes' Theorem:\n",
    "\n",
    "P(N|A) = (P(A|N) * P(N)) / P(A)\n",
    "\n",
    "P(N|A) = (0.6 * 0.2) / 0.78 = 0.12 / 0.78 ≈ 0.1538\n",
    "\n",
    "So, the probability that the car came from agency N given that it is in good condition is approximately 0.1538 or 15.38%."
   ]
  },
  {
   "cell_type": "markdown",
   "id": "8a29e9e9-61c2-4029-bf73-66e76909e8d8",
   "metadata": {},
   "source": [
    "# Q3. Suppose you have tested positive for a disease; what is the probability that you actually havethe disease if: • P(T=1|D=1) = .95 (true positive) • P(T=1|D=0) = .10 (false positive) • P(D=1) = .01 (prior) Where T= Test and D=Disease. "
   ]
  },
  {
   "cell_type": "markdown",
   "id": "3e096832-1515-4fbb-a3bf-c4a95c995c70",
   "metadata": {},
   "source": [
    "### Answer:-"
   ]
  },
  {
   "cell_type": "markdown",
   "id": "c3b08ebe-8bf2-4883-8a9c-766daf756d91",
   "metadata": {},
   "source": [
    "we can use Bayes' Theorem.\n",
    "\n",
    "#### Let's define the events:\n",
    "\n",
    "D = Having the disease\n",
    "T = Positive test result\n",
    "\n",
    "#### Given information:\n",
    "\n",
    "P(T=1|D=1) = 0.95 (true positive rate, the probability of a positive test given that you have the disease)\n",
    "\n",
    "P(T=1|D=0) = 0.10 (false positive rate, the probability of a positive test given that you do not have the disease)\n",
    "\n",
    "P(D=1) = 0.01 (prior probability, the probability of having the disease)\n",
    "\n",
    "#### We need to calculate:\n",
    "\n",
    "P(D=1|T=1) = Probability of having the disease given a positive test result\n",
    "\n",
    "#### Using Bayes' Theorem:\n",
    "\n",
    "P(D=1|T=1) = (P(T=1|D=1) * P(D=1)) / P(T=1)\n",
    "\n",
    "##### To calculate P(T=1), we can use the law of total probability:\n",
    "\n",
    "P(T=1) = P(T=1|D=1) * P(D=1) + P(T=1|D=0) * P(D=0)\n",
    "\n",
    "Since P(D=0) = 1 - P(D=1)\n",
    "\n",
    "we have:\n",
    "\n",
    "P(T=1) = P(T=1|D=1) * P(D=1) + P(T=1|D=0) * (1 - P(D=1))\n",
    "\n",
    "P(T=1) = (0.95 * 0.01) + (0.10 * (1 - 0.01)) = 0.0095 + 0.099 = 0.1085\n",
    "\n",
    "\n",
    "P(D=1|T=1) = (P(T=1|D=1) * P(D=1)) / P(T=1)\n",
    "\n",
    "P(D=1|T=1) = (0.95 * 0.01) / 0.1085 ≈ 0.0085 / 0.1085 ≈ 0.0784\n",
    "\n",
    "Therefore, the probability that you actually have the disease given a positive test result is approximately 0.0784 or 7.84%.\n",
    "\n",
    "\n",
    "\n",
    "\n",
    "\n"
   ]
  },
  {
   "cell_type": "code",
   "execution_count": null,
   "id": "d80b68d0-303c-4f86-a30f-e4025c8807a3",
   "metadata": {},
   "outputs": [],
   "source": []
  },
  {
   "cell_type": "markdown",
   "id": "a2e1e5b5-8b1c-4e06-9c1d-fc445a696485",
   "metadata": {},
   "source": [
    "# Q4. Give a Brief on Probability Distribution Functions and it’sType."
   ]
  },
  {
   "cell_type": "markdown",
   "id": "869f8c50-2267-475a-a3dc-16baa94c2f0b",
   "metadata": {},
   "source": [
    "### Answer:-"
   ]
  },
  {
   "cell_type": "markdown",
   "id": "77f02c18-a219-4b2d-8eca-3f7f1282398a",
   "metadata": {},
   "source": [
    "A Probability Distribution Function (PDF), also known as a probability density function, describes the probability distribution of a random variable. It assigns probabilities to different outcomes or values of the random variable. The PDF represents the relative likelihood of each possible outcome.\n",
    "\n",
    "### Types of Probability Distribution Functions:\n",
    "\n",
    "#### 1. Discrete Probability Distribution:\n",
    "Discrete PDFs are used when the random variable takes on a finite or countable number of distinct values. Each value has an associated probability. Examples of discrete probability distributions include the Bernoulli distribution, Binomial distribution, Poisson distribution, and Geometric distribution.\n",
    "\n",
    "#### 2. Continuous Probability Distribution: \n",
    "Continuous PDFs are used when the random variable can take on any value within a range or interval. The PDF represents the probability density, meaning that the probability of a specific value is zero. Examples of continuous probability distributions include the Normal distribution, Exponential distribution, Uniform distribution, and Beta distribution.\n",
    "\n",
    "#### 3. Mixed Probability Distribution: \n",
    "Mixed PDFs combine elements of both discrete and continuous probability distributions. They are used when the random variable can take on both discrete and continuous values. For example, a mixed PDF could represent a variable that has a continuous distribution within a certain range but discrete probabilities at specific points outside that range.\n",
    "\n",
    "Probability distribution functions are fundamental in statistics and probability theory. They provide a mathematical representation of the likelihood of different outcomes, which enables us to calculate probabilities, make predictions, and analyze data in various fields such as finance, physics, engineering, and social sciences. These functions serve as valuable tools for understanding and modeling random phenomena."
   ]
  },
  {
   "cell_type": "code",
   "execution_count": null,
   "id": "1e51ac45-f8ff-43dd-95ad-8746f78dd906",
   "metadata": {},
   "outputs": [],
   "source": []
  },
  {
   "cell_type": "code",
   "execution_count": null,
   "id": "adf921cb-bbcb-4bf4-a29e-484342d31c41",
   "metadata": {},
   "outputs": [],
   "source": []
  }
 ],
 "metadata": {
  "kernelspec": {
   "display_name": "Python 3 (ipykernel)",
   "language": "python",
   "name": "python3"
  },
  "language_info": {
   "codemirror_mode": {
    "name": "ipython",
    "version": 3
   },
   "file_extension": ".py",
   "mimetype": "text/x-python",
   "name": "python",
   "nbconvert_exporter": "python",
   "pygments_lexer": "ipython3",
   "version": "3.10.8"
  }
 },
 "nbformat": 4,
 "nbformat_minor": 5
}
