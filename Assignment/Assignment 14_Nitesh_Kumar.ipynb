{
 "cells": [
  {
   "cell_type": "markdown",
   "id": "44180f49-c7af-42e8-9feb-95653b169f28",
   "metadata": {},
   "source": [
    "# Assignment-14 \n",
    "\n",
    "## Dimensionality Reduction\n",
    "\n",
    "### Name- NITESH KUMAR Batch-4"
   ]
  },
  {
   "cell_type": "code",
   "execution_count": null,
   "id": "5fab2507-efcb-4312-a536-de3ed900bac2",
   "metadata": {},
   "outputs": [],
   "source": []
  },
  {
   "cell_type": "markdown",
   "id": "b8c611b1-f072-4909-b00c-c471df227666",
   "metadata": {},
   "source": [
    "# Q1. Write Steps Involved in PCA."
   ]
  },
  {
   "cell_type": "markdown",
   "id": "3e57274e-1a10-43be-bf6c-ae19b49cab3c",
   "metadata": {},
   "source": [
    "### Answer:-"
   ]
  },
  {
   "cell_type": "markdown",
   "id": "72542571-7c07-4093-8b56-45e7e77f4cc0",
   "metadata": {},
   "source": [
    "### step 1. Data Preprocessing:\n",
    "\n",
    "In PCA, we start with a dataset that typically has multiple features or variables. It's essential to ensure that our data is properly prepared:\n",
    "\n",
    "1. Ensure our data is in a numeric format, as PCA works with numeric data.\n",
    "2. Handle missing values, if any, through imputation or removal.\n",
    "3. Address outliers if they exist, as they can distort the results.\n",
    "4. Standardize or normalize the data: \n",
    "PCA is sensitive to the scale of the variables, so you should scale the data to have a mean of 0 and a standard deviation of 1. This step ensures that all variables are on the same scale and prevents any one variable from dominating the PCA process.\n",
    "\n",
    "### step 2. Compute the Covariance Matrix:\n",
    "\n",
    "1. Once the data is preprocessed and standardized, we calculate the covariance matrix. The covariance matrix is a square matrix that represents the relationships between each pair of variables.\n",
    "\n",
    "2. The element in the (x, y) position of the covariance matrix indicates how variable x and variable y covary. It's calculated as the average of the product of the deviations of the two variables from their respective means.\n",
    "\n",
    "### step 3. Eigendecomposition of the Covariance Matrix:\n",
    "\n",
    "Eigendecomposition is the process of breaking down the covariance matrix into its constituent parts:\n",
    "\n",
    "1. Eigenvalues: These represent the magnitude of variance in the data along the corresponding eigenvectors' directions. Eigenvalues are non-negative, and they are sorted in descending order.\n",
    "\n",
    "2. Eigenvectors: These are the directions in the original feature space along which the data varies the most. Each eigenvector corresponds to a specific eigenvalue.\n",
    "\n",
    "### step 4. Select Principal Components:\n",
    "\n",
    "1. To decide how many principal components to retain, we often use the concept of explained variance. Our aim to keep enough principal components to capture a significant portion of the total variance in the data. For example, we might aim to retain enough components to explain 95% of the total variance.\n",
    "\n",
    "2. Calculate the explained variance for each eigenvalue by dividing it by the sum of all eigenvalues. Then, we sum the explained variances starting from the largest eigenvalue and stop when the cumulative explained variance reaches our desired threshold (e.g. 95%).\n",
    "\n",
    "### step 5. Projection onto the Principal Components:\n",
    "\n",
    "1. After selecting the top K eigenvectors (principal components) based on the explained variance, we construct a projection matrix by stacking these eigenvectors as columns.\n",
    "\n",
    "2. We then project the original data onto the selected principal components using this projection matrix. The result is a reduced-dimensional representation of our data.\n",
    "\n",
    "### step 6. Interpretation:\n",
    "\n",
    "1. Each principal component is a linear combination of the original features. We can interpret them to understand the patterns or relationships they capture in the data.\n",
    "\n",
    "2. PCA is often used for dimensionality reduction, but it can also be a tool for feature engineering and data compression.\n",
    "\n",
    "### step 7. Reconstruction (Optional):\n",
    "\n",
    "If necessary, we can reconstruct the data back into the original feature space by multiplying the reduced-dimensional data by the transpose of the projection matrix. However, some information may be lost during dimensionality reduction, so the reconstructed data may not be identical to the original data.\n",
    "\n",
    "### step 8. Modeling or Analysis:\n",
    "\n",
    "We can use the reduced-dimensional data for various purposes, such as machine learning modeling, clustering, or visualization. The reduced-dimensional data can simplify subsequent analyses and reduce computational complexity.\n",
    "\n",
    "### step 9. Validation and Evaluation:\n",
    "\n",
    "Finally, it's crucial to evaluate the effectiveness of PCA in our specific application. We can do this by assessing the performance of our downstream tasks or analyses using the reduced-dimensional data."
   ]
  },
  {
   "cell_type": "code",
   "execution_count": null,
   "id": "f514f682-7aa8-4f96-9924-be78ef228ab5",
   "metadata": {},
   "outputs": [],
   "source": []
  },
  {
   "cell_type": "markdown",
   "id": "8d777a6b-c56e-4211-8c43-e0cb033e52fc",
   "metadata": {},
   "source": [
    "# Q2. Perform dimensionality reduction using PCA on the US Arrests dataset (enclosed herewith). What variance can be explained by PC1 & PC2?"
   ]
  },
  {
   "cell_type": "markdown",
   "id": "f1812914-d36d-4888-aed6-59c326e6b834",
   "metadata": {},
   "source": [
    "### Answer:-"
   ]
  },
  {
   "cell_type": "code",
   "execution_count": 1,
   "id": "df0283b9-5660-4be1-85cd-7c0f7fdd75e5",
   "metadata": {},
   "outputs": [],
   "source": [
    "import pandas as pd"
   ]
  },
  {
   "cell_type": "code",
   "execution_count": 2,
   "id": "097924cf-4036-4a03-adf0-2a5ee62baa3f",
   "metadata": {},
   "outputs": [],
   "source": [
    "df=pd.read_csv(\"USArrests.csv\")"
   ]
  },
  {
   "cell_type": "code",
   "execution_count": 4,
   "id": "31d6abec-e5ae-4607-9443-13012a73965a",
   "metadata": {},
   "outputs": [
    {
     "data": {
      "text/html": [
       "<div>\n",
       "<style scoped>\n",
       "    .dataframe tbody tr th:only-of-type {\n",
       "        vertical-align: middle;\n",
       "    }\n",
       "\n",
       "    .dataframe tbody tr th {\n",
       "        vertical-align: top;\n",
       "    }\n",
       "\n",
       "    .dataframe thead th {\n",
       "        text-align: right;\n",
       "    }\n",
       "</style>\n",
       "<table border=\"1\" class=\"dataframe\">\n",
       "  <thead>\n",
       "    <tr style=\"text-align: right;\">\n",
       "      <th></th>\n",
       "      <th>Unnamed: 0</th>\n",
       "      <th>Murder</th>\n",
       "      <th>Assault</th>\n",
       "      <th>UrbanPop</th>\n",
       "      <th>Rape</th>\n",
       "    </tr>\n",
       "  </thead>\n",
       "  <tbody>\n",
       "    <tr>\n",
       "      <th>0</th>\n",
       "      <td>Alabama</td>\n",
       "      <td>13.2</td>\n",
       "      <td>236</td>\n",
       "      <td>58</td>\n",
       "      <td>21.2</td>\n",
       "    </tr>\n",
       "    <tr>\n",
       "      <th>1</th>\n",
       "      <td>Alaska</td>\n",
       "      <td>10.0</td>\n",
       "      <td>263</td>\n",
       "      <td>48</td>\n",
       "      <td>44.5</td>\n",
       "    </tr>\n",
       "    <tr>\n",
       "      <th>2</th>\n",
       "      <td>Arizona</td>\n",
       "      <td>8.1</td>\n",
       "      <td>294</td>\n",
       "      <td>80</td>\n",
       "      <td>31.0</td>\n",
       "    </tr>\n",
       "    <tr>\n",
       "      <th>3</th>\n",
       "      <td>Arkansas</td>\n",
       "      <td>8.8</td>\n",
       "      <td>190</td>\n",
       "      <td>50</td>\n",
       "      <td>19.5</td>\n",
       "    </tr>\n",
       "    <tr>\n",
       "      <th>4</th>\n",
       "      <td>California</td>\n",
       "      <td>9.0</td>\n",
       "      <td>276</td>\n",
       "      <td>91</td>\n",
       "      <td>40.6</td>\n",
       "    </tr>\n",
       "  </tbody>\n",
       "</table>\n",
       "</div>"
      ],
      "text/plain": [
       "   Unnamed: 0  Murder  Assault  UrbanPop  Rape\n",
       "0     Alabama    13.2      236        58  21.2\n",
       "1      Alaska    10.0      263        48  44.5\n",
       "2     Arizona     8.1      294        80  31.0\n",
       "3    Arkansas     8.8      190        50  19.5\n",
       "4  California     9.0      276        91  40.6"
      ]
     },
     "execution_count": 4,
     "metadata": {},
     "output_type": "execute_result"
    }
   ],
   "source": [
    "df.head()"
   ]
  },
  {
   "cell_type": "code",
   "execution_count": 8,
   "id": "07e9af47-4988-427d-802d-22bf0f7fa743",
   "metadata": {},
   "outputs": [],
   "source": [
    "df.rename(columns={\"Unnamed: 0\":\"US_region\"},inplace=True)"
   ]
  },
  {
   "cell_type": "code",
   "execution_count": 9,
   "id": "ae93e8aa-f615-4742-8f51-3fc0211dee7f",
   "metadata": {},
   "outputs": [
    {
     "data": {
      "text/html": [
       "<div>\n",
       "<style scoped>\n",
       "    .dataframe tbody tr th:only-of-type {\n",
       "        vertical-align: middle;\n",
       "    }\n",
       "\n",
       "    .dataframe tbody tr th {\n",
       "        vertical-align: top;\n",
       "    }\n",
       "\n",
       "    .dataframe thead th {\n",
       "        text-align: right;\n",
       "    }\n",
       "</style>\n",
       "<table border=\"1\" class=\"dataframe\">\n",
       "  <thead>\n",
       "    <tr style=\"text-align: right;\">\n",
       "      <th></th>\n",
       "      <th>US_region</th>\n",
       "      <th>Murder</th>\n",
       "      <th>Assault</th>\n",
       "      <th>UrbanPop</th>\n",
       "      <th>Rape</th>\n",
       "    </tr>\n",
       "  </thead>\n",
       "  <tbody>\n",
       "    <tr>\n",
       "      <th>0</th>\n",
       "      <td>Alabama</td>\n",
       "      <td>13.2</td>\n",
       "      <td>236</td>\n",
       "      <td>58</td>\n",
       "      <td>21.2</td>\n",
       "    </tr>\n",
       "    <tr>\n",
       "      <th>1</th>\n",
       "      <td>Alaska</td>\n",
       "      <td>10.0</td>\n",
       "      <td>263</td>\n",
       "      <td>48</td>\n",
       "      <td>44.5</td>\n",
       "    </tr>\n",
       "    <tr>\n",
       "      <th>2</th>\n",
       "      <td>Arizona</td>\n",
       "      <td>8.1</td>\n",
       "      <td>294</td>\n",
       "      <td>80</td>\n",
       "      <td>31.0</td>\n",
       "    </tr>\n",
       "  </tbody>\n",
       "</table>\n",
       "</div>"
      ],
      "text/plain": [
       "  US_region  Murder  Assault  UrbanPop  Rape\n",
       "0   Alabama    13.2      236        58  21.2\n",
       "1    Alaska    10.0      263        48  44.5\n",
       "2   Arizona     8.1      294        80  31.0"
      ]
     },
     "execution_count": 9,
     "metadata": {},
     "output_type": "execute_result"
    }
   ],
   "source": [
    "df.head(3)"
   ]
  },
  {
   "cell_type": "code",
   "execution_count": 11,
   "id": "8ea5a3ac-0183-4349-82b9-540d8e775738",
   "metadata": {},
   "outputs": [
    {
     "data": {
      "text/plain": [
       "US_region    0\n",
       "Murder       0\n",
       "Assault      0\n",
       "UrbanPop     0\n",
       "Rape         0\n",
       "dtype: int64"
      ]
     },
     "execution_count": 11,
     "metadata": {},
     "output_type": "execute_result"
    }
   ],
   "source": [
    "df.isnull().sum()"
   ]
  },
  {
   "cell_type": "code",
   "execution_count": 12,
   "id": "922d77b4-7a55-41a5-98b2-c532ab7cdae9",
   "metadata": {},
   "outputs": [
    {
     "data": {
      "text/plain": [
       "False"
      ]
     },
     "execution_count": 12,
     "metadata": {},
     "output_type": "execute_result"
    }
   ],
   "source": [
    "df.duplicated().any()"
   ]
  },
  {
   "cell_type": "code",
   "execution_count": 13,
   "id": "bbfe52de-323f-4479-bdbf-df14470a302f",
   "metadata": {},
   "outputs": [
    {
     "name": "stdout",
     "output_type": "stream",
     "text": [
      "<class 'pandas.core.frame.DataFrame'>\n",
      "RangeIndex: 50 entries, 0 to 49\n",
      "Data columns (total 5 columns):\n",
      " #   Column     Non-Null Count  Dtype  \n",
      "---  ------     --------------  -----  \n",
      " 0   US_region  50 non-null     object \n",
      " 1   Murder     50 non-null     float64\n",
      " 2   Assault    50 non-null     int64  \n",
      " 3   UrbanPop   50 non-null     int64  \n",
      " 4   Rape       50 non-null     float64\n",
      "dtypes: float64(2), int64(2), object(1)\n",
      "memory usage: 2.1+ KB\n"
     ]
    }
   ],
   "source": [
    "df.info()"
   ]
  },
  {
   "cell_type": "code",
   "execution_count": 15,
   "id": "7de61ac6-888f-484f-bf9b-5bd69eb884a8",
   "metadata": {},
   "outputs": [
    {
     "data": {
      "text/html": [
       "<div>\n",
       "<style scoped>\n",
       "    .dataframe tbody tr th:only-of-type {\n",
       "        vertical-align: middle;\n",
       "    }\n",
       "\n",
       "    .dataframe tbody tr th {\n",
       "        vertical-align: top;\n",
       "    }\n",
       "\n",
       "    .dataframe thead th {\n",
       "        text-align: right;\n",
       "    }\n",
       "</style>\n",
       "<table border=\"1\" class=\"dataframe\">\n",
       "  <thead>\n",
       "    <tr style=\"text-align: right;\">\n",
       "      <th></th>\n",
       "      <th>US_region</th>\n",
       "      <th>Murder</th>\n",
       "      <th>Assault</th>\n",
       "      <th>UrbanPop</th>\n",
       "      <th>Rape</th>\n",
       "    </tr>\n",
       "  </thead>\n",
       "  <tbody>\n",
       "    <tr>\n",
       "      <th>count</th>\n",
       "      <td>50</td>\n",
       "      <td>50.00000</td>\n",
       "      <td>50.000000</td>\n",
       "      <td>50.000000</td>\n",
       "      <td>50.000000</td>\n",
       "    </tr>\n",
       "    <tr>\n",
       "      <th>unique</th>\n",
       "      <td>50</td>\n",
       "      <td>NaN</td>\n",
       "      <td>NaN</td>\n",
       "      <td>NaN</td>\n",
       "      <td>NaN</td>\n",
       "    </tr>\n",
       "    <tr>\n",
       "      <th>top</th>\n",
       "      <td>Alabama</td>\n",
       "      <td>NaN</td>\n",
       "      <td>NaN</td>\n",
       "      <td>NaN</td>\n",
       "      <td>NaN</td>\n",
       "    </tr>\n",
       "    <tr>\n",
       "      <th>freq</th>\n",
       "      <td>1</td>\n",
       "      <td>NaN</td>\n",
       "      <td>NaN</td>\n",
       "      <td>NaN</td>\n",
       "      <td>NaN</td>\n",
       "    </tr>\n",
       "    <tr>\n",
       "      <th>mean</th>\n",
       "      <td>NaN</td>\n",
       "      <td>7.78800</td>\n",
       "      <td>170.760000</td>\n",
       "      <td>65.540000</td>\n",
       "      <td>21.232000</td>\n",
       "    </tr>\n",
       "    <tr>\n",
       "      <th>std</th>\n",
       "      <td>NaN</td>\n",
       "      <td>4.35551</td>\n",
       "      <td>83.337661</td>\n",
       "      <td>14.474763</td>\n",
       "      <td>9.366385</td>\n",
       "    </tr>\n",
       "    <tr>\n",
       "      <th>min</th>\n",
       "      <td>NaN</td>\n",
       "      <td>0.80000</td>\n",
       "      <td>45.000000</td>\n",
       "      <td>32.000000</td>\n",
       "      <td>7.300000</td>\n",
       "    </tr>\n",
       "    <tr>\n",
       "      <th>25%</th>\n",
       "      <td>NaN</td>\n",
       "      <td>4.07500</td>\n",
       "      <td>109.000000</td>\n",
       "      <td>54.500000</td>\n",
       "      <td>15.075000</td>\n",
       "    </tr>\n",
       "    <tr>\n",
       "      <th>50%</th>\n",
       "      <td>NaN</td>\n",
       "      <td>7.25000</td>\n",
       "      <td>159.000000</td>\n",
       "      <td>66.000000</td>\n",
       "      <td>20.100000</td>\n",
       "    </tr>\n",
       "    <tr>\n",
       "      <th>75%</th>\n",
       "      <td>NaN</td>\n",
       "      <td>11.25000</td>\n",
       "      <td>249.000000</td>\n",
       "      <td>77.750000</td>\n",
       "      <td>26.175000</td>\n",
       "    </tr>\n",
       "    <tr>\n",
       "      <th>max</th>\n",
       "      <td>NaN</td>\n",
       "      <td>17.40000</td>\n",
       "      <td>337.000000</td>\n",
       "      <td>91.000000</td>\n",
       "      <td>46.000000</td>\n",
       "    </tr>\n",
       "  </tbody>\n",
       "</table>\n",
       "</div>"
      ],
      "text/plain": [
       "       US_region    Murder     Assault   UrbanPop       Rape\n",
       "count         50  50.00000   50.000000  50.000000  50.000000\n",
       "unique        50       NaN         NaN        NaN        NaN\n",
       "top      Alabama       NaN         NaN        NaN        NaN\n",
       "freq           1       NaN         NaN        NaN        NaN\n",
       "mean         NaN   7.78800  170.760000  65.540000  21.232000\n",
       "std          NaN   4.35551   83.337661  14.474763   9.366385\n",
       "min          NaN   0.80000   45.000000  32.000000   7.300000\n",
       "25%          NaN   4.07500  109.000000  54.500000  15.075000\n",
       "50%          NaN   7.25000  159.000000  66.000000  20.100000\n",
       "75%          NaN  11.25000  249.000000  77.750000  26.175000\n",
       "max          NaN  17.40000  337.000000  91.000000  46.000000"
      ]
     },
     "execution_count": 15,
     "metadata": {},
     "output_type": "execute_result"
    }
   ],
   "source": [
    "df.describe(include=\"all\")"
   ]
  },
  {
   "cell_type": "code",
   "execution_count": 17,
   "id": "95cf5cc5-03de-4fc0-a266-3fd818200a3e",
   "metadata": {},
   "outputs": [
    {
     "name": "stderr",
     "output_type": "stream",
     "text": [
      "/tmp/ipykernel_130/1134722465.py:1: FutureWarning: The default value of numeric_only in DataFrame.corr is deprecated. In a future version, it will default to False. Select only valid columns or specify the value of numeric_only to silence this warning.\n",
      "  df.corr()\n"
     ]
    },
    {
     "data": {
      "text/html": [
       "<div>\n",
       "<style scoped>\n",
       "    .dataframe tbody tr th:only-of-type {\n",
       "        vertical-align: middle;\n",
       "    }\n",
       "\n",
       "    .dataframe tbody tr th {\n",
       "        vertical-align: top;\n",
       "    }\n",
       "\n",
       "    .dataframe thead th {\n",
       "        text-align: right;\n",
       "    }\n",
       "</style>\n",
       "<table border=\"1\" class=\"dataframe\">\n",
       "  <thead>\n",
       "    <tr style=\"text-align: right;\">\n",
       "      <th></th>\n",
       "      <th>Murder</th>\n",
       "      <th>Assault</th>\n",
       "      <th>UrbanPop</th>\n",
       "      <th>Rape</th>\n",
       "    </tr>\n",
       "  </thead>\n",
       "  <tbody>\n",
       "    <tr>\n",
       "      <th>Murder</th>\n",
       "      <td>1.000000</td>\n",
       "      <td>0.801873</td>\n",
       "      <td>0.069573</td>\n",
       "      <td>0.563579</td>\n",
       "    </tr>\n",
       "    <tr>\n",
       "      <th>Assault</th>\n",
       "      <td>0.801873</td>\n",
       "      <td>1.000000</td>\n",
       "      <td>0.258872</td>\n",
       "      <td>0.665241</td>\n",
       "    </tr>\n",
       "    <tr>\n",
       "      <th>UrbanPop</th>\n",
       "      <td>0.069573</td>\n",
       "      <td>0.258872</td>\n",
       "      <td>1.000000</td>\n",
       "      <td>0.411341</td>\n",
       "    </tr>\n",
       "    <tr>\n",
       "      <th>Rape</th>\n",
       "      <td>0.563579</td>\n",
       "      <td>0.665241</td>\n",
       "      <td>0.411341</td>\n",
       "      <td>1.000000</td>\n",
       "    </tr>\n",
       "  </tbody>\n",
       "</table>\n",
       "</div>"
      ],
      "text/plain": [
       "            Murder   Assault  UrbanPop      Rape\n",
       "Murder    1.000000  0.801873  0.069573  0.563579\n",
       "Assault   0.801873  1.000000  0.258872  0.665241\n",
       "UrbanPop  0.069573  0.258872  1.000000  0.411341\n",
       "Rape      0.563579  0.665241  0.411341  1.000000"
      ]
     },
     "execution_count": 17,
     "metadata": {},
     "output_type": "execute_result"
    }
   ],
   "source": [
    "df.corr()"
   ]
  },
  {
   "cell_type": "code",
   "execution_count": 20,
   "id": "6e9616fb-35a8-4d96-a148-1bb9b5a3d681",
   "metadata": {},
   "outputs": [],
   "source": [
    "import seaborn as sns\n",
    "import matplotlib.pyplot as plt"
   ]
  },
  {
   "cell_type": "code",
   "execution_count": 21,
   "id": "bde596d5-b678-4cb6-ae17-1f901f2f3426",
   "metadata": {},
   "outputs": [
    {
     "name": "stderr",
     "output_type": "stream",
     "text": [
      "/tmp/ipykernel_130/2271070662.py:1: FutureWarning: The default value of numeric_only in DataFrame.corr is deprecated. In a future version, it will default to False. Select only valid columns or specify the value of numeric_only to silence this warning.\n",
      "  sns.heatmap(df.corr(),annot=True)\n"
     ]
    },
    {
     "data": {
      "image/png": "[encoded data removed]",
      "text/plain": [
       "<Figure size 640x480 with 2 Axes>"
      ]
     },
     "metadata": {},
     "output_type": "display_data"
    }
   ],
   "source": [
    "sns.heatmap(df.corr(),annot=True)\n",
    "plt.show()"
   ]
  },
  {
   "cell_type": "markdown",
   "id": "4e8ce782-8d46-487d-a76b-75b3f811691d",
   "metadata": {},
   "source": [
    "#### Data preprocessing"
   ]
  },
  {
   "cell_type": "code",
   "execution_count": 23,
   "id": "a555d139-f7aa-42ce-8b9d-c3aba1216dd4",
   "metadata": {},
   "outputs": [
    {
     "data": {
      "text/html": [
       "<div>\n",
       "<style scoped>\n",
       "    .dataframe tbody tr th:only-of-type {\n",
       "        vertical-align: middle;\n",
       "    }\n",
       "\n",
       "    .dataframe tbody tr th {\n",
       "        vertical-align: top;\n",
       "    }\n",
       "\n",
       "    .dataframe thead th {\n",
       "        text-align: right;\n",
       "    }\n",
       "</style>\n",
       "<table border=\"1\" class=\"dataframe\">\n",
       "  <thead>\n",
       "    <tr style=\"text-align: right;\">\n",
       "      <th></th>\n",
       "      <th>US_region</th>\n",
       "      <th>Murder</th>\n",
       "      <th>Assault</th>\n",
       "      <th>UrbanPop</th>\n",
       "      <th>Rape</th>\n",
       "    </tr>\n",
       "  </thead>\n",
       "  <tbody>\n",
       "    <tr>\n",
       "      <th>0</th>\n",
       "      <td>Alabama</td>\n",
       "      <td>13.2</td>\n",
       "      <td>236</td>\n",
       "      <td>58</td>\n",
       "      <td>21.2</td>\n",
       "    </tr>\n",
       "    <tr>\n",
       "      <th>1</th>\n",
       "      <td>Alaska</td>\n",
       "      <td>10.0</td>\n",
       "      <td>263</td>\n",
       "      <td>48</td>\n",
       "      <td>44.5</td>\n",
       "    </tr>\n",
       "    <tr>\n",
       "      <th>2</th>\n",
       "      <td>Arizona</td>\n",
       "      <td>8.1</td>\n",
       "      <td>294</td>\n",
       "      <td>80</td>\n",
       "      <td>31.0</td>\n",
       "    </tr>\n",
       "    <tr>\n",
       "      <th>3</th>\n",
       "      <td>Arkansas</td>\n",
       "      <td>8.8</td>\n",
       "      <td>190</td>\n",
       "      <td>50</td>\n",
       "      <td>19.5</td>\n",
       "    </tr>\n",
       "    <tr>\n",
       "      <th>4</th>\n",
       "      <td>California</td>\n",
       "      <td>9.0</td>\n",
       "      <td>276</td>\n",
       "      <td>91</td>\n",
       "      <td>40.6</td>\n",
       "    </tr>\n",
       "  </tbody>\n",
       "</table>\n",
       "</div>"
      ],
      "text/plain": [
       "    US_region  Murder  Assault  UrbanPop  Rape\n",
       "0     Alabama    13.2      236        58  21.2\n",
       "1      Alaska    10.0      263        48  44.5\n",
       "2     Arizona     8.1      294        80  31.0\n",
       "3    Arkansas     8.8      190        50  19.5\n",
       "4  California     9.0      276        91  40.6"
      ]
     },
     "execution_count": 23,
     "metadata": {},
     "output_type": "execute_result"
    }
   ],
   "source": [
    "df.head()"
   ]
  },
  {
   "cell_type": "code",
   "execution_count": 24,
   "id": "9991e47c-b0e2-4989-bb16-9a333b220e74",
   "metadata": {},
   "outputs": [],
   "source": [
    "# define dependent and independent features\n",
    "X=df.drop(\"US_region\",axis=1)"
   ]
  },
  {
   "cell_type": "code",
   "execution_count": 26,
   "id": "87c57e82-6626-4b47-ad2f-e1d0a8bfba11",
   "metadata": {},
   "outputs": [
    {
     "data": {
      "text/html": [
       "<div>\n",
       "<style scoped>\n",
       "    .dataframe tbody tr th:only-of-type {\n",
       "        vertical-align: middle;\n",
       "    }\n",
       "\n",
       "    .dataframe tbody tr th {\n",
       "        vertical-align: top;\n",
       "    }\n",
       "\n",
       "    .dataframe thead th {\n",
       "        text-align: right;\n",
       "    }\n",
       "</style>\n",
       "<table border=\"1\" class=\"dataframe\">\n",
       "  <thead>\n",
       "    <tr style=\"text-align: right;\">\n",
       "      <th></th>\n",
       "      <th>Murder</th>\n",
       "      <th>Assault</th>\n",
       "      <th>UrbanPop</th>\n",
       "      <th>Rape</th>\n",
       "    </tr>\n",
       "  </thead>\n",
       "  <tbody>\n",
       "    <tr>\n",
       "      <th>0</th>\n",
       "      <td>13.2</td>\n",
       "      <td>236</td>\n",
       "      <td>58</td>\n",
       "      <td>21.2</td>\n",
       "    </tr>\n",
       "    <tr>\n",
       "      <th>1</th>\n",
       "      <td>10.0</td>\n",
       "      <td>263</td>\n",
       "      <td>48</td>\n",
       "      <td>44.5</td>\n",
       "    </tr>\n",
       "  </tbody>\n",
       "</table>\n",
       "</div>"
      ],
      "text/plain": [
       "   Murder  Assault  UrbanPop  Rape\n",
       "0    13.2      236        58  21.2\n",
       "1    10.0      263        48  44.5"
      ]
     },
     "execution_count": 26,
     "metadata": {},
     "output_type": "execute_result"
    }
   ],
   "source": [
    "X.head(2)"
   ]
  },
  {
   "cell_type": "code",
   "execution_count": 27,
   "id": "bf1c609e-3589-4cd0-a3c6-4566390279a5",
   "metadata": {},
   "outputs": [],
   "source": [
    "from sklearn.preprocessing import StandardScaler"
   ]
  },
  {
   "cell_type": "code",
   "execution_count": 28,
   "id": "1a736d3d-627d-44d3-ab04-3c1f7f9bdcf2",
   "metadata": {},
   "outputs": [],
   "source": [
    "scaler=StandardScaler()"
   ]
  },
  {
   "cell_type": "code",
   "execution_count": 29,
   "id": "efb95e47-7091-4533-9737-c6466e62431d",
   "metadata": {},
   "outputs": [],
   "source": [
    "X_scaled=scaler.fit_transform(X)"
   ]
  },
  {
   "cell_type": "code",
   "execution_count": 33,
   "id": "9dbe0dc7-7124-47e3-af0f-ec7ba58b316b",
   "metadata": {},
   "outputs": [
    {
     "data": {
      "text/plain": [
       "array([[ 1.25517927,  0.79078716, -0.52619514, -0.00345116],\n",
       "       [ 0.51301858,  1.11805959, -1.22406668,  2.50942392],\n",
       "       [ 0.07236067,  1.49381682,  1.00912225,  1.05346626],\n",
       "       [ 0.23470832,  0.23321191, -1.08449238, -0.18679398],\n",
       "       [ 0.28109336,  1.2756352 ,  1.77678094,  2.08881393],\n",
       "       [ 0.02597562,  0.40290872,  0.86954794,  1.88390137],\n",
       "       [-1.04088037, -0.73648418,  0.79976079, -1.09272319],\n",
       "       [-0.43787481,  0.81502956,  0.45082502, -0.58583422],\n",
       "       [ 1.76541475,  1.99078607,  1.00912225,  1.1505301 ],\n",
       "       [ 2.22926518,  0.48775713, -0.38662083,  0.49265293],\n",
       "       [-0.57702994, -1.51224105,  1.21848371, -0.11129987],\n",
       "       [-1.20322802, -0.61527217, -0.80534376, -0.75839217],\n",
       "       [ 0.60578867,  0.94836277,  1.21848371,  0.29852525],\n",
       "       [-0.13637203, -0.70012057, -0.03768506, -0.0250209 ],\n",
       "       [-1.29599811, -1.39102904, -0.5959823 , -1.07115345],\n",
       "       [-0.41468229, -0.67587817,  0.03210209, -0.34856705],\n",
       "       [ 0.44344101, -0.74860538, -0.94491807, -0.53190987],\n",
       "       [ 1.76541475,  0.94836277,  0.03210209,  0.10439756],\n",
       "       [-1.31919063, -1.06375661, -1.01470522, -1.44862395],\n",
       "       [ 0.81452136,  1.56654403,  0.10188925,  0.70835037],\n",
       "       [-0.78576263, -0.26375734,  1.35805802, -0.53190987],\n",
       "       [ 1.00006153,  1.02108998,  0.59039932,  1.49564599],\n",
       "       [-1.1800355 , -1.19708982,  0.03210209, -0.68289807],\n",
       "       [ 1.9277624 ,  1.06957478, -1.5032153 , -0.44563089],\n",
       "       [ 0.28109336,  0.0877575 ,  0.31125071,  0.75148985],\n",
       "       [-0.41468229, -0.74860538, -0.87513091, -0.521125  ],\n",
       "       [-0.80895515, -0.83345379, -0.24704653, -0.51034012],\n",
       "       [ 1.02325405,  0.98472638,  1.0789094 ,  2.671197  ],\n",
       "       [-1.31919063, -1.37890783, -0.66576945, -1.26528114],\n",
       "       [-0.08998698, -0.14254532,  1.63720664, -0.26228808],\n",
       "       [ 0.83771388,  1.38472601,  0.31125071,  1.17209984],\n",
       "       [ 0.76813632,  1.00896878,  1.42784517,  0.52500755],\n",
       "       [ 1.20879423,  2.01502847, -1.43342815, -0.55347961],\n",
       "       [-1.62069341, -1.52436225, -1.5032153 , -1.50254831],\n",
       "       [-0.11317951, -0.61527217,  0.66018648,  0.01811858],\n",
       "       [-0.27552716, -0.23951493,  0.1716764 , -0.13286962],\n",
       "       [-0.66980002, -0.14254532,  0.10188925,  0.87012344],\n",
       "       [-0.34510472, -0.78496898,  0.45082502, -0.68289807],\n",
       "       [-1.01768785,  0.03927269,  1.49763233, -1.39469959],\n",
       "       [ 1.53348953,  1.3119988 , -1.22406668,  0.13675217],\n",
       "       [-0.92491776, -1.027393  , -1.43342815, -0.90938037],\n",
       "       [ 1.25517927,  0.20896951, -0.45640799,  0.61128652],\n",
       "       [ 1.13921666,  0.36654512,  1.00912225,  0.46029832],\n",
       "       [-1.06407289, -0.61527217,  1.00912225,  0.17989166],\n",
       "       [-1.29599811, -1.48799864, -2.34066115, -1.08193832],\n",
       "       [ 0.16513075, -0.17890893, -0.17725937, -0.05737552],\n",
       "       [-0.87853272, -0.31224214,  0.52061217,  0.53579242],\n",
       "       [-0.48425985, -1.08799901, -1.85215107, -1.28685088],\n",
       "       [-1.20322802, -1.42739264,  0.03210209, -1.1250778 ],\n",
       "       [-0.22914211, -0.11830292, -0.38662083, -0.60740397]])"
      ]
     },
     "execution_count": 33,
     "metadata": {},
     "output_type": "execute_result"
    }
   ],
   "source": [
    "X_scaled"
   ]
  },
  {
   "cell_type": "markdown",
   "id": "b975297c-cfdd-4c86-bc36-3674fb7bcdb5",
   "metadata": {},
   "source": [
    "### PCA Model implementation"
   ]
  },
  {
   "cell_type": "code",
   "execution_count": 43,
   "id": "9b06ee0e-2ff8-4c58-b0d6-8b6f045bb8d2",
   "metadata": {},
   "outputs": [],
   "source": [
    "from sklearn.decomposition import PCA"
   ]
  },
  {
   "cell_type": "code",
   "execution_count": 44,
   "id": "e39f2280-c04e-4928-949c-c7d8f2080216",
   "metadata": {},
   "outputs": [],
   "source": [
    "pca=PCA(n_components=2)"
   ]
  },
  {
   "cell_type": "code",
   "execution_count": 45,
   "id": "30b2378a-2594-4d88-8610-3f2e3799eac1",
   "metadata": {},
   "outputs": [
    {
     "data": {
      "text/plain": [
       "array([[ 0.98556588,  1.13339238],\n",
       "       [ 1.95013775,  1.07321326],\n",
       "       [ 1.76316354, -0.74595678],\n",
       "       [-0.14142029,  1.11979678],\n",
       "       [ 2.52398013, -1.54293399],\n",
       "       [ 1.51456286, -0.98755509],\n",
       "       [-1.35864746, -1.08892789],\n",
       "       [ 0.04770931, -0.32535892],\n",
       "       [ 3.01304227,  0.03922851],\n",
       "       [ 1.63928304,  1.2789424 ],\n",
       "       [-0.91265715, -1.57046001],\n",
       "       [-1.63979985,  0.21097292],\n",
       "       [ 1.37891072, -0.68184119],\n",
       "       [-0.50546136, -0.15156254],\n",
       "       [-2.25364607, -0.10405407],\n",
       "       [-0.79688112, -0.2701647 ],\n",
       "       [-0.75085907,  0.95844029],\n",
       "       [ 1.56481798,  0.87105466],\n",
       "       [-2.39682949,  0.37639158],\n",
       "       [ 1.76336939,  0.42765519],\n",
       "       [-0.48616629, -1.4744965 ],\n",
       "       [ 2.10844115, -0.15539682],\n",
       "       [-1.69268181, -0.63226125],\n",
       "       [ 0.99649446,  2.39379599],\n",
       "       [ 0.69678733, -0.26335479],\n",
       "       [-1.18545191,  0.53687437],\n",
       "       [-1.26563654, -0.19395373],\n",
       "       [ 2.87439454, -0.7756002 ],\n",
       "       [-2.38391541, -0.01808229],\n",
       "       [ 0.18156611, -1.44950571],\n",
       "       [ 1.98002375,  0.14284878],\n",
       "       [ 1.68257738, -0.82318414],\n",
       "       [ 1.12337861,  2.22800338],\n",
       "       [-2.99222562,  0.59911882],\n",
       "       [-0.22596542, -0.74223824],\n",
       "       [-0.31178286, -0.28785421],\n",
       "       [ 0.05912208, -0.54141145],\n",
       "       [-0.88841582, -0.57110035],\n",
       "       [-0.86377206, -1.49197842],\n",
       "       [ 1.3207238 ,  1.93340466],\n",
       "       [-1.98777484,  0.82334324],\n",
       "       [ 0.99974168,  0.8602513 ],\n",
       "       [ 1.35513821, -0.41248082],\n",
       "       [-0.55056526, -1.47150461],\n",
       "       [-2.80141174,  1.40228806],\n",
       "       [-0.09633491,  0.19973529],\n",
       "       [-0.21690338, -0.97012418],\n",
       "       [-2.10858541,  1.4248467 ],\n",
       "       [-2.07971417, -0.61126862],\n",
       "       [-0.62942666,  0.32101297]])"
      ]
     },
     "execution_count": 45,
     "metadata": {},
     "output_type": "execute_result"
    }
   ],
   "source": [
    "pca.fit_transform(X_scaled)"
   ]
  },
  {
   "cell_type": "code",
   "execution_count": 46,
   "id": "c1719441-20e2-487f-8195-21f1f1ab7512",
   "metadata": {},
   "outputs": [],
   "source": [
    "explained_variance=pca.explained_variance_ratio_"
   ]
  },
  {
   "cell_type": "code",
   "execution_count": 47,
   "id": "9394acf5-898e-45e8-9a06-df4b82617dfb",
   "metadata": {},
   "outputs": [
    {
     "data": {
      "text/plain": [
       "array([0.62006039, 0.24744129])"
      ]
     },
     "execution_count": 47,
     "metadata": {},
     "output_type": "execute_result"
    }
   ],
   "source": [
    "explained_variance"
   ]
  },
  {
   "cell_type": "code",
   "execution_count": 48,
   "id": "fe6955ef-e628-4dac-b1c4-9151375786b0",
   "metadata": {},
   "outputs": [
    {
     "name": "stdout",
     "output_type": "stream",
     "text": [
      "Variance Explained by PC1: 0.6200603947873737\n",
      "Variance Explained by PC2: 0.24744128813496025\n"
     ]
    }
   ],
   "source": [
    "print(\"Variance Explained by PC1:\", explained_variance[0])\n",
    "print(\"Variance Explained by PC2:\", explained_variance[1])"
   ]
  },
  {
   "cell_type": "code",
   "execution_count": null,
   "id": "7ea41032-727c-4403-9db4-615d74c7200e",
   "metadata": {},
   "outputs": [],
   "source": []
  },
  {
   "cell_type": "markdown",
   "id": "6fa99143-595f-487a-a9d6-945e0208b117",
   "metadata": {},
   "source": [
    "# Q3. Why Dimension Reduction is an Important Concept in Data Science?"
   ]
  },
  {
   "cell_type": "markdown",
   "id": "32cf4444-0422-466d-8e24-aa55c92ad3fb",
   "metadata": {},
   "source": [
    "### Answer:-"
   ]
  },
  {
   "cell_type": "markdown",
   "id": "087eddec-2ae5-47f0-ac7d-7e47cf8d5889",
   "metadata": {},
   "source": [
    "Dimension reduction is a fundamental concept in data science and machine learning that involves reducing the number of features or variables in a dataset while preserving as much valuable information as possible. This reduction is achieved by transforming the data from a high-dimensional space to a lower-dimensional space.\n",
    "\n",
    "Here are detailed explanations of why dimension reduction is important in data science:\n",
    "\n",
    "#### Curse of Dimensionality:\n",
    "\n",
    "1. The Curse of Dimensionality refers to the exponential increase in the volume of data as the number of features or dimensions increases. This leads to data sparsity, making it challenging to obtain enough data points to adequately cover the feature space.\n",
    "\n",
    "2. In high-dimensional spaces, data points become sparse, and it becomes difficult to find meaningful patterns, relationships, or clusters in the data.\n",
    "\n",
    "#### Overfitting Prevention:\n",
    "\n",
    "1. High-dimensional datasets are prone to overfitting, where machine learning models perform exceptionally well on the training data but poorly on unseen/test data.\n",
    "\n",
    "2. Reducing dimensionality can help mitigate overfitting by simplifying the model and reducing its complexity. This results in models that generalize better to new, unseen data.\n",
    "\n",
    "#### Improved Model Efficiency:\n",
    "\n",
    "1. High-dimensional datasets require more computational resources and time to train and deploy machine learning models.\n",
    "2. Dimension reduction can lead to more efficient models, which are faster to train and use fewer resources.\n",
    "\n",
    "#### Visualization and Interpretation:\n",
    "\n",
    "1. Dimension reduction techniques, such as Principal Component Analysis (PCA) allow data scientists to project high-dimensional data into lower-dimensional spaces (e.g., 2D or 3D), making it easier to visualize.\n",
    "\n",
    "2. Lower-dimensional visualizations enable the exploration of data patterns, clusters, and outliers, aiding in data interpretation.\n",
    "\n",
    "#### Feature Engineering:\n",
    "\n",
    "1. Dimension reduction can be viewed as a form of feature engineering. It transforms the original features into a new set of features (e.g., principal components) that capture the most critical information in the data.\n",
    "\n",
    "2. These transformed features often perform better in machine learning models, as they may reduce noise and emphasize the essential data characteristics.\n",
    "\n",
    "#### Data Compression:\n",
    "\n",
    "1. In some applications, dimension reduction is used for data compression. By representing data in a lower-dimensional space, you can reduce storage requirements while retaining most of the essential information.\n",
    "\n",
    "2. This is particularly useful when dealing with large datasets or when memory and storage resources are limited.\n",
    "\n",
    "#### Interpretability:\n",
    "\n",
    "1. Lower-dimensional data is often easier to interpret than high-dimensional data. It allows data scientists to focus on a subset of features that are most relevant to the problem at hand.\n",
    "\n",
    "2. It can help identify the most influential variables in a dataset, aiding in feature selection and decision-making.\n",
    "\n",
    "#### Reduced Complexity:\n",
    "\n",
    "1. Simplifying the data by reducing dimensionality can make it easier to communicate findings and results to stakeholders who may not have expertise in high-dimensional spaces.\n",
    "\n",
    "2. It can enhance the clarity of data-driven insights and recommendations.\n",
    "\n",
    "#### Data Preprocessing:\n",
    "\n",
    "1. Dimension reduction is frequently used as a preprocessing step before applying other machine learning techniques, such as clustering, classification, or regression.\n",
    "\n",
    "2. It can lead to more robust and accurate models by removing noise, redundancy, or multicollinearity among features.\n",
    "\n",
    "#### Collinearity Reduction:\n",
    "\n",
    "1. Dimension reduction techniques can mitigate multicollinearity, a condition where features are highly correlated with each other. Multicollinearity can lead to unstable and less interpretable models in regression analysis.\n",
    "\n",
    "#### Big Data and Computational Efficiency:\n",
    "\n",
    "1. In the era of big data, dimension reduction becomes even more critical. Handling massive datasets with many features can be computationally challenging.\n",
    "\n",
    "2. Reducing dimensionality can make analysis and modeling more feasible and scalable."
   ]
  },
  {
   "cell_type": "code",
   "execution_count": null,
   "id": "ac626c85-89af-4bda-8077-e679f4edc672",
   "metadata": {},
   "outputs": [],
   "source": []
  },
  {
   "cell_type": "markdown",
   "id": "b96ead6e-cc0d-44eb-a1d8-8ee8adbb3119",
   "metadata": {},
   "source": [
    "# Q4. Explore Other Dimension Reduction Methods other than PCA. Explain it."
   ]
  },
  {
   "cell_type": "markdown",
   "id": "fd1c5acf-46b0-4637-ad7c-4dadf0d03b10",
   "metadata": {},
   "source": [
    "### Answer:-"
   ]
  },
  {
   "cell_type": "markdown",
   "id": "75ecc47a-ba49-41db-994d-c8ccf5a8a06f",
   "metadata": {},
   "source": [
    "### 1. t-Distributed Stochastic Neighbor Embedding (t-SNE):\n",
    "\n",
    "#### Use Case:\n",
    "Visualization of high-dimensional data.\n",
    "#### Explanation:\n",
    "t-SNE is a technique for visualizing high-dimensional data in a lower-dimensional space, typically 2D or 3D. It is particularly useful when you want to explore and understand the local structure of your data. t-SNE models pairwise similarities between data points in both the high-dimensional and lower-dimensional spaces, optimizing to keep similar points close and dissimilar points apart. It is effective at revealing clusters and patterns in the data, making it a powerful tool for exploratory data analysis and visualization.\n",
    "\n",
    "### 2. Isomap:\n",
    "\n",
    "#### Use Case:\n",
    "Preserving the intrinsic geometry of data.\n",
    "#### Explanation:\n",
    "Isomap is a manifold learning technique used to uncover the intrinsic structure or geometry of high-dimensional data. It does this by constructing a graph where data points are nodes, and edges represent pairwise distances. Isomap then computes the geodesic distances (shortest paths) between points on the graph, which reflect the underlying geometry of the data. The algorithm aims to find a lower-dimensional embedding that preserves these geodesic distances, allowing it to reveal the intrinsic shape of the data, such as nonlinear relationships or clusters.\n",
    "\n",
    "### 3. Locally Linear Embedding (LLE):\n",
    "\n",
    "#### Use Case:\n",
    "Preserving local linear relationships within the data.\n",
    "#### Explanation:\n",
    "LLE is another manifold learning technique that focuses on preserving local linear relationships among data points. It works by representing each data point as a weighted sum of its nearest neighbors, effectively capturing the local structure of the data. LLE then seeks to find a lower-dimensional representation of the data where these local relationships are maintained. LLE is useful for uncovering nonlinear patterns in data, making it suitable for tasks like dimensionality reduction in nonlinear manifolds.\n",
    "\n",
    "### 4. Linear Discriminant Analysis (LDA):\n",
    "\n",
    "#### Use Case:\n",
    "Feature extraction and classification tasks.\n",
    "#### Explanation:\n",
    "LDA is a supervised dimensionality reduction technique, primarily used in classification problems. It aims to find a lower-dimensional space where the classes of data points are well-separated. LDA does this by maximizing the ratio of the between-class variance to the within-class variance. It identifies the directions (linear combinations of features) that best discriminate between classes. LDA is particularly effective when you have labeled data and want to extract features that enhance class separability.\n",
    "\n",
    "### 5. Autoencoders:\n",
    "\n",
    "#### Use Case:\n",
    "Nonlinear dimensionality reduction and feature learning.\n",
    "#### Explanation:\n",
    "Autoencoders are neural networks used for unsupervised dimensionality reduction and feature learning. They consist of an encoder network that maps high-dimensional input data to a lower-dimensional latent space and a decoder network that reconstructs the input data from the latent space. Autoencoders can capture complex, nonlinear relationships in the data and are trained to minimize reconstruction errors. The latent space representation can be used for dimensionality reduction or feature extraction tasks.\n",
    "\n",
    "### 6. Independent Component Analysis (ICA):\n",
    "\n",
    "#### Use Case:\n",
    "Separating mixed signals into their independent sources.\n",
    "#### Explanation:\n",
    "ICA is a technique used to separate mixed signals into their original, statistically independent sources. It is often applied in signal processing and blind source separation tasks. In the context of dimensionality reduction, ICA can be used to identify underlying factors or sources of variation in data. Unlike PCA, which finds orthogonal components based on variance, ICA aims to find components that are as statistically independent as possible.\n",
    "\n",
    "### 7. Non-Negative Matrix Factorization (NMF):\n",
    "\n",
    "#### Use Case:\n",
    "Identifying underlying patterns or topics in data.\n",
    "#### Explanation:\n",
    "NMF is a matrix factorization technique that decomposes a high-dimensional data matrix into two lower-dimensional matrices, typically with non-negative values. It is often used in applications such as text mining and image analysis to identify hidden patterns or topics within the data. NMF enforces non-negativity constraints, making it interpretable for tasks where features should be non-negative, such as topic modeling."
   ]
  },
  {
   "cell_type": "code",
   "execution_count": null,
   "id": "6c083a01-1637-4158-bbbe-d500b252e4ae",
   "metadata": {},
   "outputs": [],
   "source": []
  }
 ],
 "metadata": {
  "kernelspec": {
   "display_name": "Python 3 (ipykernel)",
   "language": "python",
   "name": "python3"
  },
  "language_info": {
   "codemirror_mode": {
    "name": "ipython",
    "version": 3
   },
   "file_extension": ".py",
   "mimetype": "text/x-python",
   "name": "python",
   "nbconvert_exporter": "python",
   "pygments_lexer": "ipython3",
   "version": "3.10.8"
  }
 },
 "nbformat": 4,
 "nbformat_minor": 5
}
